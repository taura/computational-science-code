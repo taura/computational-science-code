{
 "cells": [
  {
   "cell_type": "markdown",
   "metadata": {
    "kernel": "Python 3 (ipykernel)",
    "nbgrader": {
     "grade": false,
     "grade_id": "c-001",
     "locked": true,
     "schema_version": 3,
     "solution": false,
     "task": false
    }
   },
   "source": [
    "\n",
    "#  高性能プログラミングと性能測定(4) --- CPU SIMDプログラミング"
   ]
  },
  {
   "cell_type": "markdown",
   "metadata": {
    "kernel": "Python 3 (ipykernel)",
    "nbgrader": {
     "grade": false,
     "grade_id": "c-002",
     "locked": true,
     "schema_version": 3,
     "solution": false,
     "task": false
    }
   },
   "source": [
    "# 1. 環境設定\n",
    "* Jupyter上でコンパイラを起動する, およびジョブ投入を簡便にするための設定\n",
    "* これは各Jupyterノートブックごとに行う\n",
    "* 同じノートブックでもログアウトしたりカーネルを再スタートしたときなどは失われるのでそのたびに行うこと\n",
    "\n",
    "## 1-1. コンパイラ\n",
    "* この演習環境では, 同じコンパイラでCPUもGPUもサポートしているという理由で, NVIDIA HPC SDKを使う\n",
    "* コマンド名:\n",
    "  * C: `nvc`\n",
    "  * C++: `nvc++`\n",
    "* コンパイルオプション:\n",
    "  * `-mp=multicore` をつけると CPU用のOpenMPがサポートされる\n",
    "  * `-mp=gpu` をつけると GPU用のOpenMPがサポートされる (次週)\n",
    "* 上記のコマンドを実行できるようにするために, 以下を実行する\n",
    "  * なお以下はコマンドライン端末上では `module load nvidia` とするのが本来のやり方だがJupyter上で`module`コマンドが動かないのでやむなく以下のようにする"
   ]
  },
  {
   "cell_type": "code",
   "execution_count": null,
   "metadata": {
    "kernel": "Python 3 (ipykernel)",
    "nbgrader": {
     "grade": false,
     "grade_id": "c-003",
     "locked": false,
     "schema_version": 3,
     "solution": false,
     "task": false
    }
   },
   "outputs": [],
   "source": [
    "import os\n",
    "paths = os.environ[\"PATH\"].split(\":\")\n",
    "nvc_path=\"/work/opt/local/x86_64/cores/nvidia/23.3/Linux_x86_64/23.3/compilers/bin\"\n",
    "if nvc_path not in paths:\n",
    "    os.environ[\"PATH\"] = \":\".join([nvc_path] + paths)"
   ]
  },
  {
   "cell_type": "markdown",
   "metadata": {
    "kernel": "Python 3 (ipykernel)",
    "nbgrader": {
     "grade": false,
     "grade_id": "c-004",
     "locked": true,
     "schema_version": 3,
     "solution": false,
     "task": false
    }
   },
   "source": [
    "\n",
    "## 1-2. ジョブ投入を簡便に行うスクリプト"
   ]
  },
  {
   "cell_type": "code",
   "execution_count": null,
   "metadata": {
    "kernel": "Python 3 (ipykernel)",
    "nbgrader": {
     "grade": false,
     "grade_id": "c-005",
     "locked": true,
     "schema_version": 3,
     "solution": false,
     "task": false
    }
   },
   "outputs": [],
   "source": [
    "import sys\n",
    "submit_path = \"/work/gt47/share/taura/computational-science-code/00submit\"\n",
    "if submit_path not in sys.path:\n",
    "    sys.path.append(submit_path)\n",
    "import submit"
   ]
  },
  {
   "cell_type": "markdown",
   "metadata": {
    "kernel": "Python 3 (ipykernel)",
    "nbgrader": {
     "grade": false,
     "grade_id": "c-006",
     "locked": true,
     "schema_version": 3,
     "solution": false,
     "task": false
    }
   },
   "source": [
    "\n",
    "# 2. SIMD命令とは\n",
    "* SIMDはSingle Instruction Multiple Dataの略\n",
    "* その名の通り1命令 (Single Instruction) で多数のデータ (Multiple Data) に対して同一の演算を行う命令\n",
    "* 最近のIntel CPUは最大で512 bit, 具体的には\n",
    "  * 32 bit (4バイト)データ $\\times$ 16個\n",
    "  * 64 bit (8バイト)データ $\\times$ 8個\n",
    "に対して演算を行う命令を備えている\n",
    "* 「同じ命令を異なるデータに対して施す」という状況が典型的に現れるのは, やはりforループである\n",
    "* forループの連続する何回(例えば8回や16回)かの繰り返しをSIMD命令を用いて同時に実行する\n",
    "* これを**SIMD化**または**ベクトル化**と呼ぶ\n",
    "  * SIMD命令を使うのだからSIMD化と呼ぶのが自然だが歴史的な理由でベクトル化と呼ぶことが多い\n",
    "* 以下のような単純なループは, コンパイラがベクトル化してくれる"
   ]
  },
  {
   "cell_type": "code",
   "execution_count": null,
   "metadata": {
    "kernel": "Python 3 (ipykernel)",
    "nbgrader": {
     "grade": false,
     "grade_id": "c-007",
     "locked": false,
     "schema_version": 3,
     "solution": false,
     "task": false
    }
   },
   "outputs": [],
   "source": [
    "%%writefile add.c\n",
    "void add(double * restrict x, double * restrict y, double * restrict z) {\n",
    "#pragma omp simd\n",
    "  for (int i = 0; i < 8; i++) {\n",
    "    z[i] = x[i] + y[i];\n",
    "  }\n",
    "}"
   ]
  },
  {
   "cell_type": "markdown",
   "metadata": {
    "kernel": "Python 3 (ipykernel)",
    "nbgrader": {
     "grade": false,
     "grade_id": "c-008",
     "locked": true,
     "schema_version": 3,
     "solution": false,
     "task": false
    }
   },
   "source": [
    "* 実際にどのようなコードにコンパイルされたかは, 以下のようなコマンドで確認できる"
   ]
  },
  {
   "cell_type": "code",
   "execution_count": null,
   "metadata": {
    "kernel": "Python 3 (ipykernel)",
    "nbgrader": {
     "grade": false,
     "grade_id": "c-009",
     "locked": false,
     "schema_version": 3,
     "solution": false,
     "task": false
    }
   },
   "outputs": [],
   "source": [
    "%%bash\n",
    "nvc -fast -Mkeepasm -Minfo -Mneginfo -c add.c"
   ]
  },
  {
   "cell_type": "markdown",
   "metadata": {
    "kernel": "Python 3 (ipykernel)",
    "nbgrader": {
     "grade": false,
     "grade_id": "c-010",
     "locked": true,
     "schema_version": 3,
     "solution": false,
     "task": false
    }
   },
   "source": [
    "* `-c` : 実行可能ファイルを生成せずオブジェクトファイル(`example_add.o`)まででコンパイルをやめる(`main`関数が存在しないため)\n",
    "* `-Mkeepasm` : その上で生成されたアセンブリ言語のファイル(`example_add.s`, `example_add.ll`)を残す\n",
    "* また, 以下のオプションではコンパイラがSIMD化に成功した, 失敗したことを報告してくれる\n",
    "  * `-Minfo`\n",
    "  * `-Mneginfo`"
   ]
  },
  {
   "cell_type": "markdown",
   "metadata": {
    "kernel": "Python 3 (ipykernel)",
    "nbgrader": {
     "grade": false,
     "grade_id": "c-011",
     "locked": true,
     "schema_version": 3,
     "solution": false,
     "task": false
    }
   },
   "source": [
    "* 生成されているファイルの確認(`example_add.s`がアセンブリコード)"
   ]
  },
  {
   "cell_type": "code",
   "execution_count": null,
   "metadata": {
    "kernel": "Python 3 (ipykernel)",
    "nbgrader": {
     "grade": false,
     "grade_id": "c-012",
     "locked": false,
     "schema_version": 3,
     "solution": false,
     "task": false
    }
   },
   "outputs": [],
   "source": [
    "%%bash\n",
    "ls"
   ]
  },
  {
   "cell_type": "markdown",
   "metadata": {
    "kernel": "Python 3 (ipykernel)",
    "nbgrader": {
     "grade": false,
     "grade_id": "c-013",
     "locked": true,
     "schema_version": 3,
     "solution": false,
     "task": false
    }
   },
   "source": [
    "* `add.s` アセンブリコードの確認"
   ]
  },
  {
   "cell_type": "code",
   "execution_count": null,
   "metadata": {
    "kernel": "Python 3 (ipykernel)",
    "nbgrader": {
     "grade": false,
     "grade_id": "c-014",
     "locked": false,
     "schema_version": 3,
     "solution": false,
     "task": false
    }
   },
   "outputs": [],
   "source": [
    "%%bash\n",
    "cat add.s"
   ]
  },
  {
   "cell_type": "markdown",
   "metadata": {
    "kernel": "Python 3 (ipykernel)",
    "nbgrader": {
     "grade": false,
     "grade_id": "c-015",
     "locked": true,
     "schema_version": 3,
     "solution": false,
     "task": false
    }
   },
   "source": [
    "* 関数名`add`に対応して, `add:` というラベルから始まる命令列が生成された命令列\n",
    "* `retq` が関数の終了で, そこまでを抜粋すると以下\n",
    "```\n",
    "add:                                    # @add\n",
    ".Lfunc_begin0:\n",
    "\t.cfi_sections .debug_frame\n",
    "\t.cfi_startproc\n",
    "# 3. %bb.0:                                # %L.entry\t.file\t1 \"/home/csi/computational-science-code/01jupyter/notebooks/source/cs04/add.c\"\n",
    "\t.loc\t1 4 1 prologue_end              # add.c:4:1\n",
    "\tvmovupd\t(%rsi), %ymm0\n",
    "\tvaddpd\t(%rdi), %ymm0, %ymm0\n",
    "\tvmovupd\t%ymm0, (%rdx)\n",
    "\tvmovupd\t32(%rsi), %ymm0\n",
    "\tvaddpd\t32(%rdi), %ymm0, %ymm0\n",
    "\tvmovupd\t%ymm0, 32(%rdx)\n",
    ".Ltmp0:\n",
    "\t.loc\t1 6 1                           # add.c:6:1\n",
    "\tvzeroupper\n",
    "\tretq\n",
    "```\n",
    "* `.cfi_..., .file, .loc`などは命令ではない\n",
    "* その他不要な部分を省略すると以下となる\n",
    "```\n",
    "add:                                    # @add\n",
    "\tvmovupd\t(%rsi), %ymm0\n",
    "\tvaddpd\t(%rdi), %ymm0, %ymm0\n",
    "\tvmovupd\t%ymm0, (%rdx)\n",
    "\tvmovupd\t32(%rsi), %ymm0\n",
    "\tvaddpd\t32(%rdi), %ymm0, %ymm0\n",
    "\tvmovupd\t%ymm0, 32(%rdx)\n",
    "\tvzeroupper\n",
    "\tretq\n",
    "```\n",
    "  * `vmovupd (%rsi), %ymm0` : SIMDロード命令\n",
    "  * `vaddpd (%rdi), %ymm0, %ymm0` : SIMD加算命令\n",
    "  * `vmovupd %ymm0, 32(%rdx)` : SIMDストア命令\n",
    "などが使われている\n",
    "* なお, \n",
    "  * 命令の最後の2文字 `pd` は _packed double precision_ の略であり, _p_ がSIMD命令であることの証し, _d_ は64 bitの浮動小数点(`double`)が対象であることの証し\n",
    "  * 命令に使われているレジスタ(`%ymm0`) は256 bitのレジスタであり, `double` であれば4つ分, もともとのコードは8要素に対する演算だったのでそれぞれが2回ずつ行われている\n",
    "* 擬似的にはもともとのループを以下のように実行していることに相当する\n",
    "```\n",
    "z[0:4] = x[0:4] + y[0:4]; // SIMD命令\n",
    "z[4:8] = x[4:8] + y[4:8]; // SIMD命令\n",
    "```\n",
    "* 一般にforループをベクトル化するにあたってコンパイラが試みることを擬似的に書くと, \n",
    "```\n",
    "for (i = 0; i < n; i++) {\n",
    "  A(i);\n",
    "  B(i);\n",
    "   ...\n",
    "}  \n",
    "```\n",
    "というfor文 (`A(i), B(i)`は`i`を含んだ任意の文ということであり必ずしも関数呼び出しという意味ではない) を\n",
    "```\n",
    "for (i = 0; i < n; i += nl) {\n",
    "  A(i:i+nl);\n",
    "  B(i:i+nl);\n",
    "    ...\n",
    "}  \n",
    "```\n",
    "のように実行することである(`nl`はSIMD命令で一度に実行できる繰り返しの数で, 2, 4, 8, 16など)\n",
    "* なおこの実行が正しい(SIMD命令を使わない場合と同じ結果になる)ためには, 繰り返しの実行順序を入れ替えてもよいという条件が必要で, それは並列化が合法な条件とほぼ同じだと考えれば良い"
   ]
  },
  {
   "cell_type": "markdown",
   "metadata": {
    "kernel": "Python 3 (ipykernel)",
    "nbgrader": {
     "grade": false,
     "grade_id": "c-016",
     "locked": true,
     "schema_version": 3,
     "solution": false,
     "task": false
    }
   },
   "source": [
    "\n",
    "# 4. SIMDプログラミングの方法\n",
    "* ベクトル化(SIMD命令を利用する)にはいくつかの方法がある\n",
    "\n",
    "1. **自動SIMD化:** プログラマはSIMD命令のことをあまり意識せず普通のループを書き, コンパイラがそれをSIMD命令に変換してくれることを期待する\n",
    "1. OpenMP `#pragma simd`: 上記と実質的に同じだが, 実行の順番を入れ替えても良いことをプログラマが明示的にコンパイラに伝える\n",
    "1. **ベクトル型拡張とintrinsics:** 複数の値をまとめたデータやそれに対する演算を明示的に扱う\n",
    "1. **アセンブリ言語:**  自分でアセンブリ言語を書く\n",
    "\n",
    "* 1.や2.で話がすむのが理想だが, 実際のところはなかなかそうはいかない. 色々工夫をしてもなかなかうまくいかない, 速くならないとイライラすることになる\n",
    "* 4.は最後の手段\n",
    "* 以下では多少手間はかかるものの, 努力に対する効果がある程度保証されやすい3.の方法について述べる\n"
   ]
  },
  {
   "cell_type": "markdown",
   "metadata": {
    "kernel": "Python 3 (ipykernel)",
    "nbgrader": {
     "grade": false,
     "grade_id": "c-017",
     "locked": true,
     "schema_version": 3,
     "solution": false,
     "task": false
    }
   },
   "source": [
    "\n",
    "# 5. ベクトル型拡張\n",
    "## 5-1. ベクトル型の定義\n",
    "* ベクトル型は複数の要素を束ねた一つの値 --- Single Instruction Multiple Dataの \"Multiple Data\" に相当する値 --- を表す型である\n",
    "* ユーザがそのような型を定義することもできる(多くのコンパイラでサポートされているあまり知られていない機能)\n",
    "* 例えば以下で `double`を 8つ (512 bit分) まとめた一つのベクトル型 `doublev` を定義している\n",
    "* なお, ベクトル型する前の型(`double`など)を区別して, `スカラ型`と呼ぶことがある\n"
   ]
  },
  {
   "cell_type": "code",
   "execution_count": null,
   "metadata": {
    "kernel": "Python 3 (ipykernel)",
    "nbgrader": {
     "grade": false,
     "grade_id": "c-018",
     "locked": false,
     "schema_version": 3,
     "solution": false,
     "task": false
    }
   },
   "outputs": [],
   "source": [
    "%%writefile doublev.c\n",
    "enum { nl = 8 };\n",
    "typedef double doublev __attribute__((vector_size(sizeof(double) * nl),\n",
    "                                      aligned(sizeof(double))));"
   ]
  },
  {
   "cell_type": "markdown",
   "metadata": {
    "kernel": "Python 3 (ipykernel)",
    "nbgrader": {
     "grade": false,
     "grade_id": "c-019",
     "locked": true,
     "schema_version": 3,
     "solution": false,
     "task": false
    }
   },
   "source": [
    "\n",
    "## 5-2. ベクトル型に対する演算\n",
    "* そのようにして定義された型は`int`, `double`などと同様, 変数(関数の引数含む)や関数返り値の型として使える\n",
    "* また, (ここが肝心だが), `+` や `*` などの見慣れた記法で演算が書け, それらは **ほぼ確実に** SIMD命令に変換される\n",
    "* 以下は `double` 8つ分の掛け算と加算を行う関数である\n",
    "* 一見して普通の `double` を対象とする関数と非常に似ていることに注意\n"
   ]
  },
  {
   "cell_type": "code",
   "execution_count": null,
   "metadata": {
    "kernel": "Python 3 (ipykernel)",
    "nbgrader": {
     "grade": false,
     "grade_id": "c-020",
     "locked": false,
     "schema_version": 3,
     "solution": false,
     "task": false
    }
   },
   "outputs": [],
   "source": [
    "%%writefile doublev_fma.c\n",
    "enum { nl = 8 };\n",
    "typedef double doublev __attribute__((vector_size(sizeof(double) * nl), // double x 8\n",
    "                                      aligned(sizeof(double))));\n",
    "doublev doublev_fma(doublev a, doublev b, doublev c) {\n",
    "  return a * b + c;\n",
    "}"
   ]
  },
  {
   "cell_type": "code",
   "execution_count": null,
   "metadata": {
    "kernel": "Python 3 (ipykernel)",
    "nbgrader": {
     "grade": false,
     "grade_id": "c-021",
     "locked": false,
     "schema_version": 3,
     "solution": false,
     "task": false
    }
   },
   "outputs": [],
   "source": [
    "%%bash\n",
    "nvc -fast -Mkeepasm -Minfo -Mneginfo -c doublev_fma.c"
   ]
  },
  {
   "cell_type": "code",
   "execution_count": null,
   "metadata": {
    "kernel": "Python 3 (ipykernel)",
    "nbgrader": {
     "grade": false,
     "grade_id": "c-022",
     "locked": false,
     "schema_version": 3,
     "solution": false,
     "task": false
    }
   },
   "outputs": [],
   "source": [
    "%%bash\n",
    "ls"
   ]
  },
  {
   "cell_type": "code",
   "execution_count": null,
   "metadata": {
    "kernel": "Python 3 (ipykernel)",
    "nbgrader": {
     "grade": false,
     "grade_id": "c-023",
     "locked": false,
     "schema_version": 3,
     "solution": false,
     "task": false
    }
   },
   "outputs": [],
   "source": [
    "%%bash\n",
    "cat doublev_fma.s"
   ]
  },
  {
   "cell_type": "markdown",
   "metadata": {
    "kernel": "Python 3 (ipykernel)",
    "nbgrader": {
     "grade": false,
     "grade_id": "c-024",
     "locked": true,
     "schema_version": 3,
     "solution": false,
     "task": false
    }
   },
   "source": [
    "* 関係するところだけを抜粋すると以下\n",
    "```\n",
    "doublev_fma:                            # @doublev_fma\n",
    "\tvfmadd213pd\t%zmm2, %zmm1, %zmm0     # zmm0 = (zmm1 * zmm0) + zmm2\n",
    "\tretq\n",
    "```\n",
    "* 今回は`%zmm`という512 bitのレジスタ --- つまり512 bitのSIMD命令 --- が使われている\n",
    "* 初めに示した`add`では256 bitの命令しか使われておらず, なぜこれが使われなかったのかは不明\n",
    "* 奇しくも, これがベクトル型拡張を使う理由のひとつにもなる"
   ]
  },
  {
   "cell_type": "markdown",
   "metadata": {
    "kernel": "Python 3 (ipykernel)",
    "nbgrader": {
     "grade": false,
     "grade_id": "c-025",
     "locked": true,
     "schema_version": 3,
     "solution": false,
     "task": false
    }
   },
   "source": [
    "\n",
    "* また, 普通の`double`型と`doublev`型を混ぜた演算も行うことができる\n"
   ]
  },
  {
   "cell_type": "code",
   "execution_count": null,
   "metadata": {
    "kernel": "Python 3 (ipykernel)",
    "nbgrader": {
     "grade": false,
     "grade_id": "c-026",
     "locked": false,
     "schema_version": 3,
     "solution": false,
     "task": false
    }
   },
   "outputs": [],
   "source": [
    "%%writefile doublev_fma_mixed.c\n",
    "enum { nl = 8 };\n",
    "typedef double doublev __attribute__((vector_size(sizeof(double) * nl),\n",
    "                                      aligned(sizeof(double))));\n",
    "doublev doublev_fma_mixed(double a, doublev b, doublev c) {\n",
    "  return a * b + c;\n",
    "}"
   ]
  },
  {
   "cell_type": "code",
   "execution_count": null,
   "metadata": {
    "kernel": "Python 3 (ipykernel)",
    "nbgrader": {
     "grade": false,
     "grade_id": "c-027",
     "locked": false,
     "schema_version": 3,
     "solution": false,
     "task": false
    }
   },
   "outputs": [],
   "source": [
    "%%bash\n",
    "nvc -fast -Mkeepasm -Minfo -Mneginfo -c doublev_fma_mixed.c"
   ]
  },
  {
   "cell_type": "code",
   "execution_count": null,
   "metadata": {
    "kernel": "Python 3 (ipykernel)",
    "nbgrader": {
     "grade": false,
     "grade_id": "c-028",
     "locked": false,
     "schema_version": 3,
     "solution": false,
     "task": false
    }
   },
   "outputs": [],
   "source": [
    "%%bash\n",
    "ls"
   ]
  },
  {
   "cell_type": "code",
   "execution_count": null,
   "metadata": {
    "kernel": "Python 3 (ipykernel)",
    "nbgrader": {
     "grade": false,
     "grade_id": "c-029",
     "locked": false,
     "schema_version": 3,
     "solution": false,
     "task": false
    }
   },
   "outputs": [],
   "source": [
    "%%bash\n",
    "cat doublev_fma_mixed.s"
   ]
  },
  {
   "cell_type": "markdown",
   "metadata": {
    "kernel": "Python 3 (ipykernel)",
    "nbgrader": {
     "grade": false,
     "grade_id": "c-030",
     "locked": true,
     "schema_version": 3,
     "solution": false,
     "task": false
    }
   },
   "source": [
    "* 関係するところを抜粋すると以下\n",
    "```\n",
    "doublev_fma_mixed:                      # @doublev_fma_mixed\n",
    "\tvbroadcastsd\t%xmm0, %zmm0\n",
    "\tvfmadd213pd\t%zmm2, %zmm1, %zmm0     # zmm0 = (zmm1 * zmm0) + zmm2\n",
    "\tretq\n",
    "```\n",
    "* `vbroadcastsd %xmm0, %zmm0`は1つの`double`型の値(`%xmm0`)を8つ分, `%zmm0`に格納するもの"
   ]
  },
  {
   "cell_type": "markdown",
   "metadata": {
    "kernel": "Python 3 (ipykernel)",
    "nbgrader": {
     "grade": false,
     "grade_id": "c-031",
     "locked": true,
     "schema_version": 3,
     "solution": false,
     "task": false
    }
   },
   "source": [
    "\n",
    "* なおベクトル型の大きさ(上記の`nl`)はCPUでサポートされているSIMD命令の幅(512 bitなど)に合わせるのが普通だが, その何倍かの値を指定することも意味がある\n",
    "* その場合, ひとつのベクトル型が複数のSIMDレジスタに分けて格納される\n"
   ]
  },
  {
   "cell_type": "code",
   "execution_count": null,
   "metadata": {
    "kernel": "Python 3 (ipykernel)",
    "nbgrader": {
     "grade": false,
     "grade_id": "c-032",
     "locked": false,
     "schema_version": 3,
     "solution": false,
     "task": false
    }
   },
   "outputs": [],
   "source": [
    "%%writefile doublev_fma16.c\n",
    "enum { nl = 16 };\n",
    "typedef double doublev __attribute__((vector_size(sizeof(double) * nl),\n",
    "                                      aligned(sizeof(double))));\n",
    "doublev doublev_fma16(doublev a, doublev b, doublev c) {\n",
    "  return a * b + c;\n",
    "}"
   ]
  },
  {
   "cell_type": "code",
   "execution_count": null,
   "metadata": {
    "kernel": "Python 3 (ipykernel)",
    "nbgrader": {
     "grade": false,
     "grade_id": "c-033",
     "locked": false,
     "schema_version": 3,
     "solution": false,
     "task": false
    }
   },
   "outputs": [],
   "source": [
    "%%bash\n",
    "nvc -fast -Mkeepasm -Minfo -Mneginfo -c doublev_fma16.c"
   ]
  },
  {
   "cell_type": "code",
   "execution_count": null,
   "metadata": {
    "kernel": "Python 3 (ipykernel)",
    "nbgrader": {
     "grade": false,
     "grade_id": "c-034",
     "locked": false,
     "schema_version": 3,
     "solution": false,
     "task": false
    }
   },
   "outputs": [],
   "source": [
    "%%bash\n",
    "ls"
   ]
  },
  {
   "cell_type": "code",
   "execution_count": null,
   "metadata": {
    "kernel": "Python 3 (ipykernel)",
    "nbgrader": {
     "grade": false,
     "grade_id": "c-035",
     "locked": false,
     "schema_version": 3,
     "solution": false,
     "task": false
    }
   },
   "outputs": [],
   "source": [
    "%%bash\n",
    "cat doublev_fma16.s"
   ]
  },
  {
   "cell_type": "markdown",
   "metadata": {
    "kernel": "Python 3 (ipykernel)",
    "nbgrader": {
     "grade": false,
     "grade_id": "c-036",
     "locked": true,
     "schema_version": 3,
     "solution": false,
     "task": false
    }
   },
   "source": [
    "* 関係するところだけを抜粋すると以下\n",
    "```\n",
    "doublev_fma16:                          # @doublev_fma16\n",
    "\tvfmadd213pd\t%zmm4, %zmm2, %zmm0     # zmm0 = (zmm2 * zmm0) + zmm4\n",
    "\tvfmadd213pd\t%zmm5, %zmm3, %zmm1     # zmm1 = (zmm3 * zmm1) + zmm5\n",
    "\tretq\n",
    "```"
   ]
  },
  {
   "cell_type": "markdown",
   "metadata": {
    "kernel": "Python 3 (ipykernel)",
    "nbgrader": {
     "grade": false,
     "grade_id": "c-037",
     "locked": true,
     "schema_version": 3,
     "solution": false,
     "task": false
    }
   },
   "source": [
    "## 5-3. スカラ型 &lt;-&gt; ベクトル型\n",
    "* スカラ型からベクトル型を作るにはいくつかの方法がある\n",
    "\n",
    "1\\. 要素を明示的に並べる文法としてはCの配列と同様の文法 `{ a, b, c, ... }` が使える\n",
    "\n",
    "* 例: 以下は同じ要素(`u`) 8つからなるベクトル型の値を作る関数"
   ]
  },
  {
   "cell_type": "code",
   "execution_count": null,
   "metadata": {
    "kernel": "Python 3 (ipykernel)",
    "nbgrader": {
     "grade": false,
     "grade_id": "c-038",
     "locked": false,
     "schema_version": 3,
     "solution": false,
     "task": false
    }
   },
   "outputs": [],
   "source": [
    "%%writefile uniform.c\n",
    "enum { nl = 8 };\n",
    "typedef double doublev __attribute__((vector_size(sizeof(double) * nl),\n",
    "                                      aligned(sizeof(double))));\n",
    "doublev uniform(double u) {\n",
    "  doublev v = { u,u,u,u,u,u,u,u };\n",
    "  return v;\n",
    "}"
   ]
  },
  {
   "cell_type": "code",
   "execution_count": null,
   "metadata": {
    "kernel": "Python 3 (ipykernel)",
    "nbgrader": {
     "grade": false,
     "grade_id": "c-039",
     "locked": false,
     "schema_version": 3,
     "solution": false,
     "task": false
    }
   },
   "outputs": [],
   "source": [
    "%%bash\n",
    "nvc -fast -Mkeepasm -Minfo -Mneginfo -c uniform.c"
   ]
  },
  {
   "cell_type": "code",
   "execution_count": null,
   "metadata": {
    "kernel": "Python 3 (ipykernel)",
    "nbgrader": {
     "grade": false,
     "grade_id": "c-040",
     "locked": false,
     "schema_version": 3,
     "solution": false,
     "task": false
    }
   },
   "outputs": [],
   "source": [
    "%%bash\n",
    "ls"
   ]
  },
  {
   "cell_type": "code",
   "execution_count": null,
   "metadata": {
    "kernel": "Python 3 (ipykernel)",
    "nbgrader": {
     "grade": false,
     "grade_id": "c-041",
     "locked": false,
     "schema_version": 3,
     "solution": false,
     "task": false
    }
   },
   "outputs": [],
   "source": [
    "%%bash\n",
    "cat uniform.s"
   ]
  },
  {
   "cell_type": "markdown",
   "metadata": {
    "kernel": "Python 3 (ipykernel)",
    "nbgrader": {
     "grade": false,
     "grade_id": "c-042",
     "locked": true,
     "schema_version": 3,
     "solution": false,
     "task": false
    }
   },
   "source": [
    "* 関係するところを抜粋すると以下\n",
    "```\n",
    "uniform:                                # @uniform\n",
    "\tvbroadcastsd\t%xmm0, %zmm0\n",
    "\tretq\n",
    "```"
   ]
  },
  {
   "cell_type": "markdown",
   "metadata": {
    "kernel": "Python 3 (ipykernel)",
    "nbgrader": {
     "grade": false,
     "grade_id": "c-043",
     "locked": true,
     "schema_version": 3,
     "solution": false,
     "task": false
    }
   },
   "source": [
    "\n",
    "2\\. ベクトル型を配列のように使う\n",
    "\n",
    "  * ベクトル型データの各要素を`u[i] = ...`のようにセットすることができる\n",
    "  * 上記のように書くと何度も同じまたは似た式を書くのが煩わしい, 要素数を変えたときに変更が必要, などの問題があるが, この方法を使えば以下のようにスッキリと書くことができる\n",
    "  * ただし全体をまとめて効率的な命令にしてくれるかどうかは試してみないとわからない"
   ]
  },
  {
   "cell_type": "code",
   "execution_count": null,
   "metadata": {
    "kernel": "Python 3 (ipykernel)",
    "nbgrader": {
     "grade": false,
     "grade_id": "c-044",
     "locked": false,
     "schema_version": 3,
     "solution": false,
     "task": false
    }
   },
   "outputs": [],
   "source": [
    "%%writefile uniform2.c\n",
    "enum { nl = 8 };\n",
    "typedef double doublev __attribute__((vector_size(sizeof(double) * nl),\n",
    "                                      aligned(sizeof(double))));\n",
    "doublev uniform2(double u) {\n",
    "  doublev v;\n",
    "  for (int i = 0; i < nl; i++) {\n",
    "    v[i] = u;\n",
    "  }\n",
    "  return v;\n",
    "}"
   ]
  },
  {
   "cell_type": "code",
   "execution_count": null,
   "metadata": {
    "kernel": "Python 3 (ipykernel)",
    "nbgrader": {
     "grade": false,
     "grade_id": "c-045",
     "locked": false,
     "schema_version": 3,
     "solution": false,
     "task": false
    }
   },
   "outputs": [],
   "source": [
    "%%bash\n",
    "nvc -fast -Mkeepasm -Minfo -Mneginfo -c uniform2.c"
   ]
  },
  {
   "cell_type": "code",
   "execution_count": null,
   "metadata": {
    "kernel": "Python 3 (ipykernel)",
    "nbgrader": {
     "grade": false,
     "grade_id": "c-046",
     "locked": false,
     "schema_version": 3,
     "solution": false,
     "task": false
    }
   },
   "outputs": [],
   "source": [
    "%%bash\n",
    "ls"
   ]
  },
  {
   "cell_type": "code",
   "execution_count": null,
   "metadata": {
    "kernel": "Python 3 (ipykernel)",
    "nbgrader": {
     "grade": false,
     "grade_id": "c-047",
     "locked": false,
     "schema_version": 3,
     "solution": false,
     "task": false
    }
   },
   "outputs": [],
   "source": [
    "%%bash\n",
    "cat uniform2.s"
   ]
  },
  {
   "cell_type": "markdown",
   "metadata": {
    "kernel": "Python 3 (ipykernel)",
    "nbgrader": {
     "grade": false,
     "grade_id": "c-048",
     "locked": true,
     "schema_version": 3,
     "solution": false,
     "task": false
    }
   },
   "source": [
    "* 関係するところを抜粋すると以下\n",
    "```\n",
    "uniform2:                               # @uniform2\n",
    "\tvbroadcastsd\t%xmm0, %zmm0\n",
    "\tretq\n",
    "```\n",
    "* コンパイラがループ全体を賢く一つの命令に変換している"
   ]
  },
  {
   "cell_type": "markdown",
   "metadata": {
    "kernel": "Python 3 (ipykernel)",
    "nbgrader": {
     "grade": false,
     "grade_id": "c-049",
     "locked": true,
     "schema_version": 3,
     "solution": false,
     "task": false
    }
   },
   "source": [
    "* 以下はこの応用で, ループのベクトル化の際によく必要な, $i$, $i+1$, $i+2$, ... からなるベクトルを作る方法"
   ]
  },
  {
   "cell_type": "code",
   "execution_count": null,
   "metadata": {
    "kernel": "Python 3 (ipykernel)",
    "nbgrader": {
     "grade": false,
     "grade_id": "c-050",
     "locked": false,
     "schema_version": 3,
     "solution": false,
     "task": false
    }
   },
   "outputs": [],
   "source": [
    "%%writefile range.c\n",
    "enum { nl = 8 };\n",
    "typedef double doublev __attribute__((vector_size(sizeof(double) * nl),\n",
    "                                      aligned(sizeof(double))));\n",
    "doublev range(double u) {\n",
    "  doublev v;\n",
    "  for (int i = 0; i < nl; i++) {\n",
    "    v[i] = u + i;\n",
    "  }\n",
    "  return v;\n",
    "}"
   ]
  },
  {
   "cell_type": "code",
   "execution_count": null,
   "metadata": {
    "kernel": "Python 3 (ipykernel)",
    "nbgrader": {
     "grade": false,
     "grade_id": "c-051",
     "locked": false,
     "schema_version": 3,
     "solution": false,
     "task": false
    }
   },
   "outputs": [],
   "source": [
    "%%bash\n",
    "nvc -fast -Mkeepasm -Minfo -Mneginfo -c range.c"
   ]
  },
  {
   "cell_type": "code",
   "execution_count": null,
   "metadata": {
    "kernel": "Python 3 (ipykernel)",
    "nbgrader": {
     "grade": false,
     "grade_id": "c-052",
     "locked": false,
     "schema_version": 3,
     "solution": false,
     "task": false
    }
   },
   "outputs": [],
   "source": [
    "%%bash\n",
    "ls"
   ]
  },
  {
   "cell_type": "code",
   "execution_count": null,
   "metadata": {
    "kernel": "Python 3 (ipykernel)",
    "nbgrader": {
     "grade": false,
     "grade_id": "c-053",
     "locked": false,
     "schema_version": 3,
     "solution": false,
     "task": false
    }
   },
   "outputs": [],
   "source": [
    "%%bash\n",
    "cat range.s"
   ]
  },
  {
   "cell_type": "markdown",
   "metadata": {
    "kernel": "Python 3 (ipykernel)",
    "nbgrader": {
     "grade": false,
     "grade_id": "c-054",
     "locked": true,
     "schema_version": 3,
     "solution": false,
     "task": false
    }
   },
   "source": [
    "* 以下は`double`の配列`a`の`a[i]`〜`a[i+7]`の8要素を取り出してひとつのベクトル型の値とする"
   ]
  },
  {
   "cell_type": "code",
   "execution_count": null,
   "metadata": {
    "kernel": "Python 3 (ipykernel)",
    "nbgrader": {
     "grade": false,
     "grade_id": "c-055",
     "locked": false,
     "schema_version": 3,
     "solution": false,
     "task": false
    }
   },
   "outputs": [],
   "source": [
    "%%writefile loadv.c\n",
    "enum { nl = 8 };\n",
    "typedef double doublev __attribute__((vector_size(sizeof(double) * nl),\n",
    "                                      aligned(sizeof(double))));\n",
    "doublev loadv(double * a) {\n",
    "  doublev v;\n",
    "  for (int i = 0; i < nl; i++) {\n",
    "    v[i] = a[i];\n",
    "  }\n",
    "  return v;\n",
    "}"
   ]
  },
  {
   "cell_type": "code",
   "execution_count": null,
   "metadata": {
    "kernel": "Python 3 (ipykernel)",
    "nbgrader": {
     "grade": false,
     "grade_id": "c-056",
     "locked": false,
     "schema_version": 3,
     "solution": false,
     "task": false
    }
   },
   "outputs": [],
   "source": [
    "%%bash\n",
    "nvc -fast -Mkeepasm -Minfo -Mneginfo -c loadv.c"
   ]
  },
  {
   "cell_type": "code",
   "execution_count": null,
   "metadata": {
    "kernel": "Python 3 (ipykernel)",
    "nbgrader": {
     "grade": false,
     "grade_id": "c-057",
     "locked": false,
     "schema_version": 3,
     "solution": false,
     "task": false
    }
   },
   "outputs": [],
   "source": [
    "%%bash\n",
    "ls"
   ]
  },
  {
   "cell_type": "code",
   "execution_count": null,
   "metadata": {
    "kernel": "Python 3 (ipykernel)",
    "nbgrader": {
     "grade": false,
     "grade_id": "c-058",
     "locked": false,
     "schema_version": 3,
     "solution": false,
     "task": false
    }
   },
   "outputs": [],
   "source": [
    "%%bash\n",
    "cat loadv.s"
   ]
  },
  {
   "cell_type": "markdown",
   "metadata": {
    "kernel": "Python 3 (ipykernel)",
    "nbgrader": {
     "grade": false,
     "grade_id": "c-059",
     "locked": true,
     "schema_version": 3,
     "solution": false,
     "task": false
    }
   },
   "source": [
    "* 関係するところを抜粋すると以下\n",
    "```\n",
    "loadv:                                  # @loadv\n",
    "\tvmovups\t(%rdi), %zmm0\n",
    "\tretq\n",
    "```\n",
    "* 全体が一つのSIMD命令になっている"
   ]
  },
  {
   "cell_type": "markdown",
   "metadata": {
    "kernel": "Python 3 (ipykernel)",
    "nbgrader": {
     "grade": false,
     "grade_id": "c-060",
     "locked": true,
     "schema_version": 3,
     "solution": false,
     "task": false
    }
   },
   "source": [
    "* 以下は逆にベクトル型の値を`double`の配列`a`の`a[i]`〜`a[i+7]`の8要素にセットする"
   ]
  },
  {
   "cell_type": "code",
   "execution_count": null,
   "metadata": {
    "kernel": "Python 3 (ipykernel)",
    "nbgrader": {
     "grade": false,
     "grade_id": "c-061",
     "locked": false,
     "schema_version": 3,
     "solution": false,
     "task": false
    }
   },
   "outputs": [],
   "source": [
    "%%writefile storev.c\n",
    "enum { nl = 8 };\n",
    "typedef double doublev __attribute__((vector_size(sizeof(double) * nl),\n",
    "                                      aligned(sizeof(double))));\n",
    "void storev(double * a, doublev v) {\n",
    "  for (int i = 0; i < nl; i++) {\n",
    "    a[i] = v[i];\n",
    "  }\n",
    "}"
   ]
  },
  {
   "cell_type": "code",
   "execution_count": null,
   "metadata": {
    "kernel": "Python 3 (ipykernel)",
    "nbgrader": {
     "grade": false,
     "grade_id": "c-062",
     "locked": false,
     "schema_version": 3,
     "solution": false,
     "task": false
    }
   },
   "outputs": [],
   "source": [
    "%%bash\n",
    "nvc -fast -Mkeepasm -Minfo -Mneginfo -c storev.c"
   ]
  },
  {
   "cell_type": "code",
   "execution_count": null,
   "metadata": {
    "kernel": "Python 3 (ipykernel)",
    "nbgrader": {
     "grade": false,
     "grade_id": "c-063",
     "locked": false,
     "schema_version": 3,
     "solution": false,
     "task": false
    }
   },
   "outputs": [],
   "source": [
    "%%bash\n",
    "ls"
   ]
  },
  {
   "cell_type": "code",
   "execution_count": null,
   "metadata": {
    "kernel": "Python 3 (ipykernel)",
    "nbgrader": {
     "grade": false,
     "grade_id": "c-064",
     "locked": false,
     "schema_version": 3,
     "solution": false,
     "task": false
    }
   },
   "outputs": [],
   "source": [
    "%%bash\n",
    "cat storev.s"
   ]
  },
  {
   "cell_type": "markdown",
   "metadata": {
    "kernel": "Python 3 (ipykernel)",
    "nbgrader": {
     "grade": false,
     "grade_id": "c-065",
     "locked": true,
     "schema_version": 3,
     "solution": false,
     "task": false
    }
   },
   "source": [
    "* 関係するところを抜粋すると以下\n",
    "```\n",
    "storev:                                 # @storev\n",
    "\tvmovups\t%ymm0, (%rdi)\n",
    "\tvextractf64x4\t$1, %zmm0, 32(%rdi)\n",
    "\tvzeroupper\n",
    "\tretq\n",
    "```\n",
    "* 512 bitの値(`%zmm0`)を半分ずつに分けて2つの命令で格納している\n",
    "* なぜこうしているかは不明(詳細を知る必要はない)"
   ]
  },
  {
   "cell_type": "markdown",
   "metadata": {
    "kernel": "Python 3 (ipykernel)",
    "nbgrader": {
     "grade": false,
     "grade_id": "c-066",
     "locked": true,
     "schema_version": 3,
     "solution": false,
     "task": false
    }
   },
   "source": [
    "* ベクトル型を用いたプログラミングの要諦は, \n",
    "  * ベクトル化したいループが与えられたときに, 適切な回数の繰り返しをまとめて実行するのが目標\n",
    "  * 繰り返しごとに異なる値を持つ式を極力ベクトル型のまま計算するようにする\n",
    "ということ  \n"
   ]
  },
  {
   "cell_type": "markdown",
   "metadata": {
    "kernel": "Python 3 (ipykernel)",
    "nbgrader": {
     "grade": false,
     "grade_id": "c-067",
     "locked": true,
     "schema_version": 3,
     "solution": false,
     "task": false
    }
   },
   "source": [
    "\n",
    "# 6. SIMDによる性能向上の目撃\n",
    "* マルチコアやGPUでも用いた以下のプログラムをSIMDを用いて高速化する\n"
   ]
  },
  {
   "cell_type": "code",
   "execution_count": null,
   "metadata": {
    "kernel": "Python 3 (ipykernel)",
    "nbgrader": {
     "grade": false,
     "grade_id": "c-068",
     "locked": false,
     "schema_version": 3,
     "solution": false,
     "task": false
    }
   },
   "outputs": [],
   "source": [
    "%%writefile omp_speedup_base.c\n",
    "#include <assert.h>\n",
    "#include <stdio.h>\n",
    "#include <stdlib.h>\n",
    "#include <math.h>\n",
    "#include <omp.h>\n",
    "#include <time.h>\n",
    "#include <unistd.h>\n",
    "\n",
    "/* x = ax + b をひたすら n 回繰り返す.\n",
    "   (|a| < 1.0 なら c によらず, x = b / (1 - a) に収束).\n",
    "   n 回 mul + add を行う (-> 2 n flops) */\n",
    "double lin_rec(double a, double b, double c, long n) {\n",
    "  double t = c;\n",
    "  for (long j = 0; j < n; j++) {\n",
    "    t = a * t + b;\n",
    "  }\n",
    "  return t;\n",
    "}\n",
    "\n",
    "int main(int argc, char ** argv) {\n",
    "  long m        = (1 < argc ? atol(argv[1]) : 8);\n",
    "  long n        = (2 < argc ? atol(argv[2]) : 1000 * 1000 * 1000);\n",
    "  double * x = (double *)calloc(sizeof(double), m);\n",
    "  assert(x);\n",
    "  printf(\"m = %ld, n = %ld\\n\", m, n);\n",
    "  /* 計測開始 */\n",
    "  double t0 = omp_get_wtime();\n",
    "  /* 計算本体 */\n",
    "  for (long i = 0; i < m; i++) {\n",
    "    x[i] = lin_rec(0.99, i + 1, 1.0, n);\n",
    "  }\n",
    "  /* 計測終了 */\n",
    "  double t1 = omp_get_wtime();\n",
    "  double dt = t1 - t0;          /* sec */\n",
    "  \n",
    "  /* 答え表示 (x[i] = 100 * (i + 1) くらいのはず) */\n",
    "  long err = 0;\n",
    "  for (long i = 0; i < m; i++) {\n",
    "    if (fabs(x[i] - 100 * (i + 1)) > 1.0e-3) {\n",
    "      printf(\"x[%3ld] = %9.3f\\n\", i, x[i]);\n",
    "      err++;\n",
    "    }\n",
    "  }\n",
    "  if (err == 0) {\n",
    "    printf(\"OK\\n\");\n",
    "  }\n",
    "  double flops = 2. * (double)m * (double)n;\n",
    "  printf(\"elapsed    : %7.3f  sec\\n\", dt);\n",
    "  printf(\"elapsed/m  : %7.3f msec\\n\", dt / m * 1e3);\n",
    "  printf(\"elapsed/n  : %7.3f nsec\\n\", dt / n * 1e9);\n",
    "  printf(\"elapsed/mn : %7.3f nsec\\n\", dt / (m * n) * 1e9);\n",
    "  printf(\"flops      : %.2e\\n\", flops);\n",
    "  printf(\"%.3f GFLOPS\\n\", flops / dt * 1e-9);\n",
    "  return 0;\n",
    "}\n"
   ]
  },
  {
   "cell_type": "code",
   "execution_count": null,
   "metadata": {
    "kernel": "Python 3 (ipykernel)",
    "nbgrader": {
     "grade": false,
     "grade_id": "c-069",
     "locked": false,
     "schema_version": 3,
     "solution": false,
     "task": false
    }
   },
   "outputs": [],
   "source": [
    "%%bash\n",
    "nvc -fast -Mkeepasm -Minfo -Mneginfo -o omp_speedup_base.exe omp_speedup_base.c"
   ]
  },
  {
   "cell_type": "code",
   "execution_count": null,
   "metadata": {
    "kernel": "Python 3 (ipykernel)",
    "nbgrader": {
     "grade": false,
     "grade_id": "c-070",
     "locked": false,
     "schema_version": 3,
     "solution": false,
     "task": false
    }
   },
   "outputs": [],
   "source": [
    "%%bash\n",
    "./omp_speedup_base.exe 64 $((100 * 1000 * 1000))"
   ]
  },
  {
   "cell_type": "markdown",
   "metadata": {
    "kernel": "Python 3 (ipykernel)",
    "nbgrader": {
     "grade": false,
     "grade_id": "c-071",
     "locked": true,
     "schema_version": 3,
     "solution": false,
     "task": false
    }
   },
   "source": [
    "\n",
    "* 目標は以下のforループ\n",
    "```\n",
    "for (long i = 0; i < m; i++) {\n",
    "  x[i] = lin_recv(0.99, i + 1, 1.0, n);\n",
    "}\n",
    "```\n",
    "を何回か(`double`を用いているのでさしあたり 512 / 64 = 8回としておく)まとめて実行すること\n",
    "* 擬似的に書けば(`nl = 8`, `m`は`nl`で割り切れると仮定して)\n",
    "```\n",
    "for (long i = 0; i < m; i += nl) {\n",
    "  x[i:i+8] = lin_rec(0.99, i:i+8 + 1, 1.0, n);\n",
    "}\n",
    "```\n",
    "* `i:i+8`は$i, i+1, ..., i+7`を表すインフォーマルな記法で, これまでに定義した関数を借りて書けば, \n",
    "```\n",
    "for (long i = 0; i < m; i += nl) {\n",
    "  storev(&x[i], lin_rec(0.99, range(i) + 1, 1.0, n));\n",
    "}\n",
    "```\n",
    "\n",
    "* `lin_rec`\n",
    "```\n",
    "double lin_rec(double a, double b, double c, long n) {\n",
    "  double t = c;\n",
    "  for (long j = 0; j < n; j++) {\n",
    "    t = a * t + b;\n",
    "  }\n",
    "  return t;\n",
    "}\n",
    "```\n",
    "も, `b`が繰り返しごとに異なる, `t`も同様に異なることになることを反映し, `doublev`にする\n",
    "```\n",
    "doublev lin_rec(double a, doublev b, double c, long n) {\n",
    "  doublev t = uniform(c);\n",
    "  for (long j = 0; j < n; j++) {\n",
    "    t = a * t + b;\n",
    "  }\n",
    "  return t;\n",
    "}\n",
    "```\n",
    "\n",
    "* 全体をまとめると以下の通り"
   ]
  },
  {
   "cell_type": "code",
   "execution_count": null,
   "metadata": {
    "kernel": "Python 3 (ipykernel)",
    "nbgrader": {
     "grade": false,
     "grade_id": "c-072",
     "locked": false,
     "schema_version": 3,
     "solution": false,
     "task": false
    }
   },
   "outputs": [],
   "source": [
    "%%writefile omp_speedup_simd.c\n",
    "#include <assert.h>\n",
    "#include <stdio.h>\n",
    "#include <stdlib.h>\n",
    "#include <math.h>\n",
    "#include <omp.h>\n",
    "#include <time.h>\n",
    "#include <unistd.h>\n",
    "\n",
    "/* x = ax + b をひたすら n 回繰り返す.\n",
    "   (|a| < 1.0 なら c によらず, x = b / (1 - a) に収束).\n",
    "   n 回 mul + add を行う (-> 2 n flops) */\n",
    "enum { nl = 8 };\n",
    "\n",
    "typedef double doublev __attribute__((vector_size(sizeof(double) * nl),\n",
    "                                      aligned(sizeof(double))));\n",
    "\n",
    "doublev uniform(double u) {\n",
    "  doublev v;\n",
    "  for (long i = 0; i < nl; i++) {\n",
    "    v[i] = u;\n",
    "  }\n",
    "  return v;\n",
    "}\n",
    "\n",
    "doublev range(double u) {\n",
    "  doublev v;\n",
    "  for (long i = 0; i < nl; i++) {\n",
    "    v[i] = u + i;\n",
    "  }\n",
    "  return v;\n",
    "}\n",
    "\n",
    "void storev(double * a, doublev v) {\n",
    "  for (int i = 0; i < nl; i++) {\n",
    "    a[i] = v[i];\n",
    "  }\n",
    "}\n",
    "\n",
    "doublev lin_rec(double a, doublev b, double c, long n) {\n",
    "  doublev t = uniform(c);\n",
    "  for (long j = 0; j < n; j++) {\n",
    "    t = a * t + b;\n",
    "  }\n",
    "  return t;\n",
    "}\n",
    "\n",
    "int main(int argc, char ** argv) {\n",
    "  long m        = (1 < argc ? atol(argv[1]) : 8);\n",
    "  long n        = (2 < argc ? atol(argv[2]) : 1000 * 1000 * 1000);\n",
    "  double * x = (double *)calloc(sizeof(double), m);\n",
    "  assert(x);\n",
    "  printf(\"m = %ld, n = %ld\\n\", m, n);\n",
    "  /* 計測開始 */\n",
    "  double t0 = omp_get_wtime();\n",
    "  /* 計算本体 */\n",
    "  for (long i = 0; i < m; i += nl) {\n",
    "    storev(&x[i], lin_rec(0.99, range(i) + 1, 1.0, n));\n",
    "  }\n",
    "  /* 計測終了 */\n",
    "  double t1 = omp_get_wtime();\n",
    "  double dt = t1 - t0;          /* sec */\n",
    "  \n",
    "  /* 答え表示 (x[i] = 100 * (i + 1) くらいのはず) */\n",
    "  long err = 0;\n",
    "  for (long i = 0; i < m; i++) {\n",
    "    if (fabs(x[i] - 100 * (i + 1)) > 1.0e-3) {\n",
    "      printf(\"x[%3ld] = %9.3f\\n\", i, x[i]);\n",
    "      err++;\n",
    "    }\n",
    "  }\n",
    "  if (err == 0) {\n",
    "    printf(\"OK\\n\");\n",
    "  }\n",
    "  double flops = 2. * (double)m * (double)n;\n",
    "  printf(\"elapsed    : %7.3f  sec\\n\", dt);\n",
    "  printf(\"elapsed/m  : %7.3f msec\\n\", dt / m * 1e3);\n",
    "  printf(\"elapsed/n  : %7.3f nsec\\n\", dt / n * 1e9);\n",
    "  printf(\"elapsed/mn : %7.3f nsec\\n\", dt / (m * n) * 1e9);\n",
    "  printf(\"flops      : %.2e\\n\", flops);\n",
    "  printf(\"%.3f GFLOPS\\n\", flops / dt * 1e-9);\n",
    "  return 0;\n",
    "}\n"
   ]
  },
  {
   "cell_type": "code",
   "execution_count": null,
   "metadata": {
    "kernel": "Python 3 (ipykernel)",
    "nbgrader": {
     "grade": false,
     "grade_id": "c-073",
     "locked": false,
     "schema_version": 3,
     "solution": false,
     "task": false
    }
   },
   "outputs": [],
   "source": [
    "%%bash\n",
    "nvc -fast -Mkeepasm -Minfo -Mneginfo -o omp_speedup_simd.exe omp_speedup_simd.c"
   ]
  },
  {
   "cell_type": "code",
   "execution_count": null,
   "metadata": {
    "kernel": "Python 3 (ipykernel)",
    "nbgrader": {
     "grade": false,
     "grade_id": "c-074",
     "locked": false,
     "schema_version": 3,
     "solution": false,
     "task": false
    }
   },
   "outputs": [],
   "source": [
    "%%bash\n",
    "./omp_speedup_simd.exe 64 $((100 * 1000 * 1000))"
   ]
  },
  {
   "cell_type": "markdown",
   "metadata": {
    "kernel": "Python 3 (ipykernel)",
    "nbgrader": {
     "grade": false,
     "grade_id": "c-075",
     "locked": true,
     "schema_version": 3,
     "solution": false,
     "task": false
    }
   },
   "source": [
    "\n",
    "# 7. 命令レベル並列性の向上\n",
    "* 上記のコードにはさらなる性能向上の余地がある\n",
    "* `nl`の値を2倍, 4倍, 8倍するとさらに性能が向上する場合がある\n",
    "* 実際に`nl`の値を変えて, 最大性能が得られる値を求めてみよ\n",
    "* なお, あまり本質的とは思えないが, NVIDIAコンパイラではこの`nl`として2のべき乗(1, 2, 4, 8, ...)以外の値は許さないという制限が有る(このせいで実際に最適な値に設定できない場合もある)"
   ]
  },
  {
   "cell_type": "code",
   "execution_count": null,
   "metadata": {
    "kernel": "Python 3 (ipykernel)",
    "nbgrader": {
     "grade": false,
     "grade_id": "c-076",
     "locked": false,
     "schema_version": 3,
     "solution": false,
     "task": false
    }
   },
   "outputs": [],
   "source": [
    "%%writefile omp_speedup_simd_ilp.c\n",
    "#include <assert.h>\n",
    "#include <stdio.h>\n",
    "#include <stdlib.h>\n",
    "#include <math.h>\n",
    "#include <omp.h>\n",
    "#include <time.h>\n",
    "#include <unistd.h>\n",
    "\n",
    "/* x = ax + b をひたすら n 回繰り返す.\n",
    "   (|a| < 1.0 なら c によらず, x = b / (1 - a) に収束).\n",
    "   n 回 mul + add を行う (-> 2 n flops) */\n",
    "enum { nl = 8 };\n",
    "\n",
    "typedef double doublev __attribute__((vector_size(sizeof(double) * nl),\n",
    "                                      aligned(sizeof(double))));\n",
    "\n",
    "doublev uniform(double u) {\n",
    "  doublev v;\n",
    "  for (long i = 0; i < nl; i++) {\n",
    "    v[i] = u;\n",
    "  }\n",
    "  return v;\n",
    "}\n",
    "\n",
    "doublev range(double u) {\n",
    "  doublev v;\n",
    "  for (long i = 0; i < nl; i++) {\n",
    "    v[i] = u + i;\n",
    "  }\n",
    "  return v;\n",
    "}\n",
    "\n",
    "void storev(double * a, doublev v) {\n",
    "  for (int i = 0; i < nl; i++) {\n",
    "    a[i] = v[i];\n",
    "  }\n",
    "}\n",
    "\n",
    "doublev lin_rec(double a, doublev b, double c, long n) {\n",
    "  doublev t = uniform(c);\n",
    "  for (long j = 0; j < n; j++) {\n",
    "    t = a * t + b;\n",
    "  }\n",
    "  return t;\n",
    "}\n",
    "\n",
    "int main(int argc, char ** argv) {\n",
    "  long m        = (1 < argc ? atol(argv[1]) : 8);\n",
    "  long n        = (2 < argc ? atol(argv[2]) : 1000 * 1000 * 1000);\n",
    "  double * x = (double *)calloc(sizeof(double), m);\n",
    "  assert(x);\n",
    "  printf(\"m = %ld, n = %ld\\n\", m, n);\n",
    "  /* 計測開始 */\n",
    "  double t0 = omp_get_wtime();\n",
    "  /* 計算本体 */\n",
    "  for (long i = 0; i < m; i += nl) {\n",
    "    storev(&x[i], lin_rec(0.99, range(i) + 1, 1.0, n));\n",
    "  }\n",
    "  /* 計測終了 */\n",
    "  double t1 = omp_get_wtime();\n",
    "  double dt = t1 - t0;          /* sec */\n",
    "  \n",
    "  /* 答え表示 (x[i] = 100 * (i + 1) くらいのはず) */\n",
    "  long err = 0;\n",
    "  for (long i = 0; i < m; i++) {\n",
    "    if (fabs(x[i] - 100 * (i + 1)) > 1.0e-3) {\n",
    "      printf(\"x[%3ld] = %9.3f\\n\", i, x[i]);\n",
    "      err++;\n",
    "    }\n",
    "  }\n",
    "  if (err == 0) {\n",
    "    printf(\"OK\\n\");\n",
    "  }\n",
    "  double flops = 2. * (double)m * (double)n;\n",
    "  printf(\"elapsed    : %7.3f  sec\\n\", dt);\n",
    "  printf(\"elapsed/m  : %7.3f msec\\n\", dt / m * 1e3);\n",
    "  printf(\"elapsed/n  : %7.3f nsec\\n\", dt / n * 1e9);\n",
    "  printf(\"elapsed/mn : %7.3f nsec\\n\", dt / (m * n) * 1e9);\n",
    "  printf(\"flops      : %.2e\\n\", flops);\n",
    "  printf(\"%.3f GFLOPS\\n\", flops / dt * 1e-9);\n",
    "  return 0;\n",
    "}\n"
   ]
  },
  {
   "cell_type": "code",
   "execution_count": null,
   "metadata": {
    "kernel": "Python 3 (ipykernel)",
    "nbgrader": {
     "grade": false,
     "grade_id": "c-077",
     "locked": false,
     "schema_version": 3,
     "solution": false,
     "task": false
    }
   },
   "outputs": [],
   "source": [
    "%%bash\n",
    "nvc -fast -Mkeepasm -Minfo -Mneginfo -o omp_speedup_simd_ilp.exe omp_speedup_simd_ilp.c"
   ]
  },
  {
   "cell_type": "code",
   "execution_count": null,
   "metadata": {
    "kernel": "Python 3 (ipykernel)",
    "nbgrader": {
     "grade": false,
     "grade_id": "c-078",
     "locked": false,
     "schema_version": 3,
     "solution": false,
     "task": false
    }
   },
   "outputs": [],
   "source": [
    "%%bash\n",
    "./omp_speedup_simd_ilp.exe 64 $((100 * 1000 * 1000))"
   ]
  },
  {
   "cell_type": "markdown",
   "metadata": {
    "kernel": "Python 3 (ipykernel)",
    "nbgrader": {
     "grade": false,
     "grade_id": "c-079",
     "locked": true,
     "schema_version": 3,
     "solution": false,
     "task": false
    }
   },
   "source": [
    "* これで性能が向上する理由を説明すると長くなるので省略するが, GPUが1つのコアの中でも複数のスレッドを実行させて性能を向上できるのと本質的な理由は同じ\n",
    "* つまり, ひとつの変数だけで `t = a * t + b` をひたすら繰り返しても演算にかかる時間(遅延)のせいで, 演算器に十分なデータが供給されない\n",
    "* ベクトル型の大きさを大きくする = より多くのデータに対して, `t = a * t + b` を「並行に」実行する, ことで1コアの限界性能に達する"
   ]
  },
  {
   "cell_type": "markdown",
   "metadata": {
    "kernel": "Python 3 (ipykernel)",
    "nbgrader": {
     "grade": false,
     "grade_id": "c-080",
     "locked": true,
     "schema_version": 3,
     "solution": false,
     "task": false
    }
   },
   "source": [
    "\n",
    "# <font color=\"green\"> Problem 1 :  SIMD, 命令レベル並列性, マルチコアを使った性能向上</font>\n",
    "* SIMD, 命令レベル並列性(`nl`の調整), マルチコア(`#pragma omp parallel for`)すべてを組み合わせて性能を最大にせよ\n",
    "* `m`や`n`を適切に調節せよ\n",
    "* `https://taulec.zapto.org:8000/` の方では152の仮想コアがあり, スレッド数を152まで伸ばすことに意味が有る(可能性が有る)\n",
    "* そこで得られた最大性能をGPU上の最大性能と比べてみよ"
   ]
  },
  {
   "cell_type": "code",
   "execution_count": null,
   "metadata": {
    "kernel": "Python 3 (ipykernel)",
    "nbgrader": {
     "grade": false,
     "grade_id": "c-081",
     "locked": false,
     "schema_version": 3,
     "solution": false,
     "task": false
    }
   },
   "outputs": [],
   "source": [
    "%%writefile omp_speedup_simd_ilp_mp.c\n",
    "#include <assert.h>\n",
    "#include <stdio.h>\n",
    "#include <stdlib.h>\n",
    "#include <math.h>\n",
    "#include <omp.h>\n",
    "#include <time.h>\n",
    "#include <unistd.h>\n",
    "\n",
    "/* x = ax + b をひたすら n 回繰り返す.\n",
    "   (|a| < 1.0 なら c によらず, x = b / (1 - a) に収束).\n",
    "   n 回 mul + add を行う (-> 2 n flops) */\n",
    "enum { nl = 8 };\n",
    "\n",
    "typedef double doublev __attribute__((vector_size(sizeof(double) * nl),\n",
    "                                      aligned(sizeof(double))));\n",
    "\n",
    "doublev uniform(double u) {\n",
    "  doublev v;\n",
    "  for (long i = 0; i < nl; i++) {\n",
    "    v[i] = u;\n",
    "  }\n",
    "  return v;\n",
    "}\n",
    "\n",
    "doublev range(double u) {\n",
    "  doublev v;\n",
    "  for (long i = 0; i < nl; i++) {\n",
    "    v[i] = u + i;\n",
    "  }\n",
    "  return v;\n",
    "}\n",
    "\n",
    "void storev(double * a, doublev v) {\n",
    "  for (int i = 0; i < nl; i++) {\n",
    "    a[i] = v[i];\n",
    "  }\n",
    "}\n",
    "\n",
    "doublev lin_rec(double a, doublev b, double c, long n) {\n",
    "  doublev t = uniform(c);\n",
    "  for (long j = 0; j < n; j++) {\n",
    "    t = a * t + b;\n",
    "  }\n",
    "  return t;\n",
    "}\n",
    "\n",
    "int main(int argc, char ** argv) {\n",
    "  long m        = (1 < argc ? atol(argv[1]) : 8);\n",
    "  long n        = (2 < argc ? atol(argv[2]) : 1000 * 1000 * 1000);\n",
    "  double * x = (double *)calloc(sizeof(double), m);\n",
    "  assert(x);\n",
    "  printf(\"m = %ld, n = %ld\\n\", m, n);\n",
    "  /* 計測開始 */\n",
    "  double t0 = omp_get_wtime();\n",
    "  /* 計算本体 */\n",
    "  for (long i = 0; i < m; i += nl) {\n",
    "    storev(&x[i], lin_rec(0.99, range(i) + 1, 1.0, n));\n",
    "  }\n",
    "  /* 計測終了 */\n",
    "  double t1 = omp_get_wtime();\n",
    "  double dt = t1 - t0;          /* sec */\n",
    "  \n",
    "  /* 答え表示 (x[i] = 100 * (i + 1) くらいのはず) */\n",
    "  long err = 0;\n",
    "  for (long i = 0; i < m; i++) {\n",
    "    if (fabs(x[i] - 100 * (i + 1)) > 1.0e-3) {\n",
    "      printf(\"x[%3ld] = %9.3f\\n\", i, x[i]);\n",
    "      err++;\n",
    "    }\n",
    "  }\n",
    "  if (err == 0) {\n",
    "    printf(\"OK\\n\");\n",
    "  }\n",
    "  double flops = 2. * (double)m * (double)n;\n",
    "  printf(\"elapsed    : %7.3f  sec\\n\", dt);\n",
    "  printf(\"elapsed/m  : %7.3f msec\\n\", dt / m * 1e3);\n",
    "  printf(\"elapsed/n  : %7.3f nsec\\n\", dt / n * 1e9);\n",
    "  printf(\"elapsed/mn : %7.3f nsec\\n\", dt / (m * n) * 1e9);\n",
    "  printf(\"flops      : %.2e\\n\", flops);\n",
    "  printf(\"%.3f GFLOPS\\n\", flops / dt * 1e-9);\n",
    "  return 0;\n",
    "}\n"
   ]
  },
  {
   "cell_type": "code",
   "execution_count": null,
   "metadata": {
    "kernel": "Python 3 (ipykernel)",
    "nbgrader": {
     "grade": false,
     "grade_id": "c-082",
     "locked": false,
     "schema_version": 3,
     "solution": false,
     "task": false
    }
   },
   "outputs": [],
   "source": [
    "%%bash\n",
    "nvc -fast -mp=multicore -Mkeepasm -Minfo -Mneginfo -o omp_speedup_simd_ilp_mp.exe omp_speedup_simd_ilp_mp.c"
   ]
  },
  {
   "cell_type": "markdown",
   "metadata": {
    "kernel": "Python 3 (ipykernel)",
    "nbgrader": {
     "grade": false,
     "grade_id": "c-083",
     "locked": true,
     "schema_version": 3,
     "solution": false,
     "task": false
    }
   },
   "source": [
    "* 以下でスレッド数を変えて実行"
   ]
  },
  {
   "cell_type": "code",
   "execution_count": null,
   "metadata": {
    "kernel": "Python 3 (ipykernel)",
    "nbgrader": {
     "grade": false,
     "grade_id": "c-084",
     "locked": false,
     "schema_version": 3,
     "solution": false,
     "task": false
    }
   },
   "outputs": [],
   "source": [
    "%%bash\n",
    "OMP_PROC_BIND=true OMP_NUM_THREADS=1 ./omp_speedup_simd_ilp_mp.exe 64 $((100 * 1000 * 1000))"
   ]
  },
  {
   "cell_type": "markdown",
   "metadata": {
    "kernel": "Python 3 (ipykernel)",
    "nbgrader": {
     "grade": false,
     "grade_id": "c-085",
     "locked": true,
     "schema_version": 3,
     "solution": false,
     "task": false
    }
   },
   "source": [
    "* 以下を適切に修正して, "
   ]
  },
  {
   "cell_type": "code",
   "execution_count": null,
   "metadata": {
    "kernel": "Python 3 (ipykernel)",
    "nbgrader": {
     "grade": false,
     "grade_id": "c-086",
     "locked": false,
     "schema_version": 3,
     "solution": false,
     "task": false
    }
   },
   "outputs": [],
   "source": [
    "%%bash\n",
    "for th in 1 2 3 適切なスレッド数 ; do\n",
    "    echo -n \"$th \"\n",
    "    OMP_PROC_BIND=true OMP_NUM_THREADS=${th} ./omp_speedup_simd_ilp_mp.exe $((64 * ${th})) $((100 * 1000 * 1000)) | grep GFLOPS\n",
    "done"
   ]
  },
  {
   "cell_type": "markdown",
   "metadata": {
    "kernel": "Python 3 (ipykernel)",
    "nbgrader": {
     "grade": false,
     "grade_id": "c-087",
     "locked": true,
     "schema_version": 3,
     "solution": false,
     "task": false
    }
   },
   "source": [
    "* 結果を以下にコピペして性能向上を可視化せよ(性能向上がすぐに頭打ちになるようであれば, $m$や$n$の値を調節せよ)"
   ]
  },
  {
   "cell_type": "code",
   "execution_count": null,
   "metadata": {
    "kernel": "Python 3 (ipykernel)",
    "nbgrader": {
     "grade": false,
     "grade_id": "c-088",
     "locked": false,
     "schema_version": 3,
     "solution": false,
     "task": false
    }
   },
   "outputs": [],
   "source": [
    "import matplotlib.pyplot as plt\n",
    "\n",
    "DATA = r\"\"\"\n",
    "1 xxxx GFLOPS\n",
    "2 xxxx GFLOPS\n",
    "3 xxxx GFLOPS\n",
    "4 xxxx GFLOPS\n",
    "6 xxxx GFLOPS\n",
    "8 xxxx GFLOPS\n",
    "12 xxxx GFLOPS\n",
    "16 xxxx GFLOPS\n",
    "20 xxxx GFLOPS\n",
    "24 xxxx GFLOPS\n",
    "28 xxxx GFLOPS\n",
    "32 xxxx GFLOPS\n",
    "\"\"\"\n",
    "\n",
    "def main():\n",
    "    data = DATA.strip().split(\"\\n\")\n",
    "    X = []\n",
    "    Y = []\n",
    "    L = []\n",
    "    for line in data:\n",
    "        fields = line.strip().split()\n",
    "        if len(fields) != 3:\n",
    "            continue\n",
    "        x, y = fields[:2]\n",
    "        X.append(float(x))\n",
    "        Y.append(float(y))\n",
    "        L.append(Y[0] / X[0] * float(x))\n",
    "    plt.ylabel(\"GFLOPS\")\n",
    "    plt.xlabel(\"num_threads\")\n",
    "    plt.plot(X, L)\n",
    "    plt.plot(X, Y)\n",
    "    plt.show()\n",
    "\n",
    "main()"
   ]
  }
 ],
 "metadata": {
  "celltoolbar": "Create Assignment",
  "kernelspec": {
   "display_name": "Python 3 (ipykernel)",
   "language": "python",
   "name": "python3"
  },
  "language_info": {
   "codemirror_mode": {
    "name": "ipython",
    "version": 3
   },
   "file_extension": ".py",
   "mimetype": "text/x-python",
   "name": "python",
   "nbconvert_exporter": "python",
   "pygments_lexer": "ipython3",
   "version": "3.12.3"
  }
 },
 "nbformat": 4,
 "nbformat_minor": 4
}
