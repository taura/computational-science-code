{
  "cells": [
    {
      "cell_type": "markdown",
      "metadata": {
        "kernel": "Python 3 (ipykernel)",
        "nbgrader": {
          "grade": false,
          "grade_id": "c-001",
          "locked": true,
          "schema_version": 3,
          "solution": false,
          "task": false
        }
      },
      "source": [
        "#  高性能プログラミングと性能測定(0) --- Jupyter演習環境"
      ]
    },
    {
      "cell_type": "markdown",
      "metadata": {
        "kernel": "Python 3 (ipykernel)",
        "nbgrader": {
          "grade": false,
          "grade_id": "c-002",
          "locked": false,
          "schema_version": 3,
          "solution": false,
          "task": false
        }
      },
      "source": [
        "\n",
        "名前と学生証番号を書け. Enter your name and student ID.\n",
        "\n",
        " * 名前 Name:\n",
        " * 学生証番号 Student ID:\n",
        ""
      ]
    },
    {
      "cell_type": "markdown",
      "metadata": {
        "kernel": "Python 3 (ipykernel)",
        "nbgrader": {
          "grade": false,
          "grade_id": "c-003",
          "locked": true,
          "schema_version": 3,
          "solution": false,
          "task": false
        }
      },
      "source": [
        "\n",
        "# 1. このnotebookの使い方 / How this notebook works",
        "\n",
        "* スーパーコンピュータ(Wisteria)で, SSH + コマンドの代わりに, プログラミングを学習する環境\n",
        "* 本演習では\n",
        "  * Wisteria Aquarius (Intel CPU + NVIDIA GPU) を用いる\n",
        "  * マルチコア並列 (OpenMP) の演習では Wisteria Odyssey を用いることもできる\n",
        "* Jupyterのセルを実行するだけで例題プログラムを保存, コンパイル, 実行できる\n",
        "* GPU (NVIDIA GPUが必要), Odyssey (CPUがログインノードと異なる) を用いず, かつすぐに終了する (ログインノードにほとんど負荷をかけない) コマンドであればログインノード (Intel CPU) で直接実行\n",
        "* それ以外の場合はセルをほんの少し修正するとそれをバッチキューに入れて実行できる\n",
        "\n",
        "* 入口: https://wisteria08.cc.u-tokyo.ac.jp:8000/jupyterhub/ \n",
        "* オリジナルドキュメント: [Wisteria利用支援ポータル](https://wisteria-www.cc.u-tokyo.ac.jp/cgi-bin/hpcportal.ja/index.cgi) にログイン -> ドキュメント閲覧 -> Wisteria/BDEC-01 システム利用手引書 -> 2.7節 JupyterHub\n",
        "\n",
        "## 1-1. セル / Cell",
        "\n",
        "* 以下のような入力欄を「セル」という\n",
        "* SHIFT+ENTERで実行できる\n",
        "<br/>\n",
        "\n",
        "* A textbox like below is called a \"cell\"\n",
        "* Press SHIFT+ENTER to execute it\n",
        "\n",
        "## 1-2. Python",
        ""
      ]
    },
    {
      "cell_type": "code",
      "metadata": {
        "kernel": "Python 3 (ipykernel)",
        "nbgrader": {
          "grade": false,
          "grade_id": "c-004",
          "locked": false,
          "schema_version": 3,
          "solution": false,
          "task": false
        }
      },
      "source": [
        "def f(x):\n",
        "  return x + 1\n",
        "\n",
        "f(3)"
      ],
      "execution_count": null,
      "outputs": []
    },
    {
      "cell_type": "markdown",
      "metadata": {
        "kernel": "Python 3 (ipykernel)",
        "nbgrader": {
          "grade": false,
          "grade_id": "c-005",
          "locked": true,
          "schema_version": 3,
          "solution": false,
          "task": false
        }
      },
      "source": [
        "* 実行中のセルは, 左に`[*]`と表示され, 終了すると`[2]`のような番号に変わる\n",
        "* `[*]`が表示されている間は他のセルを実行できないことを覚えておこう\n",
        "* 以下のセルは3秒間sleep (休眠)するプログラム\n",
        "* 実行すると3秒間 `[*]` ｔなることを観察しておくこと\n",
        "<br/>\n",
        "\n",
        "* while a cell is executing, `[*]` is shown on the left, which turns into a number like `[2]`\n",
        "* remember that you cannot execute other cells while `[*]` is shown\n",
        "* the cell below sleeps for 3 seconds\n",
        "* execute it and observe `[*]` is shown for 3 seconds\n",
        ""
      ]
    },
    {
      "cell_type": "code",
      "metadata": {
        "kernel": "Python 3 (ipykernel)",
        "nbgrader": {
          "grade": false,
          "grade_id": "c-006",
          "locked": false,
          "schema_version": 3,
          "solution": false,
          "task": false
        }
      },
      "source": [
        "import time\n",
        "time.sleep(3.0)"
      ],
      "execution_count": null,
      "outputs": []
    },
    {
      "cell_type": "markdown",
      "metadata": {
        "kernel": "Python 3 (ipykernel)",
        "nbgrader": {
          "grade": false,
          "grade_id": "c-007",
          "locked": true,
          "schema_version": 3,
          "solution": false,
          "task": false
        }
      },
      "source": [
        "* 実行中のセルを途中で止めたければタブ上部の■ボタンで止められることにはなっているが効かないことも多い\n",
        "* その場合は, メニューの Kernel -&gt; Restart Kernel として **カーネルのリセット** をする\n",
        "* より強力なリセット方法はメニューの File -&gt; Hub Control Panel -&gt; Stop Server ->&gt; Start Server として**サーバの再起動** をする\n",
        "* 以下を実行し, 終了する前(5秒以内)に■ボタンで止めてみよ\n",
        "* カーネルのリセット, サーバの再起動も試してみよ\n",
        "<br/>\n",
        "\n",
        "* you should be able to stop an executing cell by ■ button at top of the tab, but do not expect it to work reliably\n",
        "* if it doesn't work, **reset kernel** by going to menu and selecting Kernel -&gt; Restart Kernel\n",
        "* even more powerful method to reset everything is to **restart the server** by going to menu and selecting File -&gt; Hub Control Panel -&gt; Stop Server -&gt; Start Server\n",
        "* execute the cell below and stop it before it finishes by ■ button\n",
        "* also try to reset kernel and restart server"
      ]
    },
    {
      "cell_type": "code",
      "metadata": {
        "kernel": "Python 3 (ipykernel)",
        "nbgrader": {
          "grade": false,
          "grade_id": "c-008",
          "locked": false,
          "schema_version": 3,
          "solution": false,
          "task": false
        }
      },
      "source": [
        "import time\n",
        "time.sleep(5.0)"
      ],
      "execution_count": null,
      "outputs": []
    },
    {
      "cell_type": "markdown",
      "metadata": {
        "kernel": "Python 3 (ipykernel)",
        "nbgrader": {
          "grade": false,
          "grade_id": "c-009",
          "locked": true,
          "schema_version": 3,
          "solution": false,
          "task": false
        }
      },
      "source": [
        "\n",
        "* 以下のように\n",
        "```\n",
        "%%writefile ファイル名\n",
        "```\n",
        "で始まるセルは SHIFT + Enter で実行すると中身が指定された「ファイル名」に保存される(だけ)という効果を持つ.\n",
        "実際にプログラムとして実行されるわけではないので中身は何でも良い(Pythonプログラムでなくても良い).\n",
        ""
      ]
    },
    {
      "cell_type": "code",
      "metadata": {
        "kernel": "Python 3 (ipykernel)",
        "nbgrader": {
          "grade": false,
          "grade_id": "c-010",
          "locked": false,
          "schema_version": 3,
          "solution": false,
          "task": false
        }
      },
      "source": [
        "%%writefile hello.c\n",
        "\n",
        "#include <stdio.h>\n",
        "int main() {\n",
        "  printf(\"hello\\n\");\n",
        "  return 0;\n",
        "}"
      ],
      "execution_count": null,
      "outputs": []
    },
    {
      "cell_type": "markdown",
      "metadata": {
        "kernel": "Python 3 (ipykernel)",
        "nbgrader": {
          "grade": false,
          "grade_id": "c-011",
          "locked": true,
          "schema_version": 3,
          "solution": false,
          "task": false
        }
      },
      "source": [
        "## 1-3. bash",
        "\n",
        "* セルの先頭に`%%bash` と書くとセルの内容はシェルコマンド (Linuxのコマンド) の意味になる\n",
        "<br/>\n",
        "\n",
        "* If you put `%%bash` in the beginning of a cell, the content of the cell is read as shell commands\n",
        ""
      ]
    },
    {
      "cell_type": "code",
      "metadata": {
        "kernel": "Python 3 (ipykernel)",
        "nbgrader": {
          "grade": false,
          "grade_id": "c-012",
          "locked": false,
          "schema_version": 3,
          "solution": false,
          "task": false
        }
      },
      "source": [
        "%%bash\n",
        "pwd"
      ],
      "execution_count": null,
      "outputs": []
    },
    {
      "cell_type": "code",
      "metadata": {
        "kernel": "Python 3 (ipykernel)",
        "nbgrader": {
          "grade": false,
          "grade_id": "c-013",
          "locked": false,
          "schema_version": 3,
          "solution": false,
          "task": false
        }
      },
      "source": [
        "%%bash\n",
        "ls"
      ],
      "execution_count": null,
      "outputs": []
    },
    {
      "cell_type": "markdown",
      "metadata": {
        "kernel": "Python 3 (ipykernel)",
        "nbgrader": {
          "grade": false,
          "grade_id": "c-014",
          "locked": true,
          "schema_version": 3,
          "solution": false,
          "task": false
        }
      },
      "source": [
        "* 上記で `hello.c` として保存されたはずのプログラムを下記でコンパイル・実行"
      ]
    },
    {
      "cell_type": "code",
      "metadata": {
        "kernel": "Python 3 (ipykernel)",
        "nbgrader": {
          "grade": false,
          "grade_id": "c-015",
          "locked": false,
          "schema_version": 3,
          "solution": false,
          "task": false
        }
      },
      "source": [
        "%%bash\n",
        "gcc -o hello hello.c"
      ],
      "execution_count": null,
      "outputs": []
    },
    {
      "cell_type": "code",
      "metadata": {
        "kernel": "Python 3 (ipykernel)",
        "nbgrader": {
          "grade": false,
          "grade_id": "c-016",
          "locked": false,
          "schema_version": 3,
          "solution": false,
          "task": false
        }
      },
      "source": [
        "%%bash\n",
        "./hello"
      ],
      "execution_count": null,
      "outputs": []
    },
    {
      "cell_type": "markdown",
      "metadata": {
        "kernel": "Python 3 (ipykernel)",
        "nbgrader": {
          "grade": false,
          "grade_id": "c-017",
          "locked": true,
          "schema_version": 3,
          "solution": false,
          "task": false
        }
      },
      "source": [
        "## 1-4. text (markdown)",
        "\n",
        "* コードではなくテキスト(マークダウン形式)を書くためのセル\n",
        "* there are cells for ordinary texts (markdown format), not code\n",
        ""
      ]
    },
    {
      "cell_type": "markdown",
      "metadata": {
        "kernel": "Python 3 (ipykernel)",
        "nbgrader": {
          "grade": false,
          "grade_id": "c-018",
          "locked": false,
          "schema_version": 3,
          "solution": false,
          "task": false
        }
      },
      "source": [
        "* ここをダブルクリックして編集してみよ\n",
        "  * 編集し終えたらSHIFT-ENTERで保存\n",
        "* double-click this cell and edit\n",
        "  * after done, press SHIFT-ENTER to save"
      ]
    },
    {
      "cell_type": "markdown",
      "metadata": {
        "kernel": "Python 3 (ipykernel)",
        "nbgrader": {
          "grade": false,
          "grade_id": "c-019",
          "locked": true,
          "schema_version": 3,
          "solution": false,
          "task": false
        }
      },
      "source": [
        "\n",
        "# 2. Wisteria上の演習で一度だけやっておくべき作業",
        ""
      ]
    },
    {
      "cell_type": "code",
      "metadata": {
        "kernel": "Python 3 (ipykernel)",
        "nbgrader": {
          "grade": false,
          "grade_id": "c-020",
          "locked": true,
          "schema_version": 3,
          "solution": false,
          "task": false
        }
      },
      "source": [
        "%%bash\n",
        "if ! [ -e ~/.notebook/lustre ]; then\n",
        "  ln -s /work/gt47/$USER ~/.notebook/lustre\n",
        "fi"
      ],
      "execution_count": null,
      "outputs": []
    },
    {
      "cell_type": "markdown",
      "metadata": {
        "kernel": "Python 3 (ipykernel)",
        "nbgrader": {
          "grade": false,
          "grade_id": "c-021",
          "locked": true,
          "schema_version": 3,
          "solution": false,
          "task": false
        }
      },
      "source": [
        "\n",
        "* 解説\n",
        "  * Wisteria 上では各ユーザの Jupyter 関連のファイルは `~/.notebook` (ユーザのホームディレクトリ直下の `.notebook`) というフォルダに書かれる\n",
        "  * ls コマンドは `.` で始まるファイルをデフォルトでは表示しないため見つけにくい\n",
        "  * `ls -a` とすれば見られるので確認されたい\n",
        "  * Jupyter のページは `~/.notebook` の下しか表示しない (`~/.notebook` が `/` と表示され, その外は表示できない) \n",
        "  * 一方, Wisteria の計算ノードはホームディレクトリを参照できず, Lustreディレクトリ (`/work/グループ名/ユーザ名`) を参照するのが基本\n",
        "  * したがってこの状態では, Jupyter は `~/.notebook` の下 (したがってホームディレクトリの下) しか表示できず, 計算ノードは Lustre の下しか見えないという不都合な状態になる (例えば Jupyter から書き出したプログラムやデータを計算ノードから実行・参照できない)\n",
        "  * その回避策として, `~/.notebook` から Lustre ディレクトリへのシンボリックリンクを作っておくのが上記のコマンド\n",
        ""
      ]
    },
    {
      "cell_type": "markdown",
      "metadata": {
        "kernel": "Python 3 (ipykernel)",
        "nbgrader": {
          "grade": false,
          "grade_id": "c-022",
          "locked": true,
          "schema_version": 3,
          "solution": false,
          "task": false
        }
      },
      "source": [
        "# 3. 演習用コードのチェックアウト"
      ]
    },
    {
      "cell_type": "code",
      "metadata": {
        "kernel": "Python 3 (ipykernel)",
        "nbgrader": {
          "grade": false,
          "grade_id": "c-023",
          "locked": true,
          "schema_version": 3,
          "solution": false,
          "task": false
        }
      },
      "source": [
        "%%bash\n",
        "cd ~/.notebook/lustre\n",
        "git clone https://github.com/taura/computational-science-code.git"
      ],
      "execution_count": null,
      "outputs": []
    },
    {
      "cell_type": "markdown",
      "metadata": {
        "kernel": "Python 3 (ipykernel)",
        "nbgrader": {
          "grade": false,
          "grade_id": "c-024",
          "locked": true,
          "schema_version": 3,
          "solution": false,
          "task": false
        }
      },
      "source": [
        "として, ページ左のペインから,\n",
        "* lustre   # 注: 上記で作ったシンボリックリンク\n",
        "  * computational-science-code\n",
        "    * 01jupyter\n",
        "      * notebooks\n",
        "        * source\n",
        "          * cs[00-05]\n",
        "フォルダ以下にある notebook を開いて見よ          "
      ]
    },
    {
      "cell_type": "markdown",
      "metadata": {
        "kernel": "Python 3 (ipykernel)",
        "nbgrader": {
          "grade": false,
          "grade_id": "c-025",
          "locked": true,
          "schema_version": 3,
          "solution": false,
          "task": false
        }
      },
      "source": [
        "\n",
        "# 4. ジョブ投入を簡便に行うための設定",
        "\n",
        "* Jupyter notebookからジョブ投入を簡便に行うための設定が以下\n",
        "* 以下は各notebookごとに行う\n",
        "* 同じnotebookであってもカーネルをログアウトや再スタートしたらやり直す必要がある\n",
        ""
      ]
    },
    {
      "cell_type": "code",
      "metadata": {
        "kernel": "Python 3 (ipykernel)",
        "nbgrader": {
          "grade": false,
          "grade_id": "c-026",
          "locked": true,
          "schema_version": 3,
          "solution": false,
          "task": false
        }
      },
      "source": [
        "import sys\n",
        "submit_path = \"/work/gt47/share/taura/computational-science-code/00submit\"\n",
        "if submit_path not in sys.path:\n",
        "    sys.path.append(submit_path)\n",
        "import submit"
      ],
      "execution_count": null,
      "outputs": []
    },
    {
      "cell_type": "markdown",
      "metadata": {
        "kernel": "Python 3 (ipykernel)",
        "nbgrader": {
          "grade": false,
          "grade_id": "c-027",
          "locked": true,
          "schema_version": 3,
          "solution": false,
          "task": false
        }
      },
      "source": [
        "\n",
        "`%%bash` セルと似た使い方で, `%%bash_submit` をセルのはじめに書くとそのセル内のコマンドを計算ノードに投入する\n",
        "\n",
        "* 使用例\n",
        ""
      ]
    },
    {
      "cell_type": "code",
      "metadata": {
        "kernel": "Python 3 (ipykernel)",
        "nbgrader": {
          "grade": false,
          "grade_id": "c-028",
          "locked": true,
          "schema_version": 3,
          "solution": false,
          "task": false
        }
      },
      "source": [
        "%%bash_submit\n",
        "#PJM -L rscgrp=lecture-a\n",
        "#PJM -L elapse=0:01:00\n",
        "#PJM -L gpu=1\n",
        "#PJM --omp thread=9\n",
        "#PJM -g gt47\n",
        "#PJM -j\n",
        "#PJM -o 0output.txt\n",
        "\n",
        "hostname\n",
        "pwd\n",
        "whoami\n",
        "uptime"
      ],
      "execution_count": null,
      "outputs": []
    },
    {
      "cell_type": "markdown",
      "metadata": {
        "kernel": "Python 3 (ipykernel)",
        "nbgrader": {
          "grade": false,
          "grade_id": "c-029",
          "locked": true,
          "schema_version": 3,
          "solution": false,
          "task": false
        }
      },
      "source": [
        "\n",
        "* なお実は上記で設定されている, `#PJM` オプションは本演習用の典型的な使用例と思われるためデフォルトで設定されており, したがって以下でも上記と同じ動作をする"
      ]
    },
    {
      "cell_type": "code",
      "metadata": {
        "kernel": "Python 3 (ipykernel)",
        "nbgrader": {
          "grade": false,
          "grade_id": "c-030",
          "locked": true,
          "schema_version": 3,
          "solution": false,
          "task": false
        }
      },
      "source": [
        "%%bash_submit\n",
        "\n",
        "hostname\n",
        "pwd\n",
        "who\n",
        "uptime"
      ],
      "execution_count": null,
      "outputs": []
    },
    {
      "cell_type": "markdown",
      "metadata": {
        "kernel": "Python 3 (ipykernel)",
        "nbgrader": {
          "grade": false,
          "grade_id": "c-031",
          "locked": true,
          "schema_version": 3,
          "solution": false,
          "task": false
        }
      },
      "source": [
        "\n",
        "* 必要に応じて上書きしたいものだけを設定すればよい\n",
        "* 例"
      ]
    },
    {
      "cell_type": "code",
      "metadata": {
        "kernel": "Python 3 (ipykernel)",
        "nbgrader": {
          "grade": false,
          "grade_id": "c-032",
          "locked": true,
          "schema_version": 3,
          "solution": false,
          "task": false
        }
      },
      "source": [
        "%%bash_submit\n",
        "#PJM -L rscgrp=lecture7-a\n",
        "#PJM -L elapse=0:10:00\n",
        "\n",
        "hostname\n",
        "pwd\n",
        "who\n",
        "uptime"
      ],
      "execution_count": null,
      "outputs": []
    },
    {
      "cell_type": "markdown",
      "metadata": {
        "kernel": "Python 3 (ipykernel)",
        "nbgrader": {
          "grade": false,
          "grade_id": "c-033",
          "locked": true,
          "schema_version": 3,
          "solution": false,
          "task": false
        }
      },
      "source": [
        "\n",
        "* 以下のように少しだけ変更すればログインノードでの実行になるため, ログインノード実行とジョブ投入での実行を簡単に行き来できる\n",
        "* `#PJM` で始まる行はログインノードでの実行 (`%%bash`) ではコメントの扱いになるためあっても問題はない\n",
        ""
      ]
    },
    {
      "cell_type": "code",
      "metadata": {
        "kernel": "Python 3 (ipykernel)",
        "nbgrader": {
          "grade": false,
          "grade_id": "c-034",
          "locked": true,
          "schema_version": 3,
          "solution": false,
          "task": false
        }
      },
      "source": [
        "%%bash\n",
        "#_submit\n",
        "#PJM -L rscgrp=lecture7-a\n",
        "#PJM -L elapse=0:10:00\n",
        "\n",
        "hostname\n",
        "pwd\n",
        "who\n",
        "uptime"
      ],
      "execution_count": null,
      "outputs": []
    },
    {
      "cell_type": "markdown",
      "metadata": {
        "kernel": "Python 3 (ipykernel)",
        "nbgrader": {
          "grade": false,
          "grade_id": "c-035",
          "locked": true,
          "schema_version": 3,
          "solution": false,
          "task": false
        }
      },
      "source": [
        "\n",
        "* Odysseyに投げるときは `%%bash_submit` の変わりに `%%bash_submit_o` を使う\n",
        "* 以下がデフォルト値 (つまりなくても同じ)\n",
        ""
      ]
    },
    {
      "cell_type": "code",
      "metadata": {
        "kernel": "Python 3 (ipykernel)",
        "nbgrader": {
          "grade": false,
          "grade_id": "c-036",
          "locked": true,
          "schema_version": 3,
          "solution": false,
          "task": false
        }
      },
      "source": [
        "%%bash_submit_o\n",
        "#PJM -L rscgrp=lecture-o\n",
        "#PJM -L elapse=0:01:00\n",
        "#PJM -L node=1\n",
        "#PJM --omp thread=48\n",
        "#PJM -g gt47\n",
        "#PJM -j\n",
        "#PJM -o 0output.txt\n",
        "\n",
        "hostname\n",
        "pwd\n",
        "whoami\n",
        "uptime"
      ],
      "execution_count": null,
      "outputs": []
    },
    {
      "cell_type": "markdown",
      "metadata": {
        "kernel": "Python 3 (ipykernel)",
        "nbgrader": {
          "grade": false,
          "grade_id": "c-037",
          "locked": true,
          "schema_version": 3,
          "solution": false,
          "task": false
        }
      },
      "source": [
        "\n",
        "# 5. AIチューター",
        "\n",
        "## 5-1. 設定",
        ""
      ]
    },
    {
      "cell_type": "code",
      "metadata": {
        "kernel": "Python 3 (ipykernel)",
        "nbgrader": {
          "grade": false,
          "grade_id": "c-038",
          "locked": true,
          "schema_version": 3,
          "solution": false,
          "task": false
        }
      },
      "source": [
        "import sys\n",
        "ta_paths = [\"/work/gt47/share/taura/ai-tutor-hey\",\n",
        "            \"/work/gt47/share/taura/ai-tutor-hey/ex\"]\n",
        "for path in ta_paths:\n",
        "  if path not in sys.path:\n",
        "    sys.path.append(path)\n",
        "from heytutor import hey, I, C, R, D, config\n",
        "import openmp_tutor"
      ],
      "execution_count": null,
      "outputs": []
    },
    {
      "cell_type": "markdown",
      "metadata": {
        "kernel": "Python 3 (ipykernel)",
        "nbgrader": {
          "grade": false,
          "grade_id": "c-039",
          "locked": true,
          "schema_version": 3,
          "solution": false,
          "task": false
        }
      },
      "source": [
        "\n",
        "## 5-2. 質問例",
        "\n",
        "* hey(\"omp parallelの文法を教えて\") ... 自由な質問\n",
        "* I(\"reduction句\") ... あるトピックについて説明\n",
        "* C(\"omp for\") ... あるトピックに関するコーディング問題を出題\n",
        "* R(\"omp for\") ... あるトピックに関するリーディング問題を出題\n",
        "\n",
        "以下のどれかのコメント # を外して実行してみよ"
      ]
    },
    {
      "cell_type": "code",
      "metadata": {
        "kernel": "Python 3 (ipykernel)",
        "nbgrader": {
          "grade": false,
          "grade_id": "c-040",
          "locked": false,
          "schema_version": 3,
          "solution": false,
          "task": false
        }
      },
      "source": [
        "# hey(\"omp parallelの文法を教えて\")\n",
        "# I(\"reduction句\")\n",
        "# C(\"omp for\")\n",
        "# R(\"omp for\")\n",
        ""
      ],
      "execution_count": null,
      "outputs": []
    }
  ],
  "metadata": {
    "celltoolbar": "Create Assignment",
    "kernelspec": {
      "display_name": "Python 3 (ipykernel)",
      "language": "python",
      "name": "python3"
    },
    "language_info": {
      "codemirror_mode": {
        "name": "ipython",
        "version": 3
      },
      "file_extension": ".py",
      "mimetype": "text/x-python",
      "name": "python",
      "nbconvert_exporter": "python",
      "pygments_lexer": "ipython3",
      "version": "3.8.10"
    }
  },
  "nbformat": 4,
  "nbformat_minor": 4
}