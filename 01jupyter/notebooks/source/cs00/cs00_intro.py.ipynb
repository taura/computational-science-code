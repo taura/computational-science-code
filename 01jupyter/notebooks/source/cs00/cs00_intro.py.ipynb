{
 "cells": [
  {
   "cell_type": "markdown",
   "metadata": {
    "kernel": "Python 3 (ipykernel)",
    "nbgrader": {
     "grade": false,
     "grade_id": "c-001",
     "locked": true,
     "schema_version": 3,
     "solution": false,
     "task": false
    }
   },
   "source": [
    "#  高性能プログラミングと性能測定(0) --- Jupyter演習環境"
   ]
  },
  {
   "cell_type": "markdown",
   "metadata": {
    "kernel": "Python 3 (ipykernel)",
    "nbgrader": {
     "grade": false,
     "grade_id": "c-002",
     "locked": false,
     "schema_version": 3,
     "solution": false,
     "task": false
    }
   },
   "source": [
    "\n",
    "名前と学生証番号を書け. Enter your name and student ID.\n",
    "\n",
    " * 名前 Name:\n",
    " * 学生証番号 Student ID:\n"
   ]
  },
  {
   "cell_type": "markdown",
   "metadata": {
    "kernel": "Python 3 (ipykernel)",
    "nbgrader": {
     "grade": false,
     "grade_id": "c-003",
     "locked": true,
     "schema_version": 3,
     "solution": false,
     "task": false
    }
   },
   "source": [
    "\n",
    "# 1. このnotebookの使い方 / How this notebook works\n",
    "* スーパーコンピュータ(Wisteria)で, SSH + コマンドの代わりに, プログラミングを学習する環境\n",
    "* 本演習では\n",
    "  * Wisteria Aquarius (Intel CPU + NVIDIA GPU) を用いる\n",
    "  * マルチコア並列 (OpenMP) の演習では Wisteria Odyssey を用いることもできる\n",
    "* Jupyterのセルを実行するだけで例題プログラムを保存, コンパイル, 実行できる\n",
    "* GPU (NVIDIA GPUが必要), Odyssey (CPUがログインノードと異なる) を用いず, かつすぐに終了する (ログインノードにほとんど負荷をかけない) コマンドであればログインノード (Intel CPU) で直接実行\n",
    "* それ以外の場合はセルをほんの少し修正するとそれをバッチキューに入れて実行できる\n",
    "\n",
    "* 入口: https://wisteria08.cc.u-tokyo.ac.jp:8000/jupyterhub/ \n",
    "* オリジナルドキュメント: [Wisteria利用支援ポータル](https://wisteria-www.cc.u-tokyo.ac.jp/cgi-bin/hpcportal.ja/index.cgi) にログイン -> ドキュメント閲覧 -> Wisteria/BDEC-01 システム利用手引書 -> 2.7節 JupyterHub\n",
    "\n",
    "## 1-1. セル / Cell\n",
    "* 以下のような入力欄を「セル」という\n",
    "* SHIFT+ENTERで実行できる\n",
    "<br/>\n",
    "\n",
    "* A textbox like below is called a \"cell\"\n",
    "* Press SHIFT+ENTER to execute it\n",
    "\n",
    "## 1-2. Python"
   ]
  },
  {
   "cell_type": "code",
   "execution_count": null,
   "metadata": {
    "kernel": "Python 3 (ipykernel)",
    "nbgrader": {
     "grade": false,
     "grade_id": "c-004",
     "locked": false,
     "schema_version": 3,
     "solution": false,
     "task": false
    }
   },
   "outputs": [],
   "source": [
    "def f(x):\n",
    "  return x + 1\n",
    "\n",
    "f(3)"
   ]
  },
  {
   "cell_type": "markdown",
   "metadata": {
    "kernel": "Python 3 (ipykernel)",
    "nbgrader": {
     "grade": false,
     "grade_id": "c-005",
     "locked": true,
     "schema_version": 3,
     "solution": false,
     "task": false
    }
   },
   "source": [
    "* 実行中のセルは, 左に`[*]`と表示され, 終了すると`[2]`のような番号に変わる\n",
    "* `[*]`が表示されている間は他のセルを実行できないことを覚えておこう\n",
    "* 以下のセルは3秒間sleep (休眠)するプログラム\n",
    "* 実行すると3秒間 `[*]` ｔなることを観察しておくこと\n",
    "<br/>\n",
    "\n",
    "* while a cell is executing, `[*]` is shown on the left, which turns into a number like `[2]`\n",
    "* remember that you cannot execute other cells while `[*]` is shown\n",
    "* the cell below sleeps for 3 seconds\n",
    "* execute it and observe `[*]` is shown for 3 seconds\n"
   ]
  },
  {
   "cell_type": "code",
   "execution_count": null,
   "metadata": {
    "kernel": "Python 3 (ipykernel)",
    "nbgrader": {
     "grade": false,
     "grade_id": "c-006",
     "locked": false,
     "schema_version": 3,
     "solution": false,
     "task": false
    }
   },
   "outputs": [],
   "source": [
    "import time\n",
    "time.sleep(3.0)"
   ]
  },
  {
   "cell_type": "markdown",
   "metadata": {
    "kernel": "Python 3 (ipykernel)",
    "nbgrader": {
     "grade": false,
     "grade_id": "c-007",
     "locked": true,
     "schema_version": 3,
     "solution": false,
     "task": false
    }
   },
   "source": [
    "* 実行中のセルを途中で止めたければタブ上部の■ボタンで止められることにはなっているが効かないことも多い\n",
    "* その場合は, メニューの Kernel -&gt; Restart Kernel として **カーネルのリセット** をする\n",
    "* より強力なリセット方法はメニューの File -&gt; Hub Control Panel -&gt; Stop Server ->&gt; Start Server として**サーバの再起動** をする\n",
    "* 以下を実行し, 終了する前(5秒以内)に■ボタンで止めてみよ\n",
    "* カーネルのリセット, サーバの再起動も試してみよ\n",
    "<br/>\n",
    "\n",
    "* you should be able to stop an executing cell by ■ button at top of the tab, but do not expect it to work reliably\n",
    "* if it doesn't work, **reset kernel** by going to menu and selecting Kernel -&gt; Restart Kernel\n",
    "* even more powerful method to reset everything is to **restart the server** by going to menu and selecting File -&gt; Hub Control Panel -&gt; Stop Server -&gt; Start Server\n",
    "* execute the cell below and stop it before it finishes by ■ button\n",
    "* also try to reset kernel and restart server"
   ]
  },
  {
   "cell_type": "code",
   "execution_count": null,
   "metadata": {
    "kernel": "Python 3 (ipykernel)",
    "nbgrader": {
     "grade": false,
     "grade_id": "c-008",
     "locked": false,
     "schema_version": 3,
     "solution": false,
     "task": false
    }
   },
   "outputs": [],
   "source": [
    "import time\n",
    "time.sleep(5.0)"
   ]
  },
  {
   "cell_type": "markdown",
   "metadata": {
    "kernel": "Python 3 (ipykernel)",
    "nbgrader": {
     "grade": false,
     "grade_id": "c-009",
     "locked": true,
     "schema_version": 3,
     "solution": false,
     "task": false
    }
   },
   "source": [
    "\n",
    "* 以下のように\n",
    "```\n",
    "%%writefile ファイル名\n",
    "```\n",
    "で始まるセルは SHIFT + Enter で実行すると中身が指定された「ファイル名」に保存される(だけ)という効果を持つ.\n",
    "実際にプログラムとして実行されるわけではないので中身は何でも良い(Pythonプログラムでなくても良い).\n"
   ]
  },
  {
   "cell_type": "code",
   "execution_count": null,
   "metadata": {
    "kernel": "Python 3 (ipykernel)",
    "nbgrader": {
     "grade": false,
     "grade_id": "c-010",
     "locked": false,
     "schema_version": 3,
     "solution": false,
     "task": false
    }
   },
   "outputs": [],
   "source": [
    "%%writefile hello.c\n",
    "\n",
    "#include <stdio.h>\n",
    "int main() {\n",
    "  printf(\"hello\\n\");\n",
    "  return 0;\n",
    "}"
   ]
  },
  {
   "cell_type": "markdown",
   "metadata": {
    "kernel": "Python 3 (ipykernel)",
    "nbgrader": {
     "grade": false,
     "grade_id": "c-011",
     "locked": true,
     "schema_version": 3,
     "solution": false,
     "task": false
    }
   },
   "source": [
    "## 1-3. bash\n",
    "* セルの先頭に`%%bash` と書くとセルの内容はシェルコマンド (Linuxのコマンド) の意味になる\n",
    "<br/>\n",
    "\n",
    "* If you put `%%bash` in the beginning of a cell, the content of the cell is read as shell commands\n"
   ]
  },
  {
   "cell_type": "code",
   "execution_count": null,
   "metadata": {
    "kernel": "Python 3 (ipykernel)",
    "nbgrader": {
     "grade": false,
     "grade_id": "c-012",
     "locked": false,
     "schema_version": 3,
     "solution": false,
     "task": false
    }
   },
   "outputs": [],
   "source": [
    "%%bash\n",
    "pwd"
   ]
  },
  {
   "cell_type": "code",
   "execution_count": null,
   "metadata": {
    "kernel": "Python 3 (ipykernel)",
    "nbgrader": {
     "grade": false,
     "grade_id": "c-013",
     "locked": false,
     "schema_version": 3,
     "solution": false,
     "task": false
    }
   },
   "outputs": [],
   "source": [
    "%%bash\n",
    "ls"
   ]
  },
  {
   "cell_type": "markdown",
   "metadata": {
    "kernel": "Python 3 (ipykernel)",
    "nbgrader": {
     "grade": false,
     "grade_id": "c-014",
     "locked": true,
     "schema_version": 3,
     "solution": false,
     "task": false
    }
   },
   "source": [
    "* 上記で `hello.c` として保存されたはずのプログラムを下記でコンパイル・実行"
   ]
  },
  {
   "cell_type": "code",
   "execution_count": null,
   "metadata": {
    "kernel": "Python 3 (ipykernel)",
    "nbgrader": {
     "grade": false,
     "grade_id": "c-015",
     "locked": false,
     "schema_version": 3,
     "solution": false,
     "task": false
    }
   },
   "outputs": [],
   "source": [
    "%%bash\n",
    "gcc -o hello hello.c"
   ]
  },
  {
   "cell_type": "code",
   "execution_count": null,
   "metadata": {
    "kernel": "Python 3 (ipykernel)",
    "nbgrader": {
     "grade": false,
     "grade_id": "c-016",
     "locked": false,
     "schema_version": 3,
     "solution": false,
     "task": false
    }
   },
   "outputs": [],
   "source": [
    "%%bash\n",
    "./hello"
   ]
  },
  {
   "cell_type": "markdown",
   "metadata": {
    "kernel": "Python 3 (ipykernel)",
    "nbgrader": {
     "grade": false,
     "grade_id": "c-017",
     "locked": true,
     "schema_version": 3,
     "solution": false,
     "task": false
    }
   },
   "source": [
    "## 1-4. text (markdown)\n",
    "* コードではなくテキスト(マークダウン形式)を書くためのセル\n",
    "* there are cells for ordinary texts (markdown format), not code\n"
   ]
  },
  {
   "cell_type": "markdown",
   "metadata": {
    "kernel": "Python 3 (ipykernel)",
    "nbgrader": {
     "grade": false,
     "grade_id": "c-018",
     "locked": false,
     "schema_version": 3,
     "solution": false,
     "task": false
    }
   },
   "source": [
    "* ここをダブルクリックして編集してみよ\n",
    "  * 編集し終えたらSHIFT-ENTERで保存\n",
    "* double-click this cell and edit\n",
    "  * after done, press SHIFT-ENTER to save"
   ]
  },
  {
   "cell_type": "markdown",
   "metadata": {
    "kernel": "Python 3 (ipykernel)",
    "nbgrader": {
     "grade": false,
     "grade_id": "c-019",
     "locked": true,
     "schema_version": 3,
     "solution": false,
     "task": false
    }
   },
   "source": [
    "## 1-5. セルの追加, 削除\n",
    "* Editメニューからあるセルを選択して\n",
    "  * `a` : 上にセルを追加\n",
    "  * `b` : 下にセルを追加\n",
    "  * `x` : セルを削除\n",
    "することができるので, 自分でコードを書いて試してみたい, AIに質問をしたい場合 (詳細以下) などに適宜利用されたい\n"
   ]
  },
  {
   "cell_type": "markdown",
   "metadata": {
    "kernel": "Python 3 (ipykernel)",
    "nbgrader": {
     "grade": false,
     "grade_id": "c-020",
     "locked": true,
     "schema_version": 3,
     "solution": false,
     "task": false
    }
   },
   "source": [
    "\n",
    "# 2. Wisteria上の演習で一度だけやっておくべき作業"
   ]
  },
  {
   "cell_type": "code",
   "execution_count": null,
   "metadata": {
    "kernel": "Python 3 (ipykernel)",
    "nbgrader": {
     "grade": false,
     "grade_id": "c-021",
     "locked": true,
     "schema_version": 3,
     "solution": false,
     "task": false
    }
   },
   "outputs": [],
   "source": [
    "%%bash\n",
    "if ! [ -e ~/.notebook/lustre ]; then\n",
    "  ln -s /work/gt47/$USER ~/.notebook/lustre\n",
    "fi"
   ]
  },
  {
   "cell_type": "markdown",
   "metadata": {
    "kernel": "Python 3 (ipykernel)",
    "nbgrader": {
     "grade": false,
     "grade_id": "c-022",
     "locked": true,
     "schema_version": 3,
     "solution": false,
     "task": false
    }
   },
   "source": [
    "\n",
    "* 解説\n",
    "  * Wisteria 上では各ユーザの Jupyter 関連のファイルは `~/.notebook` (ユーザのホームディレクトリ直下の `.notebook`) というフォルダに書かれる\n",
    "  * ls コマンドは `.` で始まるファイルをデフォルトでは表示しないため見つけにくい\n",
    "  * `ls -a` とすれば見られるので確認されたい\n",
    "  * Jupyter のページは `~/.notebook` の下しか表示しない (`~/.notebook` が `/` と表示され, その外は表示できない) \n",
    "  * 一方, Wisteria の計算ノードはホームディレクトリを参照できず, Lustreディレクトリ (`/work/グループ名/ユーザ名`) を参照するのが基本\n",
    "  * したがってこの状態では, Jupyter は `~/.notebook` の下 (したがってホームディレクトリの下) しか表示できず, 計算ノードは Lustre の下しか見えないという不都合な状態になる (例えば Jupyter から書き出したプログラムやデータを計算ノードから実行・参照できない)\n",
    "  * その回避策として, `~/.notebook` から Lustre ディレクトリへのシンボリックリンクを作っておくのが上記のコマンド\n"
   ]
  },
  {
   "cell_type": "markdown",
   "metadata": {
    "kernel": "Python 3 (ipykernel)",
    "nbgrader": {
     "grade": false,
     "grade_id": "c-023",
     "locked": true,
     "schema_version": 3,
     "solution": false,
     "task": false
    }
   },
   "source": [
    "# 3. 演習用コードのチェックアウト"
   ]
  },
  {
   "cell_type": "code",
   "execution_count": null,
   "metadata": {
    "kernel": "Python 3 (ipykernel)",
    "nbgrader": {
     "grade": false,
     "grade_id": "c-024",
     "locked": true,
     "schema_version": 3,
     "solution": false,
     "task": false
    }
   },
   "outputs": [],
   "source": [
    "%%bash\n",
    "cd ~/.notebook/lustre\n",
    "git clone https://github.com/taura/computational-science-code.git"
   ]
  },
  {
   "cell_type": "markdown",
   "metadata": {
    "kernel": "Python 3 (ipykernel)",
    "nbgrader": {
     "grade": false,
     "grade_id": "c-025",
     "locked": true,
     "schema_version": 3,
     "solution": false,
     "task": false
    }
   },
   "source": [
    "として, ページ左のペインから,\n",
    "* lustre   # 注: 上記で作ったシンボリックリンク\n",
    "  * computational-science-code\n",
    "    * 01jupyter\n",
    "      * notebooks\n",
    "        * source\n",
    "          * cs[00-05]\n",
    "フォルダ以下にある notebook を開いて見よ          "
   ]
  },
  {
   "cell_type": "markdown",
   "metadata": {
    "kernel": "Python 3 (ipykernel)",
    "nbgrader": {
     "grade": false,
     "grade_id": "c-026",
     "locked": true,
     "schema_version": 3,
     "solution": false,
     "task": false
    }
   },
   "source": [
    "\n",
    "# 4. ジョブ投入を簡便に行うための設定\n",
    "* Jupyter notebookからジョブ投入を簡便に行うための設定が以下\n",
    "* 以下は各notebookごとに行う\n",
    "* 同じnotebookであってもカーネルをログアウトや再スタートしたらやり直す必要がある\n"
   ]
  },
  {
   "cell_type": "code",
   "execution_count": null,
   "metadata": {
    "kernel": "Python 3 (ipykernel)",
    "nbgrader": {
     "grade": false,
     "grade_id": "c-027",
     "locked": true,
     "schema_version": 3,
     "solution": false,
     "task": false
    }
   },
   "outputs": [],
   "source": [
    "import sys\n",
    "submit_path = \"/work/gt47/share/taura/computational-science-code/00submit\"\n",
    "if submit_path not in sys.path:\n",
    "    sys.path.append(submit_path)\n",
    "import submit"
   ]
  },
  {
   "cell_type": "markdown",
   "metadata": {
    "kernel": "Python 3 (ipykernel)",
    "nbgrader": {
     "grade": false,
     "grade_id": "c-028",
     "locked": true,
     "schema_version": 3,
     "solution": false,
     "task": false
    }
   },
   "source": [
    "\n",
    "`%%bash` セルと似た使い方で, `%%bash_submit` をセルのはじめに書くとそのセル内のコマンドを計算ノードに投入する\n",
    "\n",
    "* 使用例\n"
   ]
  },
  {
   "cell_type": "code",
   "execution_count": null,
   "metadata": {
    "kernel": "Python 3 (ipykernel)",
    "nbgrader": {
     "grade": false,
     "grade_id": "c-029",
     "locked": true,
     "schema_version": 3,
     "solution": false,
     "task": false
    }
   },
   "outputs": [],
   "source": [
    "%%bash_submit\n",
    "#PJM -L rscgrp=lecture-a\n",
    "#PJM -L elapse=0:01:00\n",
    "#PJM -L gpu=1\n",
    "#PJM --omp thread=9\n",
    "#PJM -g gt47\n",
    "#PJM -j\n",
    "#PJM -o 0output.txt\n",
    "\n",
    "hostname\n",
    "pwd\n",
    "whoami\n",
    "uptime"
   ]
  },
  {
   "cell_type": "markdown",
   "metadata": {
    "kernel": "Python 3 (ipykernel)",
    "nbgrader": {
     "grade": false,
     "grade_id": "c-030",
     "locked": true,
     "schema_version": 3,
     "solution": false,
     "task": false
    }
   },
   "source": [
    "\n",
    "* なお実は上記で設定されている, `#PJM` オプションは本演習用の典型的な使用例と思われるためデフォルトで設定されており, したがって以下でも上記と同じ動作をする"
   ]
  },
  {
   "cell_type": "code",
   "execution_count": null,
   "metadata": {
    "kernel": "Python 3 (ipykernel)",
    "nbgrader": {
     "grade": false,
     "grade_id": "c-031",
     "locked": true,
     "schema_version": 3,
     "solution": false,
     "task": false
    }
   },
   "outputs": [],
   "source": [
    "%%bash_submit\n",
    "\n",
    "hostname\n",
    "pwd\n",
    "who\n",
    "uptime"
   ]
  },
  {
   "cell_type": "markdown",
   "metadata": {
    "kernel": "Python 3 (ipykernel)",
    "nbgrader": {
     "grade": false,
     "grade_id": "c-032",
     "locked": true,
     "schema_version": 3,
     "solution": false,
     "task": false
    }
   },
   "source": [
    "\n",
    "* 必要に応じて上書きしたいものだけを設定すればよい\n",
    "* 例"
   ]
  },
  {
   "cell_type": "code",
   "execution_count": null,
   "metadata": {
    "kernel": "Python 3 (ipykernel)",
    "nbgrader": {
     "grade": false,
     "grade_id": "c-033",
     "locked": true,
     "schema_version": 3,
     "solution": false,
     "task": false
    }
   },
   "outputs": [],
   "source": [
    "%%bash_submit\n",
    "#PJM -L rscgrp=lecture7-a\n",
    "#PJM -L elapse=0:10:00\n",
    "\n",
    "hostname\n",
    "pwd\n",
    "who\n",
    "uptime"
   ]
  },
  {
   "cell_type": "markdown",
   "metadata": {
    "kernel": "Python 3 (ipykernel)",
    "nbgrader": {
     "grade": false,
     "grade_id": "c-034",
     "locked": true,
     "schema_version": 3,
     "solution": false,
     "task": false
    }
   },
   "source": [
    "\n",
    "* 以下のように少しだけ変更すればログインノードでの実行になるため, ログインノード実行とジョブ投入での実行を簡単に行き来できる\n",
    "* `#PJM` で始まる行はログインノードでの実行 (`%%bash`) ではコメントの扱いになるためあっても問題はない\n"
   ]
  },
  {
   "cell_type": "code",
   "execution_count": null,
   "metadata": {
    "kernel": "Python 3 (ipykernel)",
    "nbgrader": {
     "grade": false,
     "grade_id": "c-035",
     "locked": true,
     "schema_version": 3,
     "solution": false,
     "task": false
    }
   },
   "outputs": [],
   "source": [
    "%%bash\n",
    "#_submit\n",
    "#PJM -L rscgrp=lecture7-a\n",
    "#PJM -L elapse=0:10:00\n",
    "\n",
    "hostname\n",
    "pwd\n",
    "who\n",
    "uptime"
   ]
  },
  {
   "cell_type": "markdown",
   "metadata": {
    "kernel": "Python 3 (ipykernel)",
    "nbgrader": {
     "grade": false,
     "grade_id": "c-036",
     "locked": true,
     "schema_version": 3,
     "solution": false,
     "task": false
    }
   },
   "source": [
    "\n",
    "* Odysseyに投げるときは `%%bash_submit` の変わりに `%%bash_submit_o` を使う\n",
    "* 以下がデフォルト値 (つまりなくても同じ)\n"
   ]
  },
  {
   "cell_type": "code",
   "execution_count": null,
   "metadata": {
    "kernel": "Python 3 (ipykernel)",
    "nbgrader": {
     "grade": false,
     "grade_id": "c-037",
     "locked": true,
     "schema_version": 3,
     "solution": false,
     "task": false
    }
   },
   "outputs": [],
   "source": [
    "%%bash_submit_o\n",
    "#PJM -L rscgrp=lecture-o\n",
    "#PJM -L elapse=0:01:00\n",
    "#PJM -L node=1\n",
    "#PJM --omp thread=48\n",
    "#PJM -g gt47\n",
    "#PJM -j\n",
    "#PJM -o 0output.txt\n",
    "\n",
    "hostname\n",
    "pwd\n",
    "whoami\n",
    "uptime"
   ]
  },
  {
   "cell_type": "markdown",
   "metadata": {
    "kernel": "Python 3 (ipykernel)",
    "nbgrader": {
     "grade": false,
     "grade_id": "c-038",
     "locked": true,
     "schema_version": 3,
     "solution": false,
     "task": false
    }
   },
   "source": [
    "\n",
    "# 5. AIチューター\n",
    "## 5-1. 設定"
   ]
  },
  {
   "cell_type": "code",
   "execution_count": 1,
   "metadata": {
    "kernel": "Python 3 (ipykernel)",
    "nbgrader": {
     "grade": false,
     "grade_id": "c-039",
     "locked": true,
     "schema_version": 3,
     "solution": false,
     "task": false
    }
   },
   "outputs": [],
   "source": [
    "import sys\n",
    "ta_paths = [\"/work/gt47/share/taura/ai-tutor-hey\",\n",
    "            \"/work/gt47/share/taura/ai-tutor-hey/ex\",\n",
    "            \"/home/tau/proj/small/ai-tutor-hey\",\n",
    "            \"/home/tau/proj/small/ai-tutor-hey/ex\"]\n",
    "for path in ta_paths:\n",
    "  if path not in sys.path:\n",
    "    sys.path.append(path)\n",
    "from heytutor import hey, I, C, R, D, config\n",
    "import openmp_tutor"
   ]
  },
  {
   "cell_type": "markdown",
   "metadata": {
    "kernel": "Python 3 (ipykernel)",
    "nbgrader": {
     "grade": false,
     "grade_id": "c-040",
     "locked": true,
     "schema_version": 3,
     "solution": false,
     "task": false
    }
   },
   "source": [
    "\n",
    "## 5-2. 質問例\n",
    "* hey(\"omp parallelの文法を教えて\") ... 自由な質問\n",
    "* I(\"reduction句\") ... あるトピックについて説明\n",
    "* C(\"omp for\") ... あるトピックに関するコーディング問題を出題\n",
    "* R(\"omp for\") ... あるトピックに関するリーディング問題を出題\n",
    "\n",
    "以下のコメント # を外していくつか実行してみよ"
   ]
  },
  {
   "cell_type": "code",
   "execution_count": null,
   "metadata": {
    "kernel": "Python 3 (ipykernel)",
    "nbgrader": {
     "grade": false,
     "grade_id": "c-041",
     "locked": false,
     "schema_version": 3,
     "solution": false,
     "task": false
    }
   },
   "outputs": [],
   "source": [
    "# 自由質問\n",
    "# hey(\"omp parallelの文法を教えて\")"
   ]
  },
  {
   "cell_type": "code",
   "execution_count": 3,
   "metadata": {
    "kernel": "Python 3 (ipykernel)",
    "nbgrader": {
     "grade": false,
     "grade_id": "c-042",
     "locked": false,
     "schema_version": 3,
     "solution": false,
     "task": false
    }
   },
   "outputs": [
    {
     "data": {
      "text/markdown": [
       "### 💬 Introduction to collapse句について日本語で:\n",
       "\n",
       "### OpenMPの`collapse`句について\n",
       "\n",
       "OpenMPの`collapse`句は、`for`ディレクティブとともに使われ、**複数のネストされたループを1つのループ空間にまとめて並列化を行う**機能を提供します。通常、OpenMPはネストされたループがあった場合、最外層のループのみを並列化します。しかし、ネストされたループ全体を並列実行したい場合や、最外層のループだけでは十分なスレッド利用ができない場合に、この`collapse`句を用いると効果的です。\n",
       "\n",
       "---\n",
       "\n",
       "### 文法\n",
       "```c\n",
       "#pragma omp parallel for collapse(n)\n",
       "```\n",
       "\n",
       "- `n`: ネストされたループの階層の数を指定します。\n",
       "  - `n=2`の場合は2つの階層、`n=3`の場合は3つの階層のループが1つのループ空間に結合されます。\n",
       "\n",
       "---\n",
       "\n",
       "### `collapse`句を使うべき場合\n",
       "- **ループ間に依存関係がない場合**（各ループの反復が並列実行可能）。\n",
       "- **外側のループの反復回数が少なく、スレッド数が十分に活用できない場合**。\n",
       "- **多重ループ全体で負荷を均等に分配したい場合**。\n",
       "\n",
       "---\n",
       "\n",
       "### 例1: `collapse`を使わない場合\n",
       "\n",
       "以下のコードでは、ネストされた2つのループを考えます。\n",
       "\n",
       "```c\n",
       "#include <omp.h>\n",
       "#include <stdio.h>\n",
       "\n",
       "int main() {\n",
       "    int i, j;\n",
       "    int N = 4, M = 5;\n",
       "\n",
       "    #pragma omp parallel for\n",
       "    for (i = 0; i < N; i++) {\n",
       "        for (j = 0; j < M; j++) {\n",
       "            printf(\"Thread %d: i=%d, j=%d\\n\", omp_get_thread_num(), i, j);\n",
       "        }\n",
       "    }\n",
       "    return 0;\n",
       "}\n",
       "```\n",
       "\n",
       "この場合、OpenMPは**最外層のループ**（`i`ループ）の反復のみを並列化します。仮に4スレッドを使用し、それぞれのスレッドが`i=0`から`i=3`の反復を処理しますが、内側の`j`ループの反復は**スレッド内で逐次（シリアル）実行**されます。\n",
       "\n",
       "#### **出力例（スレッドIDは実行時に変わる）：**\n",
       "```\n",
       "Thread 0: i=0, j=0\n",
       "Thread 0: i=0, j=1\n",
       "...\n",
       "Thread 1: i=1, j=0\n",
       "Thread 1: i=1, j=1\n",
       "...\n",
       "```\n",
       "\n",
       "この方法では、外側のループの反復回数（例：`N=4`）がスレッド数に満たない場合、スレッドが十分に活用されない可能性があります。\n",
       "\n",
       "---\n",
       "\n",
       "### 例2: `collapse`を使った場合\n",
       "\n",
       "次に、`collapse`句を使ってネストされたループ全体を並列化します。\n",
       "\n",
       "```c\n",
       "#include <omp.h>\n",
       "#include <stdio.h>\n",
       "\n",
       "int main() {\n",
       "    int i, j;\n",
       "    int N = 4, M = 5;\n",
       "\n",
       "    #pragma omp parallel for collapse(2)\n",
       "    for (i = 0; i < N; i++) {\n",
       "        for (j = 0; j < M; j++) {\n",
       "            printf(\"Thread %d: i=%d, j=%d\\n\", omp_get_thread_num(), i, j);\n",
       "        }\n",
       "    }\n",
       "    return 0;\n",
       "}\n",
       "```\n",
       "\n",
       "- `collapse(2)`によって、**外側のループ（`i`）と内側のループ（`j`）が1つの大きな反復空間として扱われます**。\n",
       "- 結合されたループ空間の総反復回数は、`N * M`（この場合、`4 * 5 = 20`反復）となります。\n",
       "- OpenMPはこの結合された領域に基づいてスレッドに均等に反復を分配します。\n",
       "\n",
       "#### **出力例（スレッドIDは実行時に変わる）：**\n",
       "```\n",
       "Thread 0: i=0, j=0\n",
       "Thread 0: i=0, j=1\n",
       "Thread 1: i=0, j=2\n",
       "Thread 2: i=1, j=0\n",
       "...\n",
       "Thread 3: i=3, j=4\n",
       "```\n",
       "\n",
       "この方法により、スレッド数がより効果的に利用され、並列処理のパフォーマンスが向上します。\n",
       "\n",
       "---\n",
       "\n",
       "### 実際の動作（内部変換）について\n",
       "\n",
       "`collapse(2)`を使うと、次のようにネストされたループが1つのループに「フラット化」されます。OpenMPはこの変換を内部で自動的に行います。\n",
       "\n",
       "```c\n",
       "for (int k = 0; k < N * M; k++) {\n",
       "    int i = k / M;  // 外側のループインデックス\n",
       "    int j = k % M;  // 内側のループインデックス\n",
       "    // あとは同じ処理\n",
       "}\n",
       "```\n",
       "\n",
       "こうして結合された単一のループ空間がスレッドに分配されます。\n",
       "\n",
       "---\n",
       "\n",
       "### 例3: 3重ループの`collapse`\n",
       "\n",
       "3つのループ階層がある場合でも`collapse`を使用できます。\n",
       "\n",
       "```c\n",
       "#include <omp.h>\n",
       "#include <stdio.h>\n",
       "\n",
       "int main() {\n",
       "    int i, j, k;\n",
       "    int N = 3, M = 4, P = 2;\n",
       "\n",
       "    #pragma omp parallel for collapse(3)\n",
       "    for (i = 0; i < N; i++) {\n",
       "        for (j = 0; j < M; j++) {\n",
       "            for (k = 0; k < P; k++) {\n",
       "                printf(\"Thread %d: i=%d, j=%d, k=%d\\n\", omp_get_thread_num(), i, j, k);\n",
       "            }\n",
       "        }\n",
       "    }\n",
       "    return 0;\n",
       "}\n",
       "```\n",
       "\n",
       "- `collapse(3)`を指定すると、3重ループ全体が1つのループ空間（`N * M * P`）にまとめられます。\n",
       "- **結合された反復回数**は `N * M * P = 3 * 4 * 2 = 24` となり、OpenMPがこの空間を均等にスレッドに分配します。\n",
       "\n",
       "#### **出力例（スレッドIDは実行時に変わる）：**\n",
       "```\n",
       "Thread 0: i=0, j=0, k=0\n",
       "Thread 0: i=0, j=0, k=1\n",
       "Thread 1: i=0, j=1, k=0\n",
       "Thread 1: i=0, j=1, k=1\n",
       "...\n",
       "Thread 3: i=2, j=3, k=1\n",
       "```\n",
       "\n",
       "---\n",
       "\n",
       "### 注意事項\n",
       "1. **依存関係（Data Dependency）に注意**  \n",
       "   `collapse`を利用するには、結合するすべてのループが独立しており、ある反復が別の反復に依存しない必要があります。\n",
       "\n",
       "2. **適切な粒度の選択**  \n",
       "   ループの粒度（反復回数）が小さすぎるとスレッド管理のオーバーヘッドが増え、逆にパフォーマンスが低下する可能性があります。\n",
       "\n",
       "---\n",
       "\n",
       "### `collapse`の利点\n",
       "- 複数ループの並列化により、計算資源の利用効率を向上させる。\n",
       "- スレッドの負荷分散が改善され、大規模なデータセットでもスケーラブル。\n",
       "- 計算時間を短縮する可能性が大幅に高まる。\n",
       "\n",
       "---\n",
       "\n",
       "### 結論\n",
       "`collapse`句は、特にネストしたループ構造において、OpenMPの並列性能を引き出すために非常に重要な機能です。ループ構造と並列性を正しく分析し、適切に適用することで、大きなパフォーマンス向上が期待できます！😄"
      ],
      "text/plain": [
       "<IPython.core.display.Markdown object>"
      ]
     },
     "metadata": {},
     "output_type": "display_data"
    }
   ],
   "source": [
    "# 説明\n",
    "I(\"collapse句について日本語で\")"
   ]
  },
  {
   "cell_type": "code",
   "execution_count": null,
   "metadata": {
    "kernel": "Python 3 (ipykernel)",
    "nbgrader": {
     "grade": false,
     "grade_id": "c-043",
     "locked": false,
     "schema_version": 3,
     "solution": false,
     "task": false
    }
   },
   "outputs": [],
   "source": [
    "# コーディング問題\n",
    "# C(\"omp for\")"
   ]
  },
  {
   "cell_type": "code",
   "execution_count": null,
   "metadata": {
    "kernel": "Python 3 (ipykernel)",
    "nbgrader": {
     "grade": false,
     "grade_id": "c-044",
     "locked": false,
     "schema_version": 3,
     "solution": false,
     "task": false
    }
   },
   "outputs": [],
   "source": [
    "# リーディング問題\n",
    "# R(\"omp for\")"
   ]
  },
  {
   "cell_type": "code",
   "execution_count": null,
   "metadata": {
    "kernel": "Python 3 (ipykernel)",
    "nbgrader": {
     "grade": false,
     "grade_id": "c-045",
     "locked": false,
     "schema_version": 3,
     "solution": false,
     "task": false
    }
   },
   "outputs": [],
   "source": [
    "# デバッグ問題\n",
    "# R(\"omp for\")"
   ]
  },
  {
   "cell_type": "markdown",
   "metadata": {
    "kernel": "Python 3 (ipykernel)",
    "nbgrader": {
     "grade": false,
     "grade_id": "c-046",
     "locked": true,
     "schema_version": 3,
     "solution": false,
     "task": false
    }
   },
   "source": [
    "\n",
    "* Pythonセルの先頭に `%%hey_` 書いて実行するとそのセルの内容をAIに送る\n",
    "* コードを見せて間違いを教えてもらう, フィードバックをもらうなどしたいときに使うとよい\n"
   ]
  },
  {
   "cell_type": "code",
   "execution_count": 4,
   "metadata": {
    "kernel": "Python 3 (ipykernel)",
    "nbgrader": {
     "grade": false,
     "grade_id": "c-047",
     "locked": false,
     "schema_version": 3,
     "solution": false,
     "task": false
    }
   },
   "outputs": [
    {
     "data": {
      "text/markdown": [
       "このコードでは、数値積分を計算していますが、並列化されたループ部分に問題があるため、正しい結果が得られない可能性があります。この問題は**競合状態（race condition）**によるものです。\n",
       "\n",
       "---\n",
       "\n",
       "### **問題の原因: 競合状態**\n",
       "`int_inv_1_x2`関数の以下の部分に問題があります:\n",
       "\n",
       "```c\n",
       "#pragma omp parallel for\n",
       "for (long i = 0; i < n; i++) {\n",
       "    double x = a + i * dx;\n",
       "    s += 1 / (1 + x * x);\n",
       "}\n",
       "```\n",
       "\n",
       "ここでは、すべてのスレッドが共有変数`double s`に同時にアクセスしています。複数のスレッドが同時に `s` を読み取り、それに値を加算し書き込む場合、スレッド間でデータが上書きされる可能性があります。これが競合状態であり、このような競合によって計算が間違った値を出力します。\n",
       "\n",
       "OpenMPでは、共有変数への同時アクセスを明示的に管理しない場合、このような問題が発生します。\n",
       "\n",
       "---\n",
       "\n",
       "### **解決方法**\n",
       "`reduction`句を使用することで、`s`の加算を正しく管理できます。`reduction`句を用いると、各スレッドが独自の`s`のコピーを持ち、最後にそれらが安全に合計されます。\n",
       "\n",
       "修正後のコードは以下のようになります:\n",
       "\n",
       "```c\n",
       "double int_inv_1_x2(double a, double b, long n) {\n",
       "  double s = 0.0;\n",
       "  double dx = (b - a) / (double)n;\n",
       "#pragma omp parallel for reduction(+:s)\n",
       "  for (long i = 0; i < n; i++) {\n",
       "    double x = a + i * dx;\n",
       "    s += 1 / (1 + x * x);\n",
       "  }\n",
       "  return s * dx;\n",
       "}\n",
       "```\n",
       "\n",
       "### **変更点**\n",
       "- `reduction(+:s)`を追加:\n",
       "  - OpenMPが自動的にスレッドごとに`double s`のコピーを作成し、ループ終了時にすべてのスレッドの結果を安全に合計します。\n",
       "- `:` の後の `+` は、足し算の操作を明示していることを示します。これにより、OpenMPは`+=`の競合状態を正しく調整します。\n",
       "\n",
       "---\n",
       "\n",
       "### **動作確認**\n",
       "修正したコードを実行すると、正しい結果が得られるはずです。\n",
       "\n",
       "テスト入力:\n",
       "```bash\n",
       "$ ./a.out 0 1 1000000000\n",
       "```\n",
       "\n",
       "---\n",
       "\n",
       "### **補足: reduction句の効果**\n",
       "- `reduction(+:s)` を使うと、以下のような処理が暗黙的に行われます。\n",
       "1. 各スレッドがローカル変数`私的 (private)`コピーを持ちます。\n",
       "2. 各スレッドは、自分に割り当てられるループの範囲内で、このローカル変数に加算します。\n",
       "3. ループ終了後、すべてのスレッドのローカル変数`私的コピー`が安全に合計され、`共有（shared）変数`である元の`s`に加算されます。\n",
       "\n",
       "---\n",
       "\n",
       "### **reductionを使わない解決策: ロックを明示**\n",
       "他の方法として、OpenMPのロックを使うこともできます。しかし、ロックを使う方法は効率が悪いので、通常は`reduction`の方が推奨されます。一応、ロックでの解決も以下に示します。\n",
       "\n",
       "```c\n",
       "#include <omp.h>\n",
       "\n",
       "double int_inv_1_x2(double a, double b, long n) {\n",
       "  double s = 0.0;\n",
       "  double dx = (b - a) / (double)n;\n",
       "  omp_lock_t lock;\n",
       "  omp_init_lock(&lock);\n",
       "\n",
       "#pragma omp parallel for\n",
       "  for (long i = 0; i < n; i++) {\n",
       "    double x = a + i * dx;\n",
       "    double local = 1 / (1 + x * x);\n",
       "\n",
       "    omp_set_lock(&lock);\n",
       "    s += local;\n",
       "    omp_unset_lock(&lock);\n",
       "  }\n",
       "  \n",
       "  omp_destroy_lock(&lock);\n",
       "  return s * dx;\n",
       "}\n",
       "```\n",
       "\n",
       "ただし、ロックの使用は競合状態を防ぐものの、スレッド間の同期によってオーバーヘッドが増えるため、性能は低下します。\n",
       "\n",
       "---\n",
       "\n",
       "### **結論**\n",
       "OpenMPで並列計算を行う際、競合状態（race condition）を避けるために、`reduction`句を使用するのがベストプラクティスです。それにより、スレッド間で安全かつ効率的に共有変数を扱うことができます。\n",
       "\n",
       "修正版のコードで正しい結果を得られることを確認してください！ 😄"
      ],
      "text/plain": [
       "<IPython.core.display.Markdown object>"
      ]
     },
     "metadata": {},
     "output_type": "display_data"
    }
   ],
   "source": [
    "%%hey_\n",
    "\n",
    "正しい答えが出ないんだけどなぜ?\n",
    "\n",
    "#include <stdio.h>\n",
    "#include <stdlib.h>\n",
    "\n",
    "double int_inv_1_x2(double a, double b, long n) {\n",
    "  double s = 0.0;\n",
    "  double dx = (b - a) / (double)n;\n",
    "#pragma omp parallel for\n",
    "  for (long i = 0; i < n; i++) {\n",
    "    double x = a + i * dx;\n",
    "    s += 1 / (1 + x * x);\n",
    "  }\n",
    "  return s * dx;\n",
    "}\n",
    "\n",
    "int main(int argc, char ** argv) {\n",
    "  double a = (argc > 1 ? atof(argv[1]) : 0.0);\n",
    "  double b = (argc > 2 ? atof(argv[2]) : 1.0);\n",
    "  long n   = (argc > 3 ? atol(argv[3]) : 1000L * 1000L * 1000L);\n",
    "  double s = int_inv_1_x2(a, b, n);\n",
    "  printf(\"s = %f\\n\", s);\n",
    "  return 0;\n",
    "}\n"
   ]
  },
  {
   "cell_type": "code",
   "execution_count": 5,
   "metadata": {
    "kernel": "Python 3 (ipykernel)",
    "nbgrader": {
     "grade": false,
     "grade_id": "c-048",
     "locked": false,
     "schema_version": 3,
     "solution": false,
     "task": false
    }
   },
   "outputs": [
    {
     "data": {
      "text/markdown": [
       "以下は、提供されたCコードのFortran版です。FortranのOpenMPを使用し、`reduction`を適用して競合状態を適切に回避したコードを示します。また、Fortran版では`real(8)`型（倍精度浮動小数点）を使用し、`PROGRAM`構造に合わせています。\n",
       "\n",
       "---\n",
       "\n",
       "### Fortranコード\n",
       "\n",
       "```fortran\n",
       "program main\n",
       "  use omp_lib\n",
       "  implicit none\n",
       "\n",
       "  real(8) :: a, b, s, dx\n",
       "  integer(8) :: n\n",
       "  integer :: argc\n",
       "  character(len=*), dimension(:), allocatable :: argv\n",
       "\n",
       "  ! 初期化\n",
       "  call get_command_argument_count(argc)\n",
       "  allocate(argv(0:argc))\n",
       "  call get_command_argument_values(argv)\n",
       "\n",
       "  ! コマンドライン引数の処理\n",
       "  if (argc >= 1) then\n",
       "    read(argv(1), *) a\n",
       "  else\n",
       "    a = 0.0_8\n",
       "  end if\n",
       "\n",
       "  if (argc >= 2) then\n",
       "    read(argv(2), *) b\n",
       "  else\n",
       "    b = 1.0_8\n",
       "  end if\n",
       "\n",
       "  if (argc >= 3) then\n",
       "    read(argv(3), *) n\n",
       "  else\n",
       "    n = 1000000000_8 ! デフォルト値 (1 billion)\n",
       "  end if\n",
       "\n",
       "  ! 数値積分の計算\n",
       "  s = int_inv_1_x2(a, b, n)\n",
       "\n",
       "  ! 結果出力\n",
       "  print *, \"s = \", s\n",
       "\n",
       "contains\n",
       "\n",
       "  function int_inv_1_x2(a, b, n) result(sum)\n",
       "    implicit none\n",
       "    real(8), intent(in) :: a, b\n",
       "    integer(8), intent(in) :: n\n",
       "    real(8) :: sum, s, dx\n",
       "    integer(8) :: i\n",
       "    real(8) :: x\n",
       "\n",
       "    sum = 0.0_8\n",
       "    dx = (b - a) / real(n, 8)\n",
       "\n",
       "    ! OpenMP並列ループとreduction句\n",
       "    !$omp parallel do reduction(+:sum)\n",
       "    do i = 0, n - 1\n",
       "      x = a + i * dx\n",
       "      sum = sum + 1.0_8 / (1.0_8 + x * x)\n",
       "    end do\n",
       "    !$omp end parallel do\n",
       "\n",
       "    ! 積分結果\n",
       "    sum = sum * dx\n",
       "  end function int_inv_1_x2\n",
       "\n",
       "end program main\n",
       "```\n",
       "\n",
       "---\n",
       "\n",
       "### **説明**\n",
       "#### **1. コマンドライン引数の処理**\n",
       "- `get_command_argument_count()`と`get_command_argument()`でコマンドライン引数を取得しています。\n",
       "- デフォルト値はC版と同じく\n",
       "  - `a = 0.0`\n",
       "  - `b = 1.0`\n",
       "  - `n = 1000000000`(1 billion).\n",
       "- コマンドライン引数が不足している場合、デフォルト値を使用します。\n",
       "\n",
       "#### **2. `int_inv_1_x2`関数**\n",
       "- 引数として区間`[a, b]`と分割数`n`を受け取ります。\n",
       "- 変数`sum`の合計をOpenMPの`reduction`句で並列化しています。\n",
       "  - 各スレッドは独自の`sum`コピーを持ち、最後に安全に合計します。\n",
       "- `dx`は各区間の幅です。\n",
       "- ループで指数関数部分`1 / (1 + x * x)`を計算し、`sum`に加算します。\n",
       "\n",
       "#### **3. OpenMPディレクティブ**\n",
       "- `!$omp parallel do reduction(+:sum)`:\n",
       "  - 並列でループを分割し、`sum`の加算を安全に行います。\n",
       "- `reduction(+:sum)`はC版に相当する操作です。\n",
       "\n",
       "#### **4. 注意点**\n",
       "- **倍精度型 (`real(8)`)**:\n",
       "  - `8`は倍精度の指定であり、Cの`double`に相当します。\n",
       "- **範囲指定**:\n",
       "  - Fortranでは`do i = 0, n-1`のようにループ範囲を指定します。\n",
       "\n",
       "---\n",
       "\n",
       "### 実行例\n",
       "\n",
       "#### 入力\n",
       "```bash\n",
       "$ gfortran -fopenmp main.f90 -o main\n",
       "$ ./main 0 1 1000000\n",
       "```\n",
       "\n",
       "#### 出力\n",
       "```\n",
       " s =   0.785398\n",
       "```\n",
       "\n",
       "- この値は、区間 [0, 1] で `1 / (1 + x^2)` を積分したものに対応しており、理論値である π / 4 に近い値となります。\n",
       "- 分割数を増やす（`n`を大きくする）ほど結果の精度が向上します。\n",
       "\n",
       "---\n",
       "\n",
       "### **改善や拡張**\n",
       "1. **スレッド数の確認**:\n",
       "   以下を追加して、使用スレッド数を確認可能です。\n",
       "   ```fortran\n",
       "   print *, \"Number of threads used: \", omp_get_max_threads()\n",
       "   ```\n",
       "\n",
       "2. **並列モードの無効化**:\n",
       "   コードをデバッグするときはOpenMPディレクティブをコメントアウトし、逐次実行版でも正しい結果が得られるかチェックします。\n",
       "\n",
       "3. **ループのスケジューリング**:\n",
       "   必要に応じて`schedule(static)`や`schedule(dynamic)`を指定することで並列の負荷分散を調整できます。\n",
       "\n",
       "---\n",
       "\n",
       "もしさらに質問があれば、お気軽にお尋ねください！ 😄"
      ],
      "text/plain": [
       "<IPython.core.display.Markdown object>"
      ]
     },
     "metadata": {},
     "output_type": "display_data"
    }
   ],
   "source": [
    "%%hey_\n",
    "\n",
    "Fortran版を作って\n",
    "\n",
    "#include <stdio.h>\n",
    "#include <stdlib.h>\n",
    "\n",
    "double int_inv_1_x2(double a, double b, long n) {\n",
    "  double s = 0.0;\n",
    "  double dx = (b - a) / (double)n;\n",
    "#pragma omp parallel for\n",
    "  for (long i = 0; i < n; i++) {\n",
    "    double x = a + i * dx;\n",
    "    s += 1 / (1 + x * x);\n",
    "  }\n",
    "  return s * dx;\n",
    "}\n",
    "\n",
    "int main(int argc, char ** argv) {\n",
    "  double a = (argc > 1 ? atof(argv[1]) : 0.0);\n",
    "  double b = (argc > 2 ? atof(argv[2]) : 1.0);\n",
    "  long n   = (argc > 3 ? atol(argv[3]) : 1000L * 1000L * 1000L);\n",
    "  double s = int_inv_1_x2(a, b, n);\n",
    "  printf(\"s = %f\\n\", s);\n",
    "  return 0;\n",
    "}\n"
   ]
  },
  {
   "cell_type": "code",
   "execution_count": 6,
   "metadata": {},
   "outputs": [
    {
     "data": {
      "text/markdown": [
       "`character(len=*), dimension(:), allocatable :: argv`はFortranの変数宣言で、可変長文字列の1次元配列を動的に割り当てるためのものです。この文法に含まれる要素について一つずつ説明していきます。\n",
       "\n",
       "---\n",
       "\n",
       "### **分解して理解する**\n",
       "\n",
       "1. **`character(len=*)`**\n",
       "   - `character`はFortranで文字列（文字型）を定義するためのデータ型です。\n",
       "   - `(len=*)`は、文字列の「長さが可変」であることを意味します。配列の各要素の長さは宣言時ではなく、コンパイラや規則により動的に決定されます。ただし、`argv`の具体的な内容（プログラム引数）は型や長さがシステム依存で規定されます。\n",
       "\n",
       "   **ポイント**\n",
       "   - `len=*`は文字長をコンパイラが内部的に処理するもので、`argv`の場合は呼び出すコマンド引数の内容に応じた文字列長になります。\n",
       "   - 可変長文字列を使うことで、引数の長さが固定されていなくても柔軟に扱えます。\n",
       "\n",
       "2. **`dimension(:)`**\n",
       "   - `:`は1次元配列のサイズが「可変」であることを指定しています。これにより、配列の具体的なサイズは後から決定できます。\n",
       "   - インデックスが固定されないため、たとえば次のように配列サイズを動的に設定できます。\n",
       "     ```fortran\n",
       "     allocate(argv(5))\n",
       "     ```\n",
       "     これで`argv`は5要素の配列として使用できるようになります。\n",
       "   - このように、配列のサイズは実行時に決定できます。\n",
       "\n",
       "3. **`allocatable`**\n",
       "   - `allocatable`は「動的にメモリを割り当てる必要がある配列」を表します。\n",
       "   - 明示的に`allocate`文を使ってメモリを割り当て、使用後は`deallocate`文で解放する必要があります。\n",
       "   - 静的配列と異なり、動的配列は実行時にそのサイズを変更可能なため、柔軟性があります。\n",
       "\n",
       "---\n",
       "\n",
       "### **全体の意味**\n",
       "この宣言:\n",
       "```fortran\n",
       "character(len=*), dimension(:), allocatable :: argv\n",
       "```\n",
       "の意味をまとめると、\n",
       "\n",
       "- **`argv`は配列である**:\n",
       "  - 配列の各要素は、文字列データ（`character`）で構成されます。\n",
       "  - 配列のサイズ（つまり、要素数）は実行中に決定されます。\n",
       "  \n",
       "- **文字列の長さは可変**:\n",
       "  - 各文字列の長さは`len=*`のため、「呼び出し元や実行環境が決定」します。\n",
       "  \n",
       "- **メモリ割り当てと解放が必要**:\n",
       "  - `allocatable`により、配列のメモリ割り当てはプログラム実行時に行う必要があります。\n",
       "  - 使用後は`deallocate`でメモリを解放します。\n",
       "\n",
       "---\n",
       "\n",
       "### **例: コマンドライン引数での使用方法**\n",
       "\n",
       "Fortranの標準では、`argv`という配列はプログラムのコマンドライン引数を処理する際によく使われます。\n",
       "\n",
       "#### 例1: コマンドライン引数を取得する\n",
       "以下は、コマンドライン引数を動的に取得して出力するプログラムの例です。\n",
       "\n",
       "```fortran\n",
       "program command_args\n",
       "  implicit none\n",
       "  integer :: argc, i\n",
       "  character(len=*), dimension(:), allocatable :: argv\n",
       "\n",
       "  ! コマンドライン引数の個数を取得\n",
       "  call get_command_argument_count(argc)\n",
       "\n",
       "  ! argv配列を動的に割り当て\n",
       "  allocate(argv(0:argc))\n",
       "\n",
       "  ! コマンドライン引数を取得\n",
       "  do i = 0, argc\n",
       "    call get_command_argument(i, argv(i))\n",
       "  end do\n",
       "\n",
       "  ! コマンドライン引数の出力\n",
       "  print *, \"Number of arguments:\", argc\n",
       "  do i = 0, argc\n",
       "    print *, \"Argument \", i, \": \", trim(argv(i))\n",
       "  end do\n",
       "\n",
       "  ! メモリの解放\n",
       "  deallocate(argv)\n",
       "end program command_args\n",
       "```\n",
       "\n",
       "開発や実行:\n",
       "```bash\n",
       "$ gfortran -o command_args command_args.f90\n",
       "$ ./command_args hello world 12345\n",
       "```\n",
       "\n",
       "出力:\n",
       "```\n",
       " Number of arguments:           3\n",
       " Argument  0 : ./command_args\n",
       " Argument  1 : hello\n",
       " Argument  2 : world\n",
       " Argument  3 : 12345\n",
       "```\n",
       "\n",
       "---\n",
       "\n",
       "### **関連情報**\n",
       "1. **`get_command_argument()`と`get_command_argument_count()`**\n",
       "   - `get_command_argument(index, arg)`:\n",
       "     指定された`index`（0から始まる）に対応するコマンドライン引数を取得します。\n",
       "   - `get_command_argument_count()`:\n",
       "     コマンドライン引数の個数（プログラム名を含む）を取得します。\n",
       "\n",
       "2. **`len=*`で自動的に長さを調整する】\n",
       "   - コマンドライン引数の長さは引数の内容に応じて決定されるため、プログラム側が長さを事前に指定する必要がありません。\n",
       "   - ただし、文字列処理の結果を保存する場合、明示的な長さ設定が必要になることもあります（例: `character(len=50) :: str`）。\n",
       "\n",
       "3. **`dimension(:)`による動的配列**\n",
       "   - メモリの無駄を抑えるため、使用するサイズだけ割り当てることができます。\n",
       "   - 必要のない場合に必ず`deallocate`で解放することがベストプラクティスです。\n",
       "\n",
       "4. **利点**\n",
       "   - 実行時に柔軟なデータ構造を利用可能。\n",
       "   - 不定のコマンドライン引数や動的に増減する要素への対応が簡単。\n",
       "\n",
       "---\n",
       "\n",
       "この説明で`argv`の役割とその使い方が明確になれば幸いです！😄"
      ],
      "text/plain": [
       "<IPython.core.display.Markdown object>"
      ]
     },
     "metadata": {},
     "output_type": "display_data"
    }
   ],
   "source": [
    "%%hey_\n",
    "\n",
    "character(len=*), dimension(:), allocatable :: argv\n",
    "\n",
    "を説明して"
   ]
  },
  {
   "cell_type": "code",
   "execution_count": 7,
   "metadata": {},
   "outputs": [
    {
     "data": {
      "text/markdown": [
       "確かに、Fortranでコマンドライン引数を取り扱う際に`get_command_argument()`や`get_command_argument_count()`を使うのは、少し面倒に感じることがあります。しかし、いくつかの基本構造や工夫を使うことで、コードの冗長さを減らし、簡潔に書くことができます。また、代表的な使い方をパターン化すれば、それほど面倒ではなくなります。\n",
       "\n",
       "---\n",
       "\n",
       "### **いつもこんな面倒なことをする必要があるのか？**\n",
       "答えは**「必要に応じて簡略化可能」**です。具体的には以下がポイントになります：\n",
       "1. **`argv`の確保や操作を自動化するパターンを書く**\n",
       "   - 典型的なスタイルをモジュール化することで、再利用できます。\n",
       "2. **固定された個数の引数しか扱わない場合**\n",
       "   - すべての引数を明示的に読み取ることで、動的な処理を省略できます。\n",
       "3. **ライブラリや特定のユーティリティ利用**\n",
       "   - 一部のFortranライブラリが拡張関数で引数処理を簡易化しています。\n",
       "\n",
       "以下で、より簡潔化した例やパターン化されたコードを解説します。\n",
       "\n",
       "---\n",
       "\n",
       "### **1. 引数の自動処理をラップする**\n",
       "コマンドライン引数を毎回手動で扱う代わりに、ラッパー関数やサブルーチンを作成し、それを使い回します。\n",
       "\n",
       "#### 簡略化の例\n",
       "```fortran\n",
       "program command_args_easy\n",
       "  implicit none\n",
       "\n",
       "  integer :: argc\n",
       "  character(len=:), allocatable, dimension(:) :: argv\n",
       "\n",
       "  ! コマンドライン引数を自動取得\n",
       "  call get_arguments(argc, argv)\n",
       "\n",
       "  ! 結果の表示\n",
       "  print *, \"Arguments count:\", argc\n",
       "  if (argc > 0) then\n",
       "     print *, \"Arguments:\", trim(argv)\n",
       "  end if\n",
       "end program command_args_easy\n",
       "\n",
       "subroutine get_arguments(argc, argv)\n",
       "  implicit none\n",
       "  integer, intent(out) :: argc\n",
       "  character(len=:), allocatable, dimension(:), intent(out) :: argv\n",
       "  integer :: i\n",
       "\n",
       "  ! コマンドライン引数の個数を取得\n",
       "  call get_command_argument_count(argc)\n",
       "\n",
       "  ! メモリの割り当て\n",
       "  allocate(argv(0:argc))\n",
       "\n",
       "  ! 各引数を取得\n",
       "  do i = 0, argc\n",
       "     call get_command_argument(i, argv(i))\n",
       "  end do\n",
       "end subroutine get_arguments\n",
       "```\n",
       "\n",
       "#### 実行例\n",
       "```bash\n",
       "$ ./a.out hello world\n",
       "```\n",
       "出力:\n",
       "```\n",
       " Arguments count: 2\n",
       " Arguments: hello world\n",
       "```\n",
       "\n",
       "この方法では、サブルーチン`get_arguments`を使うことで、煩雑なプロセスが簡略化されます。\n",
       "\n",
       "---\n",
       "\n",
       "### **2. 固定個数の引数のみ扱う場合**\n",
       "もしコマンドライン引数が**固定個数**であるなら、動的配列を使う必要はありません。この場合、かなりシンプルに書けます。\n",
       "\n",
       "#### 固定個数の引数を扱う例\n",
       "```fortran\n",
       "program fixed_command_args\n",
       "  implicit none\n",
       "  character(len=32) :: arg1, arg2\n",
       "  integer :: status\n",
       "\n",
       "  ! 最初の引数を取得\n",
       "  call get_command_argument(1, arg1)\n",
       "  call get_command_argument(2, arg2)\n",
       "\n",
       "  ! 結果出力\n",
       "  print *, \"Argument 1:\", trim(arg1)\n",
       "  print *, \"Argument 2:\", trim(arg2)\n",
       "end program fixed_command_args\n",
       "```\n",
       "\n",
       "#### 実行例\n",
       "```bash\n",
       "$ ./a.out input.txt output.txt\n",
       "```\n",
       "\n",
       "出力:\n",
       "```\n",
       " Argument 1: input.txt\n",
       " Argument 2: output.txt\n",
       "```\n",
       "\n",
       "このように、引数の個数が事前に固定されている場合、配列や動的な処理を省略できるため、Fortranでも非常にシンプルになります。\n",
       "\n",
       "---\n",
       "\n",
       "### **3. 必要最小限だけ処理する（動的ではなく単純化）**\n",
       "もし余計な引数は無視し、最初のいくつかの引数だけを扱えばよい場合、以下のように書けます：\n",
       "\n",
       "```fortran\n",
       "program minimal_args\n",
       "  implicit none\n",
       "  character(len=100) :: filename\n",
       "  integer :: argc\n",
       "\n",
       "  call get_command_argument_count(argc)\n",
       "\n",
       "  if (argc >= 1) then\n",
       "    call get_command_argument(1, filename)\n",
       "    print *, \"Using file:\", trim(filename)\n",
       "  else\n",
       "    print *, \"Please provide a filename.\"\n",
       "  end if\n",
       "\n",
       "end program minimal_args\n",
       "```\n",
       "\n",
       "このような単純な処理は、動的な計算や複雑なコードなしで利用可能です。\n",
       "\n",
       "---\n",
       "\n",
       "### **4. ライブラリやツールの利用**\n",
       "近代的なFortranライブラリやツールを使用すれば、通常の引数処理をさらに簡素化することも可能です。ただし、それらを使うには追加のインストールやリンクが必要になることがあります。\n",
       "\n",
       "例えば、`FLAP (Fortran command Line Argument Parser)`などのライブラリを使えば、より柔軟かつ人間に優しい引数処理が可能になります。\n",
       "\n",
       "---\n",
       "\n",
       "### **まとめ**\n",
       "- Fortranで引数を処理することは、動作を柔軟にするために多少の手間が必要です。\n",
       "- **工夫次第では簡略化可能**: 汎用的なサブルーチンを作成する、固定個数の引数を仮定するなど。\n",
       "- 再利用可能なテンプレートを作成することで、多くのケースで引数処理が数行で済むようになります。\n",
       "\n",
       "Fortranのコマンドライン引数処理は、慣れればそれほど煩雑には感じないはずです！ 😊"
      ],
      "text/plain": [
       "<IPython.core.display.Markdown object>"
      ]
     },
     "metadata": {},
     "output_type": "display_data"
    }
   ],
   "source": [
    "%%hey_\n",
    "Fortranでコマンドライン引数を受け取るプログラムはいつもこんな面倒なことをしないといけないの?"
   ]
  },
  {
   "cell_type": "code",
   "execution_count": null,
   "metadata": {},
   "outputs": [],
   "source": []
  }
 ],
 "metadata": {
  "celltoolbar": "Create Assignment",
  "kernelspec": {
   "display_name": "Python 3 (ipykernel)",
   "language": "python",
   "name": "python3"
  },
  "language_info": {
   "codemirror_mode": {
    "name": "ipython",
    "version": 3
   },
   "file_extension": ".py",
   "mimetype": "text/x-python",
   "name": "python",
   "nbconvert_exporter": "python",
   "pygments_lexer": "ipython3",
   "version": "3.12.3"
  }
 },
 "nbformat": 4,
 "nbformat_minor": 4
}
