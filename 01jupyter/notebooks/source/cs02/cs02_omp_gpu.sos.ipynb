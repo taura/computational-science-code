{
 "cells": [
  {
   "cell_type": "markdown",
   "metadata": {
    "kernel": "SoS",
    "nbgrader": {
     "grade": false,
     "grade_id": "c-001",
     "locked": true,
     "schema_version": 3,
     "solution": false,
     "task": false
    }
   },
   "source": [
    "\n",
    "#  高性能プログラミングと性能測定(2) --- OpenMP GPUプログラミング"
   ]
  },
  {
   "cell_type": "markdown",
   "metadata": {
    "kernel": "SoS",
    "nbgrader": {
     "grade": false,
     "grade_id": "c-002",
     "locked": true,
     "schema_version": 3,
     "solution": false,
     "task": false
    }
   },
   "source": [
    "\n",
    "# 1. OpenMP の GPU 向け拡張\n",
    "* OpenMPの最近の仕様ではGPUもサポートしている(どこまでサポートしているかはコンパイラ依存)\n",
    "\n",
    "* 詳しい仕様が知りたくなったら https://openmp.org/ を参照\n",
    "  * 最新仕様 https://www.openmp.org/spec-html/5.2/openmp.html\n",
    "  * 簡潔な文法のリファレンス: https://www.openmp.org/resources/refguides/\n",
    "* 最小限の覚えるべきキーワード\n",
    "  * 既出: マルチコアCPUでも必要だったもの\n",
    "    * `#pragma omp parallel`\n",
    "    * `#pragma omp for` \n",
    "    * `reduction`\n",
    "  * 今回: GPUで必要になるもの --- どれも「実は」マルチコアCPUでも使える. マルチコアCPUだけを使う分には不要\n",
    "    * `#pragma omp target` (実行をGPUに移動)\n",
    "    * `#pragma omp teams` ($\\approx$ `parallel`)\n",
    "    * `#pragma omp distribute` ($\\approx$ `for`)\n",
    "    * `#pragma omp loop` ($\\approx$ `for`, `distribute`)\n",
    "\n",
    "* 最小限の覚えるべきAPI関数\n",
    "```\n",
    "#include <omp.h> \n",
    "```\n",
    "して\n",
    "  * 既出: マルチコアCPUでも必要だったもの\n",
    "    * omp_get_num_threads();\n",
    "    * omp_get_thread_num();\n",
    "  * 今回: GPUで必要になるもの\n",
    "    * omp_get_num_teamss();\n",
    "    * omp_get_team_num();\n",
    "\n",
    "* うまくするとCPUとGPUで同じソースコードで動くプログラムを書くことも可能\n",
    "\n",
    "* 有益なスライド\n",
    "  * [Swaroop Pophale](https://www.olcf.ornl.gov/wp-content/uploads/2021/08/ITOpenMP_Day1.pdf)\n",
    "  * [Jeff Larkin](https://openmpcon.org/wp-content/uploads/openmpcon2021-nvidia.pdf)\n"
   ]
  },
  {
   "cell_type": "markdown",
   "metadata": {
    "kernel": "SoS",
    "nbgrader": {
     "grade": false,
     "grade_id": "c-003",
     "locked": true,
     "schema_version": 3,
     "solution": false,
     "task": false
    }
   },
   "source": [
    "# 2. コンパイラ (NVIDIA HPC SDK)\n",
    "* コマンド名:\n",
    "  * C: `nvc`\n",
    "  * C++: `nvc++`\n",
    "* コンパイルオプション:\n",
    "  * `-mp=gpu` をつけると GPU用のOpenMPがサポートされる\n",
    "  * `-mp=multicore` をつけると CPU用のOpenMPがサポートされる\n",
    "* 上記のコマンドを実行できるようにするために, 以下を実行してください(この環境特有. Wisteriaでは別のやり方(moduleコマンド))"
   ]
  },
  {
   "cell_type": "code",
   "execution_count": null,
   "metadata": {
    "kernel": "Bash",
    "nbgrader": {
     "grade": false,
     "grade_id": "c-004",
     "locked": false,
     "schema_version": 3,
     "solution": false,
     "task": false
    }
   },
   "outputs": [],
   "source": [
    "export PATH=/opt/nvidia/hpc_sdk/Linux_x86_64/24.5/compilers/bin:$PATH"
   ]
  },
  {
   "cell_type": "markdown",
   "metadata": {
    "kernel": "SoS",
    "nbgrader": {
     "grade": false,
     "grade_id": "c-005",
     "locked": true,
     "schema_version": 3,
     "solution": false,
     "task": false
    }
   },
   "source": [
    "* 演習環境には taulec.zapto.org と tauleg.zapto.org があるが, GPUのコードを動かせるのは後者"
   ]
  },
  {
   "cell_type": "code",
   "execution_count": null,
   "metadata": {
    "kernel": "Bash",
    "nbgrader": {
     "grade": false,
     "grade_id": "c-006",
     "locked": false,
     "schema_version": 3,
     "solution": false,
     "task": false
    }
   },
   "outputs": [],
   "source": [
    "hostname\n",
    "hostname | grep tauleg || echo \"Oh, you are not on the right host, access https://tauleg000.zapto.org/ instead\""
   ]
  },
  {
   "cell_type": "markdown",
   "metadata": {
    "kernel": "SoS",
    "nbgrader": {
     "grade": false,
     "grade_id": "c-007",
     "locked": true,
     "schema_version": 3,
     "solution": false,
     "task": false
    }
   },
   "source": [
    "# 3. 重要な pragma\n",
    "* [`#pragma omp target`](https://www.openmp.org/spec-html/5.0/openmpsu60.html#x86-2820002.12.5) : 実行を **デバイス(GPU)** に移す\n",
    "* [`#pragma omp teams`](https://www.openmp.org/spec-html/5.0/openmpse15.html#x57-910002.7) : デバイス上に**チーム**を多数作成する ($\\approx$ `#pragma omp parallel`)\n",
    "* [`#pragma omp distribute`](https://www.openmp.org/spec-html/5.0/openmpsu43.html#x66-1580002.9.4) : 繰り返しをチーム間で分割実行する ($\\approx$ `#pragma omp for`)\n",
    "* [`#pragma omp parallel`](https://www.openmp.org/spec-html/5.0/openmpse14.html#x54-800002.6) : チーム内に**スレッド**を多数作成する\n",
    "* [`#pragma omp for`](https://www.openmp.org/spec-html/5.0/openmpsu41.html#x64-1290002.9.2) : 繰り返しをチームのスレッドに分割実行する\n",
    "* [`#pragma omp target data`](https://www.openmp.org/spec-html/5.0/openmpsu57.html#x83-2580002.12.2) : ホストCPUとデバイス(GPU)間のデータをマッピングする\n"
   ]
  },
  {
   "cell_type": "markdown",
   "metadata": {
    "kernel": "SoS",
    "nbgrader": {
     "grade": false,
     "grade_id": "c-008",
     "locked": true,
     "schema_version": 3,
     "solution": false,
     "task": false
    }
   },
   "source": [
    "\n",
    "# 4. [`#pragma omp target`](https://www.openmp.org/spec-html/5.0/openmpsu60.html) $\\sim$ 実行をデバイス(GPU)に移す\n",
    "* <font color=\"blue\">構文</font>\n",
    "```\n",
    "#pragma omp target\n",
    "    S\n",
    "```\n",
    "* $S$は文 (以降いちいち断らない)\n",
    "* $S$ をデバイス (通常はGPU) で実行 (にオフロード) する "
   ]
  },
  {
   "cell_type": "code",
   "execution_count": null,
   "metadata": {
    "kernel": "Python 3 (ipykernel)",
    "nbgrader": {
     "grade": false,
     "grade_id": "c-009",
     "locked": false,
     "schema_version": 3,
     "solution": false,
     "task": false
    }
   },
   "outputs": [],
   "source": [
    "%%writefile omp_target.c\n",
    "#include <stdio.h>\n",
    "int main() {\n",
    "  printf(\"hello on host\\n\");\n",
    "#pragma omp target\n",
    "  printf(\"hello from target (hopefully GPU)\\n\");\n",
    "  printf(\"back on host\\n\");\n",
    "  return 0;\n",
    "}"
   ]
  },
  {
   "cell_type": "markdown",
   "metadata": {
    "kernel": "SoS",
    "nbgrader": {
     "grade": false,
     "grade_id": "c-010",
     "locked": true,
     "schema_version": 3,
     "solution": false,
     "task": false
    }
   },
   "source": [
    "* コンパイル"
   ]
  },
  {
   "cell_type": "code",
   "execution_count": null,
   "metadata": {
    "kernel": "Bash",
    "nbgrader": {
     "grade": false,
     "grade_id": "c-011",
     "locked": false,
     "schema_version": 3,
     "solution": false,
     "task": false
    }
   },
   "outputs": [],
   "source": [
    "nvc -mp=gpu omp_target.c -o omp_target_gpu.exe"
   ]
  },
  {
   "cell_type": "markdown",
   "metadata": {
    "kernel": "SoS",
    "nbgrader": {
     "grade": false,
     "grade_id": "c-012",
     "locked": true,
     "schema_version": 3,
     "solution": false,
     "task": false
    }
   },
   "source": [
    "\n",
    "* 実行"
   ]
  },
  {
   "cell_type": "code",
   "execution_count": null,
   "metadata": {
    "kernel": "Bash",
    "nbgrader": {
     "grade": false,
     "grade_id": "c-013",
     "locked": false,
     "schema_version": 3,
     "solution": false,
     "task": false
    }
   },
   "outputs": [],
   "source": [
    "./omp_target_gpu.exe"
   ]
  },
  {
   "cell_type": "markdown",
   "metadata": {
    "kernel": "SoS",
    "nbgrader": {
     "grade": false,
     "grade_id": "c-014",
     "locked": true,
     "schema_version": 3,
     "solution": false,
     "task": false
    }
   },
   "source": [
    "\n",
    "* 注:\n",
    "  * `target` は通常GPUを使用することを意図して使うが、実際にはGPUがなくても実行できる (CPUにフォールバック実行)\n",
    "  * 上記のプログラムを実行すると、マシンにGPUがあるかどうかに関係なく同じ結果が得られる\n",
    "    * `printf` はどちらで実行しても同じなので当然\n",
    "  * プログラムの移植性のためには良いが、GPUで実行しているつもりが実はCPUなどということがあるとかえって混乱を招く可能性がある\n",
    "  * GPUが利用できなければエラーを発生させることもできる. それには、環境変数 `OMP_TARGET_OFFLOAD=MANDATORY` を設定する。逆に、`OMP_TARGET_OFFLOAD=DISABLED` はその反対の効果を持つ"
   ]
  },
  {
   "cell_type": "code",
   "execution_count": null,
   "metadata": {
    "kernel": "Bash",
    "nbgrader": {
     "grade": false,
     "grade_id": "c-015",
     "locked": false,
     "schema_version": 3,
     "solution": false,
     "task": false
    }
   },
   "outputs": [],
   "source": [
    "# GPUで実行することを強制. できなければエラー\n",
    "OMP_TARGET_OFFLOAD=MANDATORY ./omp_target_gpu.exe"
   ]
  },
  {
   "cell_type": "code",
   "execution_count": null,
   "metadata": {
    "kernel": "Bash",
    "nbgrader": {
     "grade": false,
     "grade_id": "c-016",
     "locked": false,
     "schema_version": 3,
     "solution": false,
     "task": false
    }
   },
   "outputs": [],
   "source": [
    "# ホストで実行することを強制\n",
    "OMP_TARGET_OFFLOAD=DISABLED ./omp_target_gpu.exe"
   ]
  },
  {
   "cell_type": "markdown",
   "metadata": {
    "kernel": "SoS",
    "nbgrader": {
     "grade": false,
     "grade_id": "c-017",
     "locked": true,
     "schema_version": 3,
     "solution": false,
     "task": false
    }
   },
   "source": [
    "\n",
    "# 5. [`#pragma omp teams`](https://www.openmp.org/spec-html/5.0/openmpse15.html#x57-910002.7) $\\sim$ チームの作成\n",
    "## 5-1. 基本\n",
    "* <font color=\"blue\">構文</font>\n",
    "```\n",
    "#pragma omp target\n",
    "#pragma omp teams\n",
    "    S\n",
    "```\n",
    "複数のチームを作成し、各チームの*マスター*が $S$ を実行する\n",
    "\n",
    "* `#pragma omp parallel` に似ており、多くのスレッドが同じ文を実行する効果を持つ\n",
    "* `teams` は `parallel` の外側にある追加の並列化レイヤーと考えればよい\n",
    "  * `teams` はチームを多数作る\n",
    "  * `parallel` は各チーム内でスレッドを多数作る\n",
    "* 実はマルチコアCPUでは初めからチームがひとつできており, そのマスターが `main` 関数を実行するスレッドだったと考えれば良い\n"
   ]
  },
  {
   "cell_type": "code",
   "execution_count": null,
   "metadata": {
    "kernel": "Python 3 (ipykernel)",
    "nbgrader": {
     "grade": false,
     "grade_id": "c-018",
     "locked": false,
     "schema_version": 3,
     "solution": false,
     "task": false
    }
   },
   "outputs": [],
   "source": [
    "%%writefile omp_teams.c\n",
    "#include <stdio.h>\n",
    "int main() {\n",
    "  printf(\"hello on host\\n\");\n",
    "#pragma omp target\n",
    "#pragma omp teams\n",
    "  printf(\"hello, I am the master of a team\\n\");\n",
    "  printf(\"back on host\\n\");\n",
    "  return 0;\n",
    "}"
   ]
  },
  {
   "cell_type": "code",
   "execution_count": null,
   "metadata": {
    "kernel": "Bash",
    "nbgrader": {
     "grade": false,
     "grade_id": "c-019",
     "locked": false,
     "schema_version": 3,
     "solution": false,
     "task": false
    }
   },
   "outputs": [],
   "source": [
    "nvc -mp=gpu omp_teams.c -o omp_teams_gpu.exe"
   ]
  },
  {
   "cell_type": "code",
   "execution_count": null,
   "metadata": {
    "kernel": "Bash",
    "nbgrader": {
     "grade": false,
     "grade_id": "c-020",
     "locked": false,
     "schema_version": 3,
     "solution": false,
     "task": false
    }
   },
   "outputs": [],
   "source": [
    "./omp_teams_gpu.exe"
   ]
  },
  {
   "cell_type": "markdown",
   "metadata": {
    "kernel": "SoS",
    "nbgrader": {
     "grade": false,
     "grade_id": "c-021",
     "locked": true,
     "schema_version": 3,
     "solution": false,
     "task": false
    }
   },
   "source": [
    "\n",
    "* 注:\n",
    "  * `teams` は `target` のすぐ内側に現れる必要がある\n",
    "  * そのため実際、`target` と `teams` はしばしば一行で使用される (`#pragma omp target teams`)\n",
    "  * つまり次の形が普通\n"
   ]
  },
  {
   "cell_type": "code",
   "execution_count": null,
   "metadata": {
    "kernel": "Python 3 (ipykernel)",
    "nbgrader": {
     "grade": false,
     "grade_id": "c-022",
     "locked": false,
     "schema_version": 3,
     "solution": false,
     "task": false
    }
   },
   "outputs": [],
   "source": [
    "%%writefile omp_target_teams.c\n",
    "#include <stdio.h>\n",
    "int main() {\n",
    "  printf(\"hello on host\\n\");\n",
    "#pragma omp target teams\n",
    "  printf(\"hello, I am the master of a team\\n\");\n",
    "  printf(\"back on host\\n\");\n",
    "  return 0;\n",
    "}"
   ]
  },
  {
   "cell_type": "code",
   "execution_count": null,
   "metadata": {
    "kernel": "Bash",
    "nbgrader": {
     "grade": false,
     "grade_id": "c-023",
     "locked": false,
     "schema_version": 3,
     "solution": false,
     "task": false
    }
   },
   "outputs": [],
   "source": [
    "nvc -mp=gpu omp_target_teams.c -o omp_target_teams_gpu.exe"
   ]
  },
  {
   "cell_type": "code",
   "execution_count": null,
   "metadata": {
    "kernel": "Bash",
    "nbgrader": {
     "grade": false,
     "grade_id": "c-024",
     "locked": false,
     "schema_version": 3,
     "solution": false,
     "task": false
    }
   },
   "outputs": [],
   "source": [
    "./omp_target_teams_gpu.exe"
   ]
  },
  {
   "cell_type": "markdown",
   "metadata": {
    "kernel": "SoS",
    "nbgrader": {
     "grade": false,
     "grade_id": "c-025",
     "locked": true,
     "schema_version": 3,
     "solution": false,
     "task": false
    }
   },
   "source": [
    "## 5-2. チームの数を指定する\n",
    "* `teams` 構文で作成されるチームの数を $x$ に設定するには、以下のいずれかの方法がある\n",
    "  * `teams` 構文に `num_teams(x)` を追加 (`parallel` 構文の `num_threads` と類似)\n",
    "  * コマンド実行時に `OMP_NUM_TEAMS=x` 環境変数を設定 (`OMP_NUM_THREADS` と類似)"
   ]
  },
  {
   "cell_type": "code",
   "execution_count": null,
   "metadata": {
    "kernel": "Bash",
    "nbgrader": {
     "grade": false,
     "grade_id": "c-026",
     "locked": false,
     "schema_version": 3,
     "solution": false,
     "task": false
    }
   },
   "outputs": [],
   "source": [
    "OMP_NUM_TEAMS=3 ./omp_teams_gpu.exe"
   ]
  },
  {
   "cell_type": "markdown",
   "metadata": {
    "kernel": "SoS",
    "nbgrader": {
     "grade": false,
     "grade_id": "c-027",
     "locked": true,
     "schema_version": 3,
     "solution": false,
     "task": false
    }
   },
   "source": [
    "* 上記の3を色々変えて実行してみよ"
   ]
  },
  {
   "cell_type": "markdown",
   "metadata": {
    "kernel": "SoS",
    "nbgrader": {
     "grade": false,
     "grade_id": "c-028",
     "locked": true,
     "schema_version": 3,
     "solution": false,
     "task": false
    }
   },
   "source": [
    "\n",
    "## 5-3. チームIDとチーム数の取得\n",
    "* `omp_get_thread_num()` と `omp_get_num_threads()` がスレッドIDとスレッド数を取得するのと同様に、チームIDとチーム数を取得できる\n",
    "  * `omp_get_team_num()`\n",
    "  * `omp_get_num_teams()` "
   ]
  },
  {
   "cell_type": "code",
   "execution_count": null,
   "metadata": {
    "kernel": "Python 3 (ipykernel)",
    "nbgrader": {
     "grade": false,
     "grade_id": "c-029",
     "locked": false,
     "schema_version": 3,
     "solution": false,
     "task": false
    }
   },
   "outputs": [],
   "source": [
    "%%writefile omp_team_num.c\n",
    "#include <stdio.h>\n",
    "#include <omp.h>\n",
    "int main() {\n",
    "  printf(\"hello on host\\n\");\n",
    "#pragma omp target\n",
    "#pragma omp teams\n",
    "  printf(\"in teams: %03d/%03d\\n\", omp_get_team_num(), omp_get_num_teams());\n",
    "  printf(\"back on host\\n\");\n",
    "  return 0;\n",
    "}"
   ]
  },
  {
   "cell_type": "code",
   "execution_count": null,
   "metadata": {
    "kernel": "Bash",
    "nbgrader": {
     "grade": false,
     "grade_id": "c-030",
     "locked": false,
     "schema_version": 3,
     "solution": false,
     "task": false
    }
   },
   "outputs": [],
   "source": [
    "nvc -mp=gpu omp_team_num.c -o omp_team_num_gpu.exe"
   ]
  },
  {
   "cell_type": "markdown",
   "metadata": {
    "kernel": "SoS",
    "nbgrader": {
     "grade": false,
     "grade_id": "c-031",
     "locked": true,
     "schema_version": 3,
     "solution": false,
     "task": false
    }
   },
   "source": [
    "\n",
    "* 実行"
   ]
  },
  {
   "cell_type": "code",
   "execution_count": null,
   "metadata": {
    "kernel": "Bash",
    "nbgrader": {
     "grade": false,
     "grade_id": "c-032",
     "locked": false,
     "schema_version": 3,
     "solution": false,
     "task": false
    }
   },
   "outputs": [],
   "source": [
    "OMP_NUM_TEAMS=5 ./omp_team_num_gpu.exe"
   ]
  },
  {
   "cell_type": "markdown",
   "metadata": {
    "kernel": "SoS",
    "nbgrader": {
     "grade": false,
     "grade_id": "c-033",
     "locked": true,
     "schema_version": 3,
     "solution": false,
     "task": false
    }
   },
   "source": [
    "\n",
    "* `OMP_NUM_TEAMS` を設定せずに実行"
   ]
  },
  {
   "cell_type": "code",
   "execution_count": null,
   "metadata": {
    "kernel": "Bash",
    "nbgrader": {
     "grade": false,
     "grade_id": "c-034",
     "locked": false,
     "schema_version": 3,
     "solution": false,
     "task": false
    }
   },
   "outputs": [],
   "source": [
    "./omp_team_num_gpu.exe"
   ]
  },
  {
   "cell_type": "markdown",
   "metadata": {
    "kernel": "SoS",
    "nbgrader": {
     "grade": false,
     "grade_id": "c-035",
     "locked": true,
     "schema_version": 3,
     "solution": false,
     "task": false
    }
   },
   "source": [
    "\n",
    "* 108のチームが作られる\n",
    "* それはこの環境のGPU (NVIDIA A100)に備わる「コア」の数である\n",
    "* マルチコア環境で`OMP_NUM_THREADS`を指定せずに`#pragma omp parallel`を実行したときにコア数だけのスレッドが作られるのと似ている\n",
    "* なおNVIDIA GPUでは普通のCPUで言うところの「コア」を「Streaming Multiprocessor」と呼ぶ\n",
    "* つまり `OMP_NUM_TEAMS` や `num_teams` による指定を省略すると, (仕様上そう定められているかは知らないが普通), Streaming Multiprocessorの数だけのチームが作られる\n",
    "* そしてこの環境やWisteriaに搭載されているNVIDIA A100 GPUは108 のStreaming Multiprocessor を備えているということ\n",
    "* なおこれは特段驚くような多さではなく, CPUでもサーバー用ではこのくらいのコア数を持つものがある\n"
   ]
  },
  {
   "cell_type": "markdown",
   "metadata": {
    "kernel": "SoS",
    "nbgrader": {
     "grade": false,
     "grade_id": "c-036",
     "locked": true,
     "schema_version": 3,
     "solution": false,
     "task": false
    }
   },
   "source": [
    "\n",
    "# 6. [`#pragma omp distribute`](https://www.openmp.org/spec-html/5.0/openmpsu43.html#x66-1580002.9.4) $\\sim$ for文の繰り返しをチーム間で分割実行\n",
    "* <font color=\"blue\">構文</font>\n",
    "```\n",
    "#pragma omp target\n",
    "#pragma omp teams\n",
    "    {\n",
    "      ...\n",
    "#pragma omp distribute\n",
    "      for (...) {\n",
    "        ...\n",
    "      }\n",
    "    }\n",
    "```\n",
    "for文の繰り返しをチームに分配する\n",
    "\n",
    "* `distribute` の直下に書けるfor文には, `parallel` の下に書けるfor文と同じ制限 (breakできない, など)が有る\n",
    "* だいたい,\n",
    "  * `#pragma omp teams` $\\approx$ `#pragma omp parallel` \n",
    "  * `#pragma omp distribute` $\\approx$ `#pragma omp for`\n",
    "と思っておけばよい\n"
   ]
  },
  {
   "cell_type": "code",
   "execution_count": null,
   "metadata": {
    "kernel": "Python 3 (ipykernel)",
    "nbgrader": {
     "grade": false,
     "grade_id": "c-037",
     "locked": false,
     "schema_version": 3,
     "solution": false,
     "task": false
    }
   },
   "outputs": [],
   "source": [
    "%%writefile omp_distribute.c\n",
    "#include <stdio.h>\n",
    "#include <stdlib.h>\n",
    "#include <omp.h>\n",
    "int main(int argc, char ** argv) {\n",
    "  int i = 1;\n",
    "  int m = (argc > i ? atoi(argv[i]) : 5); i++;\n",
    "  printf(\"hello on host\\n\");\n",
    "#pragma omp target\n",
    "#pragma omp teams\n",
    "  {\n",
    "    printf(\"in teams: %03d/%03d\\n\", omp_get_team_num(), omp_get_num_teams());\n",
    "#pragma omp distribute\n",
    "    for (int i = 0; i < m; i++) {\n",
    "      printf(\"in distribute: i=%03d executed by %03d/%03d\\n\",\n",
    "             i, omp_get_team_num(), omp_get_num_teams());\n",
    "    }\n",
    "  }\n",
    "  printf(\"back on host\\n\");\n",
    "  return 0;\n",
    "}"
   ]
  },
  {
   "cell_type": "code",
   "execution_count": null,
   "metadata": {
    "kernel": "Bash",
    "nbgrader": {
     "grade": false,
     "grade_id": "c-038",
     "locked": false,
     "schema_version": 3,
     "solution": false,
     "task": false
    }
   },
   "outputs": [],
   "source": [
    "nvc -mp=gpu omp_distribute.c -o omp_distribute_gpu.exe"
   ]
  },
  {
   "cell_type": "markdown",
   "metadata": {
    "kernel": "SoS",
    "nbgrader": {
     "grade": false,
     "grade_id": "c-039",
     "locked": true,
     "schema_version": 3,
     "solution": false,
     "task": false
    }
   },
   "source": [
    "\n",
    "* 異なるチーム数とコマンドラインの繰り返し回数で次のコマンドを実行し、その結果を理解せよ"
   ]
  },
  {
   "cell_type": "code",
   "execution_count": null,
   "metadata": {
    "kernel": "Bash",
    "nbgrader": {
     "grade": false,
     "grade_id": "c-040",
     "locked": false,
     "schema_version": 3,
     "solution": false,
     "task": false
    }
   },
   "outputs": [],
   "source": [
    "OMP_NUM_TEAMS=3 ./omp_distribute_gpu.exe 5"
   ]
  },
  {
   "cell_type": "markdown",
   "metadata": {
    "kernel": "SoS",
    "nbgrader": {
     "grade": false,
     "grade_id": "c-041",
     "locked": true,
     "schema_version": 3,
     "solution": false,
     "task": false
    }
   },
   "source": [
    "\n",
    "# <font color=\"green\"> Problem 1 :  teams と distribute を理解する</font>\n",
    "* 後々混乱しないように簡単なクイズ\n",
    "* 上記のプログラムを <font color=\"blue\"><tt>OMP_NUM_TEAMS=$T$ ./omp_distribute_gpu.exe $m$</tt></font> で実行したときに、どの行が何スレッドによって実行されるか(何が何回表示されるか)を推測し、その結果、何行が出力されるかを, \n",
    "* $T$ と $m$ の式で答えよ"
   ]
  },
  {
   "cell_type": "markdown",
   "metadata": {
    "kernel": "SoS",
    "nbgrader": {
     "grade": true,
     "grade_id": "p-001",
     "locked": false,
     "points": 1,
     "schema_version": 3,
     "solution": true,
     "task": false
    }
   },
   "source": [
    "BEGIN SOLUTION\n",
    "END SOLUTION"
   ]
  },
  {
   "cell_type": "markdown",
   "metadata": {
    "kernel": "SoS",
    "nbgrader": {
     "grade": false,
     "grade_id": "c-042",
     "locked": true,
     "schema_version": 3,
     "solution": false,
     "task": false
    }
   },
   "source": [
    "* 答えを確認するために、以下のように `wc` コマンドを使用して行数を数えればよい(左端の数字が行数)\n",
    "\n",
    "* 次のコマンドを異なるチーム数とコマンドラインの繰り返し回数で実行せよ"
   ]
  },
  {
   "cell_type": "code",
   "execution_count": null,
   "metadata": {
    "kernel": "Bash",
    "nbgrader": {
     "grade": false,
     "grade_id": "c-043",
     "locked": false,
     "schema_version": 3,
     "solution": false,
     "task": false
    }
   },
   "outputs": [],
   "source": [
    "OMP_NUM_TEAMS=3 ./omp_distribute_gpu.exe 5 | wc -l"
   ]
  },
  {
   "cell_type": "markdown",
   "metadata": {
    "kernel": "SoS",
    "nbgrader": {
     "grade": false,
     "grade_id": "c-044",
     "locked": true,
     "schema_version": 3,
     "solution": false,
     "task": false
    }
   },
   "source": [
    "\n",
    "* 注:\n",
    "  * `teams` と `distribute` の間に何も文がなければ、1つの指示 (`#pragma omp teams distribute`)で書ける (`parallel` と `for` でできたのと同じ)\n",
    "  * `target` と `teams` を結合できた, ということで, 3つを1つの指示に結合できる"
   ]
  },
  {
   "cell_type": "code",
   "execution_count": null,
   "metadata": {
    "kernel": "Python 3 (ipykernel)",
    "nbgrader": {
     "grade": false,
     "grade_id": "c-045",
     "locked": false,
     "schema_version": 3,
     "solution": false,
     "task": false
    }
   },
   "outputs": [],
   "source": [
    "%%writefile omp_target_teams_distribute.c\n",
    "#include <stdio.h>\n",
    "#include <stdlib.h>\n",
    "#include <omp.h>\n",
    "int main(int argc, char ** argv) {\n",
    "  int i = 1;\n",
    "  int m = (argc > i ? atoi(argv[i]) : 5);\n",
    "  printf(\"hello on host\\n\");\n",
    "#pragma omp target teams distribute\n",
    "  for (int i = 0; i < m; i++) {\n",
    "    printf(\"in distribute: i=%03d executed by %03d/%03d\\n\",\n",
    "           i, omp_get_team_num(), omp_get_num_teams());\n",
    "  }\n",
    "  printf(\"back on host\\n\");\n",
    "  return 0;\n",
    "}"
   ]
  },
  {
   "cell_type": "code",
   "execution_count": null,
   "metadata": {
    "kernel": "Bash",
    "nbgrader": {
     "grade": false,
     "grade_id": "c-046",
     "locked": false,
     "schema_version": 3,
     "solution": false,
     "task": false
    }
   },
   "outputs": [],
   "source": [
    "nvc -mp=gpu omp_target_teams_distribute.c -o omp_target_teams_distribute_gpu.exe"
   ]
  },
  {
   "cell_type": "code",
   "execution_count": null,
   "metadata": {
    "kernel": "Bash",
    "nbgrader": {
     "grade": false,
     "grade_id": "c-047",
     "locked": false,
     "schema_version": 3,
     "solution": false,
     "task": false
    }
   },
   "outputs": [],
   "source": [
    "OMP_NUM_TEAMS=3 ./omp_target_teams_distribute_gpu.exe 7"
   ]
  },
  {
   "cell_type": "markdown",
   "metadata": {
    "kernel": "SoS",
    "nbgrader": {
     "grade": false,
     "grade_id": "c-048",
     "locked": true,
     "schema_version": 3,
     "solution": false,
     "task": false
    }
   },
   "source": [
    "\n",
    "* 見ての通り `teams` と `distribute` だけで `parallel` や `for` を使わずにループを並列化できる\n",
    "* それで起こることはGPUの**各コア (Streaming Multiprocessor) で1つ**のスレッドが実行するということである\n",
    "* CPUのコアはもともと1つのスレッドを実行するものだがGPUのStreaming Multiprocessorはそうではなく, 1つのコア内に多数のスレッドを実行する能力を持つ(逆に1スレッドの性能はCPUよりも遅い)\n",
    "* `parallel` を使用すると各チーム内にスレッドが作られ, 結果的に各Streaming Multiprocessor内で多数のスレッドを動かすことになる\n",
    "* 注: CPUは1コア内に1スレッド以上を動かすことはできない代わりに, SIMD命令と, 命令レベル並列性というものを使って**1スレッドの**性能を向上させることができる"
   ]
  },
  {
   "cell_type": "markdown",
   "metadata": {
    "kernel": "SoS",
    "nbgrader": {
     "grade": false,
     "grade_id": "c-049",
     "locked": true,
     "schema_version": 3,
     "solution": false,
     "task": false
    }
   },
   "source": [
    "\n",
    "# 7. [`#pragma omp parallel`](https://www.openmp.org/spec-html/5.0/openmpse14.html#x54-800002.6) $\\sim$ チーム内でのスレッドの作成\n",
    "## 7-1. `teams` 内の `parallel`\n",
    "* 構文:\n",
    "```\n",
    "#pragma omp target\n",
    "#pragma omp teams\n",
    "    {\n",
    "      ...\n",
    "#pragma omp parallel\n",
    "      S\n",
    "    }\n",
    "```\n",
    "各チーム内でスレッドを作成する\n",
    "\n",
    "* `teams` 内で使用すると、**各チーム**内でスレッドを作成し、それぞれが $S$ を実行する\n",
    "\n",
    "* 例として、<font color=\"blue\"><tt>OMP_NUM_TEAMS=$T$ OMP_NUM_THREADS=$H$ ./omp_team_parallel_gpu.exe</tt></font> は $T$ チームを作成し、それぞれが $H$ スレッドを作成する"
   ]
  },
  {
   "cell_type": "code",
   "execution_count": null,
   "metadata": {
    "kernel": "Python 3 (ipykernel)",
    "nbgrader": {
     "grade": false,
     "grade_id": "c-050",
     "locked": false,
     "schema_version": 3,
     "solution": false,
     "task": false
    }
   },
   "outputs": [],
   "source": [
    "%%writefile omp_parallel.c\n",
    "#include <stdio.h>\n",
    "#include <stdlib.h>\n",
    "#include <omp.h>\n",
    "int main(int argc, char ** argv) {\n",
    "  char * nthreads_ = getenv(\"OMP_NUM_THREADS\");\n",
    "  int    nthreads  = (nthreads_ ? atoi(nthreads_) : 1);\n",
    "  if (nthreads % 32) {\n",
    "    fprintf(stderr, \"OMP_NUM_THREADS (%d) must be a multiple of 32\\n\", nthreads);\n",
    "    exit(1);\n",
    "  }\n",
    "  printf(\"hello on host\\n\");\n",
    "#pragma omp target teams\n",
    "  {\n",
    "    printf(\"in teams: %03d/%03d\\n\", omp_get_team_num(), omp_get_num_teams());\n",
    "#pragma omp parallel num_threads(nthreads)\n",
    "    printf(\"in parallel: %03d/%03d %03d/%03d\\n\",\n",
    "           omp_get_team_num(), omp_get_num_teams(),\n",
    "           omp_get_thread_num(), omp_get_num_threads());\n",
    "  }\n",
    "  printf(\"back on host\\n\");\n",
    "  return 0;\n",
    "}"
   ]
  },
  {
   "cell_type": "code",
   "execution_count": null,
   "metadata": {
    "kernel": "Bash",
    "nbgrader": {
     "grade": false,
     "grade_id": "c-051",
     "locked": false,
     "schema_version": 3,
     "solution": false,
     "task": false
    }
   },
   "outputs": [],
   "source": [
    "nvc -mp=gpu omp_parallel.c -o omp_parallel_gpu.exe"
   ]
  },
  {
   "cell_type": "code",
   "execution_count": null,
   "metadata": {
    "kernel": "Bash",
    "nbgrader": {
     "grade": false,
     "grade_id": "c-052",
     "locked": false,
     "schema_version": 3,
     "solution": false,
     "task": false
    }
   },
   "outputs": [],
   "source": [
    "OMP_NUM_TEAMS=3 OMP_NUM_THREADS=32 ./omp_parallel_gpu.exe"
   ]
  },
  {
   "cell_type": "markdown",
   "metadata": {
    "kernel": "SoS",
    "nbgrader": {
     "grade": false,
     "grade_id": "c-053",
     "locked": true,
     "schema_version": 3,
     "solution": false,
     "task": false
    }
   },
   "source": [
    "\n",
    "* マルチコアCPUでもスレッドを作成するために `parallel` を使用したことを思い出そう\n",
    "* ただし`teams` は不要だった\n",
    "* これはマルチコアCPU環境では、全体が一つのチームだったと考えれば辻褄が合う\n",
    "* 実はCPUであっても, `#pragma target teams` をつけても害はない\n",
    "* 1つチームが作られ, その後`#pragma omp parallel`でその一つのチーム内にスレッドが作られるという動作になる\n",
    "\n",
    "* <font color=\"red\">重要な注意1: GPUではOMP_NUM_THREADS は効き目がない</font>模様\n",
    "  * CPUでは、`parallel` によって作成されるスレッド数は `OMP_NUM_THREADS=x` 環境変数や `parallel` 指令の `num_threads(x)` で指定できた\n",
    "  * しかし、GPUで実行する場合はこれができない模様 (実装の問題か仕様の問題かは不明)\n",
    "  * 設定する必要がある場合は、`num_threads(x)` を使用する必要がある\n",
    "    * 上記のプログラムでは環境変数を(`getenv`で)読んで`num_threads(x)` に渡している\n",
    "  * または省略してシステムに任せる\n",
    "* <font color=\"red\">重要な注意2: スレッド数は32の倍数でなければならない</font>模様\n",
    "  * 詳しくは省略するがGPUのハードウェアの仕組み(32スレッドからなるwarpという単位で同時に実行する)を考えると頷ける動作\n",
    "  * そうでない数を設定してもエラーも発生しないため, くれぐれも誤った数を指定しないように注意する必要がある\n",
    "  * 特に必要ない限りシステムに任せるのが無難\n"
   ]
  },
  {
   "cell_type": "markdown",
   "metadata": {
    "kernel": "SoS",
    "nbgrader": {
     "grade": false,
     "grade_id": "c-054",
     "locked": true,
     "schema_version": 3,
     "solution": false,
     "task": false
    }
   },
   "source": [
    "\n",
    "# <font color=\"green\"> Problem 2 :  teamsとparallelを理解する</font>\n",
    "* `teams`と`parallel`の組み合わせに関するクイズ\n",
    "* 上記のプログラムを <font color=\"blue\"><tt>OMP_NUM_TEAMS=$T$ OMP_NUM_THREADS=$H$ ./omp_parallel_gpu.exe</tt></font> で実行したときに、どの行が何スレッドによって実行されるかを推測し、その結果、何行が出力されるかを表現します\n",
    "* 答えを $T$ と $H$ の式で答えよ"
   ]
  },
  {
   "cell_type": "markdown",
   "metadata": {
    "kernel": "SoS",
    "nbgrader": {
     "grade": true,
     "grade_id": "p-002",
     "locked": false,
     "points": 1,
     "schema_version": 3,
     "solution": true,
     "task": false
    }
   },
   "source": [
    "BEGIN SOLUTION\n",
    "END SOLUTION"
   ]
  },
  {
   "cell_type": "markdown",
   "metadata": {
    "kernel": "SoS",
    "nbgrader": {
     "grade": false,
     "grade_id": "c-055",
     "locked": true,
     "schema_version": 3,
     "solution": false,
     "task": false
    }
   },
   "source": [
    "* 答えを簡単に確認するために、`wc` コマンドを使用して行数を数えよ"
   ]
  },
  {
   "cell_type": "code",
   "execution_count": null,
   "metadata": {
    "kernel": "Bash",
    "nbgrader": {
     "grade": false,
     "grade_id": "c-056",
     "locked": false,
     "schema_version": 3,
     "solution": false,
     "task": false
    }
   },
   "outputs": [],
   "source": [
    "OMP_NUM_TEAMS=3 OMP_NUM_THREADS=32 ./omp_parallel_gpu.exe | wc -l"
   ]
  },
  {
   "cell_type": "markdown",
   "metadata": {
    "kernel": "SoS",
    "nbgrader": {
     "grade": false,
     "grade_id": "c-057",
     "locked": true,
     "schema_version": 3,
     "solution": false,
     "task": false
    }
   },
   "source": [
    "\n",
    "## 7-2. `teams` 内の `distribute` 内の `parallel`\n",
    "* 典型的には、`parallel` は `distribute` 内 (必然的に `teams` 内) で呼び出す\n",
    "* 以下は構文的には新しいことは何もない\n"
   ]
  },
  {
   "cell_type": "code",
   "execution_count": null,
   "metadata": {
    "kernel": "Python 3 (ipykernel)",
    "nbgrader": {
     "grade": false,
     "grade_id": "c-058",
     "locked": false,
     "schema_version": 3,
     "solution": false,
     "task": false
    }
   },
   "outputs": [],
   "source": [
    "%%writefile omp_distribute_parallel.c\n",
    "#include <stdio.h>\n",
    "#include <stdlib.h>\n",
    "#include <omp.h>\n",
    "int main(int argc, char ** argv) {\n",
    "  char * nthreads_ = getenv(\"OMP_NUM_THREADS\");\n",
    "  int    nthreads  = (nthreads_ ? atoi(nthreads_) : 1);\n",
    "  if (nthreads % 32) {\n",
    "    fprintf(stderr, \"OMP_NUM_THREADS (%d) must be a multiple of 32\\n\", nthreads);\n",
    "    exit(1);\n",
    "  }\n",
    "  int m = (argc > 1 ? atoi(argv[1]) : 5);\n",
    "  printf(\"hello on host\\n\");\n",
    "#pragma omp target teams\n",
    "  {\n",
    "    printf(\"in teams: %03d/%03d\\n\", omp_get_team_num(), omp_get_num_teams());\n",
    "#pragma omp distribute\n",
    "    for (int i = 0; i < m; i++) {\n",
    "      printf(\"in distribute: i=%03d executed by %03d/%03d\\n\",\n",
    "             i, omp_get_team_num(), omp_get_num_teams());\n",
    "#pragma omp parallel num_threads(nthreads)\n",
    "      printf(\"in parallel: i=%03d %03d/%03d %03d/%03d\\n\",\n",
    "             i, omp_get_team_num(), omp_get_num_teams(),\n",
    "             omp_get_thread_num(), omp_get_num_threads());\n",
    "    }\n",
    "  }\n",
    "  printf(\"back on host\\n\");\n",
    "  return 0;\n",
    "}"
   ]
  },
  {
   "cell_type": "code",
   "execution_count": null,
   "metadata": {
    "kernel": "Bash",
    "nbgrader": {
     "grade": false,
     "grade_id": "c-059",
     "locked": false,
     "schema_version": 3,
     "solution": false,
     "task": false
    }
   },
   "outputs": [],
   "source": [
    "nvc -mp=gpu omp_distribute_parallel.c -o omp_distribute_parallel_gpu.exe"
   ]
  },
  {
   "cell_type": "code",
   "execution_count": null,
   "metadata": {
    "kernel": "Bash",
    "nbgrader": {
     "grade": false,
     "grade_id": "c-060",
     "locked": false,
     "schema_version": 3,
     "solution": false,
     "task": false
    }
   },
   "outputs": [],
   "source": [
    "OMP_NUM_TEAMS=3 OMP_NUM_THREADS=32 ./omp_distribute_parallel_gpu.exe 5"
   ]
  },
  {
   "cell_type": "markdown",
   "metadata": {
    "kernel": "SoS",
    "nbgrader": {
     "grade": false,
     "grade_id": "c-061",
     "locked": true,
     "schema_version": 3,
     "solution": false,
     "task": false
    }
   },
   "source": [
    "\n",
    "# <font color=\"green\"> Problem 3 :  teams, distribute, parallelを理解する</font>\n",
    "* team, distribute, parallelの組み合わせに関するクイズ\n",
    "* 上記のプログラムを <font color=\"blue\"><tt>OMP_NUM_TEAMS=$T$ OMP_NUM_THREADS=$H$ ./omp_distribute_parallel_gpu.exe $m$</tt></font> で実行したときに、どの行が何スレッドによって実行されるかを推測し、その結果、何行が出力されるかを式で表せ\n",
    "* $T$, $H$, $m$ の式で答えよ"
   ]
  },
  {
   "cell_type": "markdown",
   "metadata": {
    "kernel": "SoS",
    "nbgrader": {
     "grade": true,
     "grade_id": "p-003",
     "locked": false,
     "points": 1,
     "schema_version": 3,
     "solution": true,
     "task": false
    }
   },
   "source": [
    "BEGIN SOLUTION\n",
    "END SOLUTION"
   ]
  },
  {
   "cell_type": "markdown",
   "metadata": {
    "kernel": "SoS",
    "nbgrader": {
     "grade": false,
     "grade_id": "c-062",
     "locked": true,
     "schema_version": 3,
     "solution": false,
     "task": false
    }
   },
   "source": [
    "* 答えを簡単に確認するために、`wc` コマンドを使用して行数を数えよ"
   ]
  },
  {
   "cell_type": "code",
   "execution_count": null,
   "metadata": {
    "kernel": "Bash",
    "nbgrader": {
     "grade": false,
     "grade_id": "c-063",
     "locked": false,
     "schema_version": 3,
     "solution": false,
     "task": false
    }
   },
   "outputs": [],
   "source": [
    "OMP_NUM_TEAMS=3 OMP_NUM_THREADS=32 ./omp_distribute_parallel_gpu.exe 5 | wc -l"
   ]
  },
  {
   "cell_type": "markdown",
   "metadata": {
    "kernel": "SoS",
    "nbgrader": {
     "grade": false,
     "grade_id": "c-064",
     "locked": true,
     "schema_version": 3,
     "solution": false,
     "task": false
    }
   },
   "source": [
    "\n",
    "# 8. [`#pragma omp for`](https://www.openmp.org/spec-html/5.0/openmpsu41.html#x64-1290002.9.2) $\\sim$ for文の繰り返しをスレッド間で分割実行\n",
    "* 構文:\n",
    "```\n",
    "#pragma omp target\n",
    "#pragma omp teams\n",
    "    ...\n",
    "#pragma omp distribute\n",
    "#pragma omp parallel\n",
    "    ...\n",
    "#pragma omp for\n",
    "for (...) {\n",
    "    ...\n",
    "}  \n",
    "```\n",
    "\n",
    "* `parallel` 内で使用されると、ループの繰り返しをスレッドに分配する\n"
   ]
  },
  {
   "cell_type": "code",
   "execution_count": null,
   "metadata": {
    "kernel": "Python 3 (ipykernel)",
    "nbgrader": {
     "grade": false,
     "grade_id": "c-065",
     "locked": false,
     "schema_version": 3,
     "solution": false,
     "task": false
    }
   },
   "outputs": [],
   "source": [
    "%%writefile omp_for.c\n",
    "#include <stdio.h>\n",
    "#include <stdlib.h>\n",
    "#include <omp.h>\n",
    "int main(int argc, char ** argv) {\n",
    "  char * nthreads_ = getenv(\"OMP_NUM_THREADS\");\n",
    "  int    nthreads  = (nthreads_ ? atoi(nthreads_) : 1);\n",
    "  if (nthreads % 32) {\n",
    "    fprintf(stderr, \"OMP_NUM_THREADS (%d) must be a multiple of 32\\n\", nthreads);\n",
    "    exit(1);\n",
    "  }\n",
    "  int m = (argc > 1 ? atoi(argv[1]) : 5);\n",
    "  int n = (argc > 2 ? atoi(argv[2]) : 6);\n",
    "  printf(\"hello on host\\n\");\n",
    "#pragma omp target teams\n",
    "  {\n",
    "    printf(\"in teams: %03d/%03d\\n\", omp_get_team_num(), omp_get_num_teams());\n",
    "#pragma omp distribute\n",
    "    for (int i = 0; i < m; i++) {\n",
    "      printf(\"in distribute: i=%03d executed by %03d/%03d\\n\",\n",
    "             i, omp_get_team_num(), omp_get_num_teams());\n",
    "#pragma omp parallel num_threads(nthreads)\n",
    "      printf(\"in parallel: i=%03d %03d/%03d %03d/%03d\\n\",\n",
    "             i, omp_get_team_num(), omp_get_num_teams(),\n",
    "             omp_get_thread_num(), omp_get_num_threads());\n",
    "#pragma omp for\n",
    "      for (int j = 0; j < n; j++) {\n",
    "        printf(\"in for: i=%03d j=%03d executed by %03d/%03d %03d/%03d\\n\",\n",
    "               i, j, omp_get_team_num(), omp_get_num_teams(),\n",
    "               omp_get_thread_num(), omp_get_num_threads());\n",
    "      }\n",
    "    }\n",
    "  }\n",
    "  printf(\"back on host\\n\");\n",
    "  return 0;\n",
    "}"
   ]
  },
  {
   "cell_type": "code",
   "execution_count": null,
   "metadata": {
    "kernel": "Bash",
    "nbgrader": {
     "grade": false,
     "grade_id": "c-066",
     "locked": false,
     "schema_version": 3,
     "solution": false,
     "task": false
    }
   },
   "outputs": [],
   "source": [
    "nvc -mp=gpu omp_for.c -o omp_for_gpu.exe"
   ]
  },
  {
   "cell_type": "code",
   "execution_count": null,
   "metadata": {
    "kernel": "Bash",
    "nbgrader": {
     "grade": false,
     "grade_id": "c-067",
     "locked": false,
     "schema_version": 3,
     "solution": false,
     "task": false
    }
   },
   "outputs": [],
   "source": [
    "OMP_NUM_TEAMS=3 OMP_NUM_THREADS=32 ./omp_for_gpu.exe 5 6"
   ]
  },
  {
   "cell_type": "markdown",
   "metadata": {
    "kernel": "SoS",
    "nbgrader": {
     "grade": false,
     "grade_id": "c-068",
     "locked": true,
     "schema_version": 3,
     "solution": false,
     "task": false
    }
   },
   "source": [
    "\n",
    "# <font color=\"green\"> Problem 4 :  teams, distributed, paralle, for を理解する</font>\n",
    "* teams, distributed, paralle, for の組み合わせに関するクイズ\n",
    "* 上記のプログラムを <font color=\"blue\"><tt>OMP_NUM_TEAMS=$T$ OMP_NUM_THREADS=$H$ ./omp_for_gpu.exe $m$ $n$</tt></font> で実行したときに、どの行が何スレッドによって実行されるかを推測し、その結果、何行が出力されるかを式で洗わせ\n",
    "* $T$, $H$, $m$, $n$ の式で表せ\n",
    "* 答えを簡単に確認するために、`wc` コマンドを使用して行数を数えよ"
   ]
  },
  {
   "cell_type": "code",
   "execution_count": null,
   "metadata": {
    "kernel": "Bash",
    "nbgrader": {
     "grade": false,
     "grade_id": "c-069",
     "locked": false,
     "schema_version": 3,
     "solution": false,
     "task": false
    }
   },
   "outputs": [],
   "source": [
    "OMP_NUM_TEAMS=3 OMP_NUM_THREADS=32 ./omp_for_gpu.exe 5 6 | wc -l"
   ]
  },
  {
   "cell_type": "markdown",
   "metadata": {
    "kernel": "SoS",
    "nbgrader": {
     "grade": false,
     "grade_id": "c-070",
     "locked": true,
     "schema_version": 3,
     "solution": false,
     "task": false
    }
   },
   "source": [
    "\n",
    "# 9. よく出てくるディレクティブの結合\n",
    "* 論理的な一貫性のない多くの異なる指示の名前にうんざりすることだろう\n",
    "* それぞれは名目上は独立した指示ですが、実際にはほとんど常に一緒に使用される\n",
    "* 多くの場合, 目的はループを並列に実行することなので、以下の形式のいずれかで使用されることが多い\n",
    "\n",
    "1\\. すべてを結合\n",
    "```\n",
    "#pragma omp target teams distribute parallel for\n",
    "    for (...) {\n",
    "      ...\n",
    "    }\n",
    "```\n",
    "2\\. 外側のループを `teams` と `distribute` で並列化し、内側のループを `parallel` と `for` で並列化する\n",
    "\n",
    "```\n",
    "#pragma omp target teams distribute\n",
    "    for (...) {\n",
    "#pragma omp parallel for\n",
    "      for (...) {\n",
    "        ...\n",
    "      }\n",
    "    }  \n",
    "```\n"
   ]
  },
  {
   "cell_type": "markdown",
   "metadata": {
    "kernel": "SoS",
    "nbgrader": {
     "grade": false,
     "grade_id": "c-071",
     "locked": true,
     "schema_version": 3,
     "solution": false,
     "task": false
    }
   },
   "source": [
    "\n",
    "# 10. [`#pragma omp target data`](https://www.openmp.org/spec-html/5.0/openmpsu57.html#x83-2580002.12.2) $\\sim$ ホストCPUとGPU間のデータをマッピングする\n",
    "* GPUはCPUと異なるメモリを持っていて, (CPU内のコアと異なり)メモリをハードウェア的に共有しているわけではない(実は最近この事情は変わりつつあるが, 少なくともこの環境やWisteriaはそうではない)\n",
    "* したがってある計算をGPU上で行おうと思ったら一般にはその計算が必要とするデータをGPUに送ってから実行する必要がある\n",
    "* 逆にGPU上で得た結果をCPUで使いたければ, GPUが計算した結果をCPUに送る必要がある\n",
    "* `target data` とその `map` 節は、それらのデータ転送を手軽に行う指示である\n",
    "\n",
    "* <font color=\"red\">警告：</font> [仕様書](https://www.openmp.org/spec-html/5.0/openmpsu109.html#x142-6180002.19.7)は法律のようなわかりにくさ\n",
    "* 以下はより直截で, 普通の日本語で説明を試みているが、一部は仕様書で裏を取らず, 実際の実験や実装が行っているであろうことの想像に基づいて書かれている\n",
    "\n",
    "* <font color=\"blue\">構文：</font>\n",
    "```\n",
    "#pragma omp target data map(to: ...) map(from: ...) map(tofrom: ...) ...\n",
    "    S\n",
    "```\n",
    "ここで、... は変数、配列名、または基底アドレス + 範囲 (例: a[0:n])など\n",
    "\n",
    "* これらの節は指定された変数、配列、またはアドレス範囲が $S$ の間または後に「期待される」値を持つという効果をもたらす\n",
    "* より具体的には、\n",
    "  * `map(to: ...)` に指定されたものは $S$ の間GPU上で有効になります\n",
    "  * `map(from: ...)` に指定されたものは $S$ の後CPU上で有効になります\n",
    "* これを達成するために、実行時システムによってCPUアドレスとGPUアドレス間の <font color=\"blue\">_マッピング_</font> が維持され、必要に応じて内容がCPU-GPU間で移動する(コピーされる)\n",
    "  * `map(to: ...)` に指定されたデータは $S$ の前に必要ならばGPUにコピーされる (CPU -> GPU)\n",
    "  * `map(from: ...)` に指定されたデータは $S$ の後に必要ならばGPUからコピーされる (GPU -> CPU)\n",
    "  * `map(tofrom: ...)` は両方の効果を持つ\n",
    "* `map` 節を指定しなくても同じ効果を持つこともある(が, どういうときにそうなるかを仕様書から理解しようとするよりも, 指定するほうが早い)\n",
    "\n",
    "* 通常、このディレクティブは `#pragma omp target` と一緒に使用され、実際にこれらの節を `#pragma omp target` に指定することもできる\n"
   ]
  },
  {
   "cell_type": "markdown",
   "metadata": {
    "kernel": "SoS",
    "nbgrader": {
     "grade": false,
     "grade_id": "c-072",
     "locked": true,
     "schema_version": 3,
     "solution": false,
     "task": false
    }
   },
   "source": [
    "\n",
    "## 10-1. ローカル変数と配列\n",
    "* 以下のプログラムを実行してどの変数がGPUで利用可能か観察せよ\n"
   ]
  },
  {
   "cell_type": "code",
   "execution_count": null,
   "metadata": {
    "kernel": "Python 3 (ipykernel)",
    "nbgrader": {
     "grade": false,
     "grade_id": "c-073",
     "locked": false,
     "schema_version": 3,
     "solution": false,
     "task": false
    }
   },
   "outputs": [],
   "source": [
    "%%writefile omp_map_local.c\n",
    "#include <stdio.h>\n",
    "#include <stdlib.h>\n",
    "#include <omp.h>\n",
    "typedef struct { float x; float y; } point;\n",
    "int main(int argc, char ** argv) {\n",
    "  int i = 1;\n",
    "  float t = (argc > i ? atof(argv[i]) : 10.0); i++;\n",
    "  float a[3] = { t, t + 1, t + 2 };\n",
    "  point p = { t + 3, t + 4 };\n",
    "  // you do not have to explicitly say anything about t, a, or p.\n",
    "  // they are automatically available on GPU\n",
    "#pragma omp target\n",
    "  {\n",
    "    printf(\"GPU: t = %f\\n\", t);\n",
    "    printf(\"GPU: a = { %f, %f, %f }\\n\", a[0], a[1], a[2]);\n",
    "    printf(\"GPU: p = { %f, %f }\\n\", p.x, p.y);\n",
    "    t *= 2.0;\n",
    "    for (int i = 0; i < 3; i++) a[i] *= 2.0;\n",
    "    p.x *= 2.0; p.y *= 2.0;\n",
    "  }\n",
    "  printf(\"CPU: t = %f\\n\", t);\n",
    "  printf(\"CPU: a = { %f, %f, %f }\\n\", a[0], a[1], a[2]);\n",
    "  printf(\"CPU: p = { %f, %f }\\n\", p.x, p.y);\n",
    "  return 0;\n",
    "}"
   ]
  },
  {
   "cell_type": "code",
   "execution_count": null,
   "metadata": {
    "kernel": "Bash",
    "nbgrader": {
     "grade": false,
     "grade_id": "c-074",
     "locked": false,
     "schema_version": 3,
     "solution": false,
     "task": false
    }
   },
   "outputs": [],
   "source": [
    "nvc -mp=gpu omp_map_local.c -o omp_map_local_gpu.exe"
   ]
  },
  {
   "cell_type": "code",
   "execution_count": null,
   "metadata": {
    "kernel": "Bash",
    "nbgrader": {
     "grade": false,
     "grade_id": "c-075",
     "locked": false,
     "schema_version": 3,
     "solution": false,
     "task": false
    }
   },
   "outputs": [],
   "source": [
    "./omp_map_local_gpu.exe"
   ]
  },
  {
   "cell_type": "markdown",
   "metadata": {
    "kernel": "SoS",
    "nbgrader": {
     "grade": false,
     "grade_id": "c-076",
     "locked": true,
     "schema_version": 3,
     "solution": false,
     "task": false
    }
   },
   "source": [
    "\n",
    "# <font color=\"green\"> Problem 5 :  `map(from: ..)` または `map(tofrom: ..)` の利用</font>\n",
    "* CPUがすべての結果(`t, a, p`にGPUが書き込んだ値)を取得(正しく表示)できるよう, 適切な `map` 節を追加せよ\n"
   ]
  },
  {
   "cell_type": "code",
   "execution_count": null,
   "metadata": {
    "kernel": "Python 3 (ipykernel)",
    "nbgrader": {
     "grade": false,
     "grade_id": "c-077",
     "locked": false,
     "schema_version": 3,
     "solution": false,
     "task": false
    }
   },
   "outputs": [],
   "source": [
    "%%writefile omp_map_local.c\n",
    "#include <stdio.h>\n",
    "#include <stdlib.h>\n",
    "#include <omp.h>\n",
    "typedef struct { float x; float y; } point;\n",
    "int main(int argc, char ** argv) {\n",
    "  int i = 1;\n",
    "  float t = (argc > i ? atof(argv[i]) : 10.0); i++;\n",
    "  float a[3] = { t, t + 1, t + 2 };\n",
    "  point p = { t + 3, t + 4 };\n",
    "  // you do not have to explicitly say anything about t, a, or p.\n",
    "  // they are automatically available on GPU\n",
    "#pragma omp target\n",
    "  {\n",
    "    printf(\"GPU: t = %f\\n\", t);\n",
    "    printf(\"GPU: a = { %f, %f, %f }\\n\", a[0], a[1], a[2]);\n",
    "    printf(\"GPU: p = { %f, %f }\\n\", p.x, p.y);\n",
    "    t *= 2.0;\n",
    "    for (int i = 0; i < 3; i++) a[i] *= 2.0;\n",
    "    p.x *= 2.0; p.y *= 2.0;\n",
    "  }\n",
    "  printf(\"CPU: t = %f\\n\", t);\n",
    "  printf(\"CPU: a = { %f, %f, %f }\\n\", a[0], a[1], a[2]);\n",
    "  printf(\"CPU: p = { %f, %f }\\n\", p.x, p.y);\n",
    "  return 0;\n",
    "}"
   ]
  },
  {
   "cell_type": "code",
   "execution_count": null,
   "metadata": {
    "kernel": "Bash",
    "nbgrader": {
     "grade": false,
     "grade_id": "c-078",
     "locked": false,
     "schema_version": 3,
     "solution": false,
     "task": false
    }
   },
   "outputs": [],
   "source": [
    "nvc -mp=gpu omp_map_local.c -o omp_map_local_gpu.exe"
   ]
  },
  {
   "cell_type": "code",
   "execution_count": null,
   "metadata": {
    "kernel": "Bash",
    "nbgrader": {
     "grade": false,
     "grade_id": "c-079",
     "locked": false,
     "schema_version": 3,
     "solution": false,
     "task": false
    }
   },
   "outputs": [],
   "source": [
    "./omp_map_local_gpu.exe"
   ]
  },
  {
   "cell_type": "markdown",
   "metadata": {
    "kernel": "SoS",
    "nbgrader": {
     "grade": false,
     "grade_id": "c-080",
     "locked": true,
     "schema_version": 3,
     "solution": false,
     "task": false
    }
   },
   "source": [
    "\n",
    "## 10-2. グローバル変数と配列\n",
    "* 先と同様, 以下のプログラムを実行してどの変数がGPUで利用可能か観察せよ\n"
   ]
  },
  {
   "cell_type": "code",
   "execution_count": null,
   "metadata": {
    "kernel": "Python 3 (ipykernel)",
    "nbgrader": {
     "grade": false,
     "grade_id": "c-081",
     "locked": false,
     "schema_version": 3,
     "solution": false,
     "task": false
    }
   },
   "outputs": [],
   "source": [
    "%%writefile omp_map_global.c\n",
    "#include <stdio.h>\n",
    "#include <stdlib.h>\n",
    "#include <omp.h>\n",
    "typedef struct { float x; float y; } point;\n",
    "float t;\n",
    "float a[3];\n",
    "point p;\n",
    "int main(int argc, char ** argv) {\n",
    "  int i = 1;\n",
    "  t = (argc > i ? atof(argv[i]) : 10.0); i++;\n",
    "  for (int i = 0; i < 3; i++) { a[i] = t + i; }\n",
    "  p.x = t + 3; p.y = t + 4;\n",
    "#pragma omp target\n",
    "  {\n",
    "    printf(\"GPU: t = %f\\n\", t);\n",
    "    printf(\"GPU: a = { %f, %f, %f }\\n\", a[0], a[1], a[2]);\n",
    "    printf(\"GPU: p = { %f, %f }\\n\", p.x, p.y);\n",
    "    t *= 2.0;\n",
    "    for (int i = 0; i < 3; i++) a[i] *= 2.0;\n",
    "    p.x *= 2.0; p.y *= 2.0;\n",
    "  }\n",
    "  printf(\"CPU: t = %f\\n\", t);\n",
    "  printf(\"CPU: a = { %f, %f, %f }\\n\", a[0], a[1], a[2]);\n",
    "  printf(\"CPU: p = { %f, %f }\\n\", p.x, p.y);\n",
    "  return 0;\n",
    "}"
   ]
  },
  {
   "cell_type": "code",
   "execution_count": null,
   "metadata": {
    "kernel": "Bash",
    "nbgrader": {
     "grade": false,
     "grade_id": "c-082",
     "locked": false,
     "schema_version": 3,
     "solution": false,
     "task": false
    }
   },
   "outputs": [],
   "source": [
    "nvc -mp=gpu omp_map_global.c -o omp_map_global_gpu.exe"
   ]
  },
  {
   "cell_type": "code",
   "execution_count": null,
   "metadata": {
    "kernel": "Bash",
    "nbgrader": {
     "grade": false,
     "grade_id": "c-083",
     "locked": false,
     "schema_version": 3,
     "solution": false,
     "task": false
    }
   },
   "outputs": [],
   "source": [
    "./omp_map_global_gpu.exe"
   ]
  },
  {
   "cell_type": "markdown",
   "metadata": {
    "kernel": "SoS",
    "nbgrader": {
     "grade": false,
     "grade_id": "c-084",
     "locked": true,
     "schema_version": 3,
     "solution": false,
     "task": false
    }
   },
   "source": [
    "\n",
    "# <font color=\"green\"> Problem 6 :  `map(from: ..)` または `map(tofrom: ..)` の利用</font>\n",
    "* CPUがすべての結果(`t, a, p`にGPUが書き込んだ値)を取得(正しく表示)できるよう, 適切な `map` 節を追加せよ\n"
   ]
  },
  {
   "cell_type": "code",
   "execution_count": null,
   "metadata": {
    "kernel": "Python 3 (ipykernel)",
    "nbgrader": {
     "grade": false,
     "grade_id": "c-085",
     "locked": false,
     "schema_version": 3,
     "solution": false,
     "task": false
    }
   },
   "outputs": [],
   "source": [
    "%%writefile omp_map_global.c\n",
    "#include <stdio.h>\n",
    "#include <stdlib.h>\n",
    "#include <omp.h>\n",
    "typedef struct { float x; float y; } point;\n",
    "float t;\n",
    "float a[3];\n",
    "point p;\n",
    "int main(int argc, char ** argv) {\n",
    "  int i = 1;\n",
    "  t = (argc > i ? atof(argv[i]) : 10.0); i++;\n",
    "  for (int i = 0; i < 3; i++) { a[i] = t + i; }\n",
    "  p.x = t + 3; p.y = t + 4;\n",
    "#pragma omp target\n",
    "  {\n",
    "    printf(\"GPU: t = %f\\n\", t);\n",
    "    printf(\"GPU: a = { %f, %f, %f }\\n\", a[0], a[1], a[2]);\n",
    "    printf(\"GPU: p = { %f, %f }\\n\", p.x, p.y);\n",
    "    t *= 2.0;\n",
    "    for (int i = 0; i < 3; i++) a[i] *= 2.0;\n",
    "    p.x *= 2.0; p.y *= 2.0;\n",
    "  }\n",
    "  printf(\"CPU: t = %f\\n\", t);\n",
    "  printf(\"CPU: a = { %f, %f, %f }\\n\", a[0], a[1], a[2]);\n",
    "  printf(\"CPU: p = { %f, %f }\\n\", p.x, p.y);\n",
    "  return 0;\n",
    "}"
   ]
  },
  {
   "cell_type": "code",
   "execution_count": null,
   "metadata": {
    "kernel": "Bash",
    "nbgrader": {
     "grade": false,
     "grade_id": "c-086",
     "locked": false,
     "schema_version": 3,
     "solution": false,
     "task": false
    }
   },
   "outputs": [],
   "source": [
    "nvc -mp=gpu omp_map_global.c -o omp_map_global_gpu.exe"
   ]
  },
  {
   "cell_type": "code",
   "execution_count": null,
   "metadata": {
    "kernel": "Bash",
    "nbgrader": {
     "grade": false,
     "grade_id": "c-087",
     "locked": false,
     "schema_version": 3,
     "solution": false,
     "task": false
    }
   },
   "outputs": [],
   "source": [
    "./omp_map_global_gpu.exe"
   ]
  },
  {
   "cell_type": "markdown",
   "metadata": {
    "kernel": "SoS",
    "nbgrader": {
     "grade": false,
     "grade_id": "c-088",
     "locked": true,
     "schema_version": 3,
     "solution": false,
     "task": false
    }
   },
   "source": [
    "\n",
    "# 11. 台数効果の目撃\n",
    "* CPUのときと同様, スレッド数(+ チーム数)を増やして性能向上を確認しよう\n"
   ]
  },
  {
   "cell_type": "code",
   "execution_count": null,
   "metadata": {
    "kernel": "Python 3 (ipykernel)",
    "nbgrader": {
     "grade": false,
     "grade_id": "c-089",
     "locked": false,
     "schema_version": 3,
     "solution": false,
     "task": false
    }
   },
   "outputs": [],
   "source": [
    "%%writefile omp_speedup.c\n",
    "#include <assert.h>\n",
    "#include <stdio.h>\n",
    "#include <stdlib.h>\n",
    "#include <math.h>\n",
    "#include <omp.h>\n",
    "#include <time.h>\n",
    "#include <unistd.h>\n",
    "\n",
    "/* x = ax + b をひたすら n 回繰り返す.\n",
    "   (|a| < 1.0 なら c によらず, x = b / (1 - a) に収束).\n",
    "   n 回 mul + add を行う (-> 2 n flops) */\n",
    "double lin_rec(double a, double b, double c, long n) {\n",
    "  double x = c;\n",
    "  for (long j = 0; j < n; j++) {\n",
    "    x = a * x + b;\n",
    "  }\n",
    "  return x;\n",
    "}\n",
    "\n",
    "int main(int argc, char ** argv) {\n",
    "  char * nteams_   = getenv(\"OMP_NUM_TEAMS\");\n",
    "  int    nteams    = (nteams_   ? atoi(nteams_) : 1);\n",
    "  char * nthreads_ = getenv(\"OMP_NUM_THREADS\");\n",
    "  int    nthreads  = (nthreads_ ? atoi(nthreads_) : 1);\n",
    "  long m           = (1 < argc ? atol(argv[1]) : nteams * nthreads);\n",
    "  long n           = (2 < argc ? atol(argv[2]) : 100 * 1000 * 1000);\n",
    "  double * x = (double *)calloc(sizeof(double), m);\n",
    "  assert(x);\n",
    "  printf(\"num_teams = %ld, num_threads = %ld\\n\", nteams, nthreads);\n",
    "  printf(\"m = %ld, n = %ld\\n\", m, n);\n",
    "  /* 計測開始 */\n",
    "  double t0 = omp_get_wtime();\n",
    "  /* 計算本体 */\n",
    "#pragma omp target teams distribute parallel for num_teams(nteams) num_threads(nthreads) map(tofrom: x[0:m])\n",
    "  for (long i = 0; i < m; i++) {\n",
    "    x[i] = lin_rec(0.99, i + 1, 1.0, n);\n",
    "  }\n",
    "  /* 計測終了 */\n",
    "  double t1 = omp_get_wtime();\n",
    "  double dt = t1 - t0;          /* sec */\n",
    "  \n",
    "  /* 答え表示 (x[i] = 100 * (i + 1) くらいのはず) */\n",
    "  long err = 0;\n",
    "  for (long i = 0; i < m; i++) {\n",
    "    if (fabs(x[i] - 100 * (i + 1)) > 1.0e-3) {\n",
    "      printf(\"x[%3ld] = %9.3f\\n\", i, x[i]);\n",
    "      err++;\n",
    "    }\n",
    "  }\n",
    "  if (err == 0) {\n",
    "    printf(\"OK\\n\");\n",
    "  }\n",
    "  double flops = 2. * (double)m * (double)n;\n",
    "  printf(\"elapsed    : %7.3f  sec\\n\", dt);\n",
    "  printf(\"elapsed/m  : %7.3f msec\\n\", dt / m * 1e3);\n",
    "  printf(\"elapsed/n  : %7.3f nsec\\n\", dt / n * 1e9);\n",
    "  printf(\"elapsed/mn : %7.3f nsec\\n\", dt / (m * n) * 1e9);\n",
    "  printf(\"flops      : %.2e\\n\", flops);\n",
    "  printf(\"%.3f GFLOPS\\n\", flops / dt * 1e-9);\n",
    "  return 0;\n",
    "}\n"
   ]
  },
  {
   "cell_type": "code",
   "execution_count": null,
   "metadata": {
    "kernel": "Bash",
    "nbgrader": {
     "grade": false,
     "grade_id": "c-090",
     "locked": false,
     "schema_version": 3,
     "solution": false,
     "task": false
    }
   },
   "outputs": [],
   "source": [
    "nvc -fast -mp=gpu omp_speedup.c -o omp_speedup_gpu.exe"
   ]
  },
  {
   "cell_type": "markdown",
   "metadata": {
    "kernel": "SoS",
    "nbgrader": {
     "grade": false,
     "grade_id": "c-091",
     "locked": true,
     "schema_version": 3,
     "solution": false,
     "task": false
    }
   },
   "source": [
    "```\n",
    "OMP_NUM_TEAMS=nteams OMP_NUM_THREADS=nthreads ./omp_speedup_gpu.exe m n\n",
    "```\n",
    "* とすると, チーム数=`nteams`, スレッド数=`nthreads` で実行する\n",
    "* `m`, `n` は省略すると, `m` = `nteams` $\\times$ `nthreads` とする\n",
    "* まず, `nteams=1` として, `nthreads` だけを変えて, 性能向上を確認せよ\n",
    "* `OMP_NUM_THREADS` は1でなければ, 32の倍数でないといけないことに注意"
   ]
  },
  {
   "cell_type": "code",
   "execution_count": null,
   "metadata": {
    "kernel": "Bash",
    "nbgrader": {
     "grade": false,
     "grade_id": "c-092",
     "locked": false,
     "schema_version": 3,
     "solution": false,
     "task": false
    }
   },
   "outputs": [],
   "source": [
    "OMP_NUM_TEAMS=1 OMP_NUM_THREADS=1 ./omp_speedup_gpu.exe"
   ]
  },
  {
   "cell_type": "markdown",
   "metadata": {
    "kernel": "SoS",
    "nbgrader": {
     "grade": false,
     "grade_id": "c-093",
     "locked": true,
     "schema_version": 3,
     "solution": false,
     "task": false
    }
   },
   "source": [
    "* 手動でやるのが嫌になったら以下で一撃で実行"
   ]
  },
  {
   "cell_type": "code",
   "execution_count": 234,
   "metadata": {
    "kernel": "Bash",
    "nbgrader": {
     "grade": false,
     "grade_id": "c-094",
     "locked": false,
     "schema_version": 3,
     "solution": false,
     "task": false
    }
   },
   "outputs": [
    {
     "name": "stdout",
     "output_type": "stream",
     "text": [
      "1 0.280 GFLOPS\n",
      "32 10.432 GFLOPS\n",
      "64 21.049 GFLOPS\n",
      "96 31.283 GFLOPS\n",
      "128 42.029 GFLOPS\n",
      "160 42.828 GFLOPS\n",
      "192 51.528 GFLOPS\n",
      "224 59.844 GFLOPS\n",
      "256 68.452 GFLOPS\n",
      "384 75.866 GFLOPS\n",
      "512 79.073 GFLOPS\n",
      "640 80.821 GFLOPS\n",
      "768 81.988 GFLOPS\n",
      "896 83.171 GFLOPS\n",
      "1024 83.812 GFLOPS\n"
     ]
    }
   ],
   "source": [
    "for th in 1 32 64 96 128 160 192 224 256 384 512 640 768 896 1024 ; do\n",
    "    echo -n \"$th \"\n",
    "    OMP_NUM_TEAMS=1 OMP_NUM_THREADS=${th} ./omp_speedup_gpu.exe | grep GFLOPS\n",
    "done"
   ]
  },
  {
   "cell_type": "markdown",
   "metadata": {
    "kernel": "SoS",
    "nbgrader": {
     "grade": false,
     "grade_id": "c-095",
     "locked": true,
     "schema_version": 3,
     "solution": false,
     "task": false
    }
   },
   "source": [
    "* 結果を以下で可視化 (上の結果をコピペせよ)"
   ]
  },
  {
   "cell_type": "code",
   "execution_count": 235,
   "metadata": {
    "kernel": "Python 3 (ipykernel)",
    "nbgrader": {
     "grade": false,
     "grade_id": "c-096",
     "locked": false,
     "schema_version": 3,
     "solution": false,
     "task": false
    }
   },
   "outputs": [
    {
     "data": {
      "image/png": "[encoded data removed]",
      "text/plain": [
       "<Figure size 640x480 with 1 Axes>"
      ]
     },
     "metadata": {},
     "output_type": "display_data"
    }
   ],
   "source": [
    "import matplotlib.pyplot as plt\n",
    "\n",
    "DATA = r\"\"\"\n",
    "1 0.280 GFLOPS\n",
    "32 10.432 GFLOPS\n",
    "64 21.049 GFLOPS\n",
    "96 31.283 GFLOPS\n",
    "128 42.029 GFLOPS\n",
    "160 42.828 GFLOPS\n",
    "192 51.528 GFLOPS\n",
    "224 59.844 GFLOPS\n",
    "256 68.452 GFLOPS\n",
    "384 75.866 GFLOPS\n",
    "512 79.073 GFLOPS\n",
    "640 80.821 GFLOPS\n",
    "768 81.988 GFLOPS\n",
    "896 83.171 GFLOPS\n",
    "1024 83.812 GFLOPS\n",
    "\n",
    "\n",
    "\"\"\"\n",
    "\n",
    "def main():\n",
    "    data = DATA.strip().split(\"\\n\")\n",
    "    X = []\n",
    "    Y = []\n",
    "    L = []\n",
    "    for line in data:\n",
    "        fields = line.strip().split()\n",
    "        if len(fields) != 3:\n",
    "            continue\n",
    "        x, y = fields[:2]\n",
    "        X.append(float(x))\n",
    "        Y.append(float(y))\n",
    "        L.append(Y[0] / X[0] * float(x))\n",
    "    plt.ylabel(\"GFLOPS\")\n",
    "    plt.xlabel(\"num_threads\")\n",
    "    plt.plot(X, L)\n",
    "    plt.plot(X, Y)\n",
    "    plt.show()\n",
    "\n",
    "main()"
   ]
  },
  {
   "cell_type": "markdown",
   "metadata": {
    "kernel": "SoS",
    "nbgrader": {
     "grade": false,
     "grade_id": "c-097",
     "locked": true,
     "schema_version": 3,
     "solution": false,
     "task": false
    }
   },
   "source": [
    "* 次に, スレッド数を上記で性能が頭打ちになった値で固定した上で以下の`OMP_NUM_TEAMS=1`を色々変えて実行せよ"
   ]
  },
  {
   "cell_type": "code",
   "execution_count": 236,
   "metadata": {
    "kernel": "Bash",
    "nbgrader": {
     "grade": false,
     "grade_id": "c-098",
     "locked": false,
     "schema_version": 3,
     "solution": false,
     "task": false
    }
   },
   "outputs": [
    {
     "name": "stdout",
     "output_type": "stream",
     "text": [
      "num_teams = 1, num_threads = 256\n",
      "m = 256, n = 100000000\n",
      "OK\n",
      "elapsed    :   0.843  sec\n",
      "elapsed/m  :   3.292 msec\n",
      "elapsed/n  :   8.428 nsec\n",
      "elapsed/mn :   0.033 nsec\n",
      "flops      : 5.12e+10\n",
      "60.749 GFLOPS\n"
     ]
    }
   ],
   "source": [
    "OMP_NUM_TEAMS=1 OMP_NUM_THREADS=256 ./omp_speedup_gpu.exe"
   ]
  },
  {
   "cell_type": "markdown",
   "metadata": {
    "kernel": "SoS",
    "nbgrader": {
     "grade": false,
     "grade_id": "c-099",
     "locked": true,
     "schema_version": 3,
     "solution": false,
     "task": false
    }
   },
   "source": [
    "* 手動でやるのが嫌になったら以下で一撃で実行"
   ]
  },
  {
   "cell_type": "code",
   "execution_count": 238,
   "metadata": {
    "kernel": "Bash",
    "nbgrader": {
     "grade": false,
     "grade_id": "c-100",
     "locked": false,
     "schema_version": 3,
     "solution": false,
     "task": false
    }
   },
   "outputs": [
    {
     "name": "stdout",
     "output_type": "stream",
     "text": [
      "256 60.761 GFLOPS\n",
      "512 136.759 GFLOPS\n",
      "768 205.410 GFLOPS\n",
      "1024 273.127 GFLOPS\n",
      "1536 411.445 GFLOPS\n",
      "2304 616.603 GFLOPS\n",
      "3072 824.166 GFLOPS\n",
      "4608 1230.754 GFLOPS\n",
      "6912 1848.764 GFLOPS\n",
      "9216 2459.781 GFLOPS\n",
      "11520 3055.546 GFLOPS\n",
      "13824 3699.190 GFLOPS\n",
      "16128 4321.098 GFLOPS\n",
      "18432 4932.755 GFLOPS\n",
      "20736 5532.676 GFLOPS\n",
      "23040 6148.738 GFLOPS\n",
      "25344 6750.046 GFLOPS\n",
      "27648 7332.850 GFLOPS\n",
      "32256 4890.845 GFLOPS\n",
      "36864 5536.332 GFLOPS\n",
      "41472 6226.503 GFLOPS\n",
      "46080 6613.525 GFLOPS\n",
      "50688 7594.311 GFLOPS\n",
      "55296 8333.710 GFLOPS\n"
     ]
    }
   ],
   "source": [
    "th=256\n",
    "for tm in 1 2 3 4 6 9 12 18 27 36 45 54 63 72 81 90 99 108 126 144 162 180 198 216; do\n",
    "    echo -n \"$((tm * th)) \"\n",
    "    OMP_NUM_TEAMS=${tm} OMP_NUM_THREADS=${th} ./omp_speedup_gpu.exe | grep GFLOPS\n",
    "done"
   ]
  },
  {
   "cell_type": "markdown",
   "metadata": {
    "kernel": "SoS",
    "nbgrader": {
     "grade": false,
     "grade_id": "c-101",
     "locked": true,
     "schema_version": 3,
     "solution": false,
     "task": false
    }
   },
   "source": [
    "* 結果を以下で可視化 (上の結果をコピペせよ)"
   ]
  },
  {
   "cell_type": "code",
   "execution_count": 239,
   "metadata": {
    "kernel": "Python 3 (ipykernel)",
    "nbgrader": {
     "grade": false,
     "grade_id": "c-102",
     "locked": false,
     "schema_version": 3,
     "solution": false,
     "task": false
    }
   },
   "outputs": [
    {
     "data": {
      "image/png": "[encoded data removed]",
      "text/plain": [
       "<Figure size 640x480 with 1 Axes>"
      ]
     },
     "metadata": {},
     "output_type": "display_data"
    }
   ],
   "source": [
    "import matplotlib.pyplot as plt\n",
    "\n",
    "DATA = r\"\"\"\n",
    "256 60.761 GFLOPS\n",
    "512 136.759 GFLOPS\n",
    "768 205.410 GFLOPS\n",
    "1024 273.127 GFLOPS\n",
    "1536 411.445 GFLOPS\n",
    "2304 616.603 GFLOPS\n",
    "3072 824.166 GFLOPS\n",
    "4608 1230.754 GFLOPS\n",
    "6912 1848.764 GFLOPS\n",
    "9216 2459.781 GFLOPS\n",
    "11520 3055.546 GFLOPS\n",
    "13824 3699.190 GFLOPS\n",
    "16128 4321.098 GFLOPS\n",
    "18432 4932.755 GFLOPS\n",
    "20736 5532.676 GFLOPS\n",
    "23040 6148.738 GFLOPS\n",
    "25344 6750.046 GFLOPS\n",
    "27648 7332.850 GFLOPS\n",
    "32256 4890.845 GFLOPS\n",
    "36864 5536.332 GFLOPS\n",
    "41472 6226.503 GFLOPS\n",
    "46080 6613.525 GFLOPS\n",
    "50688 7594.311 GFLOPS\n",
    "55296 8333.710 GFLOPS\n",
    "\"\"\"\n",
    "\n",
    "def main():\n",
    "    data = DATA.strip().split(\"\\n\")\n",
    "    X = []\n",
    "    Y = []\n",
    "    L = []\n",
    "    for line in data:\n",
    "        fields = line.strip().split()\n",
    "        if len(fields) != 3:\n",
    "            continue\n",
    "        x, y = fields[:2]\n",
    "        X.append(float(x))\n",
    "        Y.append(float(y))\n",
    "        L.append(Y[0] / X[0] * float(x))\n",
    "    plt.ylabel(\"GFLOPS\")\n",
    "    plt.xlabel(\"num_threads\")\n",
    "    plt.plot(X, L)\n",
    "    plt.plot(X, Y)\n",
    "    plt.show()\n",
    "\n",
    "main()"
   ]
  },
  {
   "cell_type": "code",
   "execution_count": null,
   "metadata": {
    "kernel": "Python 3 (ipykernel)"
   },
   "outputs": [],
   "source": []
  }
 ],
 "metadata": {
  "celltoolbar": "Create Assignment",
  "kernelspec": {
   "display_name": "SoS",
   "language": "sos",
   "name": "sos"
  },
  "language_info": {
   "codemirror_mode": "sos",
   "file_extension": ".sos",
   "mimetype": "text/x-sos",
   "name": "sos",
   "nbconvert_exporter": "sos_notebook.converter.SoS_Exporter",
   "pygments_lexer": "sos"
  },
  "sos": {
   "kernels": [
    [
     "Bash",
     "bash",
     "bash",
     "",
     "shell"
    ],
    [
     "C",
     "c_kernel",
     "c",
     "",
     ""
    ],
    [
     "Go",
     "gophernotes",
     "go",
     "",
     ""
    ],
    [
     "Julia 1.10.2",
     "julia-1.10",
     "julia",
     "",
     ""
    ],
    [
     "OCaml default",
     "ocaml-jupyter",
     "OCaml",
     "",
     "text/x-ocaml"
    ],
    [
     "Python 3 (ipykernel)",
     "python3",
     "python3",
     "",
     {
      "name": "ipython",
      "version": 3
     }
    ],
    [
     "Rust",
     "rust",
     "rust",
     "",
     ""
    ]
   ],
   "panel": {
    "displayed": true,
    "height": 0
   },
   "version": "0.23.3"
  }
 },
 "nbformat": 4,
 "nbformat_minor": 4
}
