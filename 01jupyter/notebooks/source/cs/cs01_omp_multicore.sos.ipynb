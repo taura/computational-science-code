{
  "cells": [
    {
      "cell_type": "markdown",
      "metadata": {
        "kernel": "SoS",
        "nbgrader": {
          "grade": false,
          "grade_id": "c-001",
          "locked": true,
          "schema_version": 3,
          "solution": false,
          "task": false
        }
      },
      "source": [
        "\n",
        "#  高性能プログラミングと性能測定(1) --- OpenMP CPUマルチコアプログラミング",
        ""
      ]
    },
    {
      "cell_type": "markdown",
      "metadata": {
        "kernel": "SoS",
        "nbgrader": {
          "grade": false,
          "grade_id": "c-002",
          "locked": true,
          "schema_version": 3,
          "solution": false,
          "task": false
        }
      },
      "source": [
        "\n",
        "# 1. OpenMP",
        "\n",
        "* OpenMPはCPUでマルチコア並列処理を行うための標準(デファクトスタンダード)\n",
        "* 新しい仕様ではGPUもサポートしている(どこまでサポートしているかはコンパイラ依存)\n",
        "\n",
        "* 詳しい仕様が知りたくなったら https://openmp.org/ を参照\n",
        "  * 最新仕様 https://www.openmp.org/spec-html/5.2/openmp.html\n",
        "  * 簡潔な文法のリファレンス: https://www.openmp.org/resources/refguides/\n",
        "* 最小限の覚えるべきキーワード\n",
        "  * `#pragma omp parallel`\n",
        "  * `#pragma omp for`\n",
        "  * `reduction`\n",
        "* 最小限の覚えるべきAPI関数\n",
        "```\n",
        "#include <omp.h> \n",
        "```\n",
        "して\n",
        "  * omp_get_num_threads();\n",
        "  * omp_get_thread_num();\n",
        ""
      ]
    },
    {
      "cell_type": "markdown",
      "metadata": {
        "kernel": "SoS",
        "nbgrader": {
          "grade": false,
          "grade_id": "c-003",
          "locked": true,
          "schema_version": 3,
          "solution": false,
          "task": false
        }
      },
      "source": [
        "# 2. コンパイラ",
        "\n",
        "* この演習環境では, 同じコンパイラでCPUもGPUもサポートしているという理由で, NVIDIA HPC SDKを使う\n",
        "* ただし, 世の中的にはCPU上のプログラミングといえば gcc, clang (LLVM) などが主流なので, それらも紹介しておく\n",
        "\n",
        "## 2-1. NVIDIA HPC SDK",
        "\n",
        "* コマンド名:\n",
        "  * C: `nvc`\n",
        "  * C++: `nvc++`\n",
        "* コンパイルオプション:\n",
        "  * `-mp=multicore` をつけると CPU用のOpenMPがサポートされる\n",
        "  * `-mp=gpu` をつけると GPU用のOpenMPがサポートされる (次週)\n",
        "\n",
        "## 2-2. GCC",
        "\n",
        "* コマンド名:\n",
        "  * C: `gcc`\n",
        "  * C++: `g++`\n",
        "* コンパイルオプション:\n",
        "  * `-fopenmp` をつけると CPU用のOpenMPがサポートされる\n",
        "\n",
        "## 2-3. Clang",
        "\n",
        "* コマンド名:\n",
        "  * C: `clang`\n",
        "  * C++: `clang++`\n",
        "* コンパイルオプション:\n",
        "  * `-openmp` をつけると CPU用のOpenMPがサポートされる\n",
        ""
      ]
    },
    {
      "cell_type": "markdown",
      "metadata": {
        "kernel": "SoS",
        "nbgrader": {
          "grade": false,
          "grade_id": "c-004",
          "locked": true,
          "schema_version": 3,
          "solution": false,
          "task": false
        }
      },
      "source": [
        "# 3. `#pragma omp parallel` 構文",
        "\n",
        "* OpenMPで, 「これがなくては始まらない」プリミティブ\n",
        "* OpenMPプログラムは1スレッドで実行を開始し(MPIのようにmain関数が複数実行されるのではない), `#pragma omp parallel`に差し掛かると直後に書かれた文を複数のスレッドが実行する\n",
        "* いくつできるかの規則や制御方法にはいくつかあるが, もっとも基本的なルールは, 実行時の環境変数OMP_NUM_THREADSで指定した数, というもの\n",
        "\n",
        "* 以下を実行すると, `#pragma omp parallel`の直下に書かれた文 printf(\"world\\n\") が複数のスレッドによって実行される"
      ]
    },
    {
      "cell_type": "code",
      "metadata": {
        "kernel": "Python 3 (ipykernel)",
        "nbgrader": {
          "grade": false,
          "grade_id": "c-005",
          "locked": false,
          "schema_version": 3,
          "solution": false,
          "task": false
        }
      },
      "source": [
        "%%writefile omp_hello.c\n",
        "#include <stdio.h>\n",
        "\n",
        "int main() {\n",
        "  printf(\"before parallel\\n\");\n",
        "#pragma omp parallel\n",
        "  printf(\"in parallel\\n\");\n",
        "  printf(\"after parallel\\n\");\n",
        "  return 0;\n",
        "}\n",
        ""
      ],
      "execution_count": null,
      "outputs": []
    },
    {
      "cell_type": "code",
      "metadata": {
        "kernel": "Bash",
        "nbgrader": {
          "grade": false,
          "grade_id": "c-006",
          "locked": false,
          "schema_version": 3,
          "solution": false,
          "task": false
        }
      },
      "source": [
        "gcc -O3 -fopenmp omp_hello.c -o omp_hello"
      ],
      "execution_count": null,
      "outputs": []
    },
    {
      "cell_type": "code",
      "metadata": {
        "kernel": "Bash",
        "nbgrader": {
          "grade": false,
          "grade_id": "c-007",
          "locked": false,
          "schema_version": 3,
          "solution": false,
          "task": false
        }
      },
      "source": [
        "OMP_NUM_THREADS=3 ./omp_hello"
      ],
      "execution_count": null,
      "outputs": []
    },
    {
      "cell_type": "markdown",
      "metadata": {
        "kernel": "SoS",
        "nbgrader": {
          "grade": false,
          "grade_id": "c-008",
          "locked": true,
          "schema_version": 3,
          "solution": false,
          "task": false
        }
      },
      "source": [
        "\n",
        "* 文法\n",
        "```\n",
        "#pragma omp parallel\n",
        "文\n",
        "```\n",
        "* 意味\n",
        " * 「文」を複数のスレッドで実行する(典型的には OMP_NUM_THREADS で指定した数)\n",
        "  * それらのスレッドを, その文を実行する<font color=\"blue\">チーム</font>と呼ぶ\n",
        " * チームの全スレッドが「文」を実行し終えると, `#pragma omp parallel` 全体が実行を終える\n",
        " * 再び1スレッドに戻って以降の文を実行する\n",
        "* 注\n",
        " * 複数のスレッドが実行するのは `#pragma omp parallel` の直下に書かれたひとつの文だが, この文自体が複合文 (`{ ... }` で囲まれた複数の文をまとめて一つの文とみなしたもの)だったり, ループだったり, 関数呼び出しを含んで, その関数の中に多数の文を含んでいることがあるので, 実際には複数スレッドで実行される文の数はいくらでも多数であり得る\n",
        ""
      ]
    },
    {
      "cell_type": "markdown",
      "metadata": {
        "kernel": "SoS",
        "nbgrader": {
          "grade": false,
          "grade_id": "c-009",
          "locked": true,
          "schema_version": 3,
          "solution": false,
          "task": false
        }
      },
      "source": [
        "# 4. omp_num_threads() と omp_thread_num()",
        "\n",
        "*\n",
        "```\n",
        "#pragma omp parallel\n",
        "  S\n",
        "```\n",
        "によってSを実行中のスレッドは, \n",
        " * omp_num_threads() によってSを実行しているチームのスレッド数\n",
        " * omp_thread_num() によってその中での自分の番号(スレッド数を$n$として, 0以上$n$未満の数)\n",
        "を得ることが出来る\n",
        "\n",
        "* これらを使う場合\n",
        "\n",
        "<pre>\n",
        "#include <omp.h>\n",
        "</pre>\n",
        "\n",
        "しておく\n",
        ""
      ]
    },
    {
      "cell_type": "code",
      "metadata": {
        "kernel": "Python 3 (ipykernel)",
        "nbgrader": {
          "grade": false,
          "grade_id": "c-010",
          "locked": false,
          "schema_version": 3,
          "solution": false,
          "task": false
        }
      },
      "source": [
        "%%writefile omp_hello_rank.c\n",
        "#include <stdio.h>\n",
        "#include <omp.h>\n",
        "\n",
        "int main() {\n",
        "  printf(\"hello\\n\");\n",
        "#pragma omp parallel\n",
        "  {\n",
        "    int omp_nthreads = omp_get_num_threads();\n",
        "    int omp_rank = omp_get_thread_num();\n",
        "    printf(\"world %d/%d\\n\", omp_rank, omp_nthreads);\n",
        "  }\n",
        "  printf(\"good bye\\n\");\n",
        "  return 0;\n",
        "}"
      ],
      "execution_count": null,
      "outputs": []
    },
    {
      "cell_type": "code",
      "metadata": {
        "kernel": "Bash",
        "nbgrader": {
          "grade": false,
          "grade_id": "c-011",
          "locked": false,
          "schema_version": 3,
          "solution": false,
          "task": false
        }
      },
      "source": [
        "gcc -O3 -fopenmp omp_hello_rank.c -o omp_hello_rank"
      ],
      "execution_count": null,
      "outputs": []
    },
    {
      "cell_type": "markdown",
      "metadata": {
        "kernel": "SoS",
        "nbgrader": {
          "grade": false,
          "grade_id": "c-012",
          "locked": true,
          "schema_version": 3,
          "solution": false,
          "task": false
        }
      },
      "source": [
        "\n",
        " * OMP_NUM_THREADSには自由な数を指定してよいが, CPUに搭載されているプロセッサ数(物理コア数や仮想コア(ハードウェアスレッド)数, 詳細は後述)よりも大きくしてもまず意味はない\n",
        " * OMP_NUM_THREADSに何も指定しなければ自動的にハードウェアスレッド数のスレッドが使われる\n",
        " * 以下ではこのページがホストされているクラウド環境のハードウェアスレッド数がわかる\n",
        ""
      ]
    },
    {
      "cell_type": "code",
      "metadata": {
        "kernel": "Bash",
        "nbgrader": {
          "grade": false,
          "grade_id": "c-013",
          "locked": false,
          "schema_version": 3,
          "solution": false,
          "task": false
        }
      },
      "source": [
        "OMP_NUM_THREADS=3 ./omp_hello_rank"
      ],
      "execution_count": null,
      "outputs": []
    },
    {
      "cell_type": "code",
      "metadata": {
        "kernel": "Bash",
        "nbgrader": {
          "grade": false,
          "grade_id": "c-014",
          "locked": false,
          "schema_version": 3,
          "solution": false,
          "task": false
        }
      },
      "source": [
        "./omp_hello_rank"
      ],
      "execution_count": null,
      "outputs": []
    },
    {
      "cell_type": "markdown",
      "metadata": {
        "kernel": "SoS",
        "nbgrader": {
          "grade": false,
          "grade_id": "c-015",
          "locked": true,
          "schema_version": 3,
          "solution": false,
          "task": false
        }
      },
      "source": [
        "\n",
        "* この環境のCPU\n",
        ""
      ]
    },
    {
      "cell_type": "code",
      "metadata": {
        "kernel": "Bash",
        "nbgrader": {
          "grade": false,
          "grade_id": "c-016",
          "locked": true,
          "schema_version": 3,
          "solution": false,
          "task": false
        }
      },
      "source": [
        "cat /proc/cpuinfo | head -30"
      ],
      "execution_count": null,
      "outputs": []
    },
    {
      "cell_type": "markdown",
      "metadata": {
        "kernel": "SoS",
        "nbgrader": {
          "grade": false,
          "grade_id": "c-017",
          "locked": true,
          "schema_version": 3,
          "solution": false,
          "task": false
        }
      },
      "source": [
        "\n",
        "# 5. CPU, コア, 仮想コア(ハードウェアスレッド)",
        "\n",
        "* 最近の<font color=\"blue\">CPU</font>はマルチコアCPUで, 1つのチップに複数の, 独立に実行可能な<font color=\"blue\">「コア」</font>が搭載されている\n",
        "* ひとつのボード(計算ノード)に複数のCPUが搭載されていることもある(<font color=\"blue\">マルチソケット</font>環境)\n",
        "* さらにひとつのコアにも独立に命令を実行可能な, <font color=\"blue\">「仮想コア(ハードウェアスレッド)」</font>が搭載されている\n",
        "* 田浦 <a href=\"https://taura.github.io/cs-alliance/slides/pdf/taura_lecture.pdf\" target=\"_blank\">講義スライド</a> pXXを参照\n",
        "* ソフトウェア(OS)からは仮想コアがひとつのプロセッサとして見える\n",
        "* ただしハードウェアスレッドは起動時にOFFにすることもでき, その場合は観測されるプロセッサ数は, 物理コア数になる\n",
        "* OSから見えているプロセッサ数は以下のコマンドで観測できる"
      ]
    },
    {
      "cell_type": "code",
      "metadata": {
        "kernel": "Bash",
        "nbgrader": {
          "grade": false,
          "grade_id": "c-018",
          "locked": false,
          "schema_version": 3,
          "solution": false,
          "task": false
        }
      },
      "source": [
        "nproc"
      ],
      "execution_count": null,
      "outputs": []
    },
    {
      "cell_type": "markdown",
      "metadata": {
        "kernel": "SoS",
        "nbgrader": {
          "grade": false,
          "grade_id": "c-019",
          "locked": true,
          "schema_version": 3,
          "solution": false,
          "task": false
        }
      },
      "source": [
        "\n",
        "* コアを, 仮想コアと区別して「物理コア」と呼ぶこともある\n",
        "* 物理コアとか仮想コアの違いはソフトウェアからはほとんど見えないが, 同一の物理コア上の仮想コアは演算器を共有しており, 「一サイクルに実行可能な浮動小数点演算数」みたいな数字は「コア」あたりの数字である. すでに限界性能に近いスレッドを二つ, 同一のコアに置いても性能は倍にならない\n",
        ""
      ]
    },
    {
      "cell_type": "markdown",
      "metadata": {
        "kernel": "SoS",
        "nbgrader": {
          "grade": false,
          "grade_id": "c-020",
          "locked": true,
          "schema_version": 3,
          "solution": false,
          "task": false
        }
      },
      "source": [
        "\n",
        "* `#pragma omp parallel`はその直下の文を「全員が(重複して)」実行する手段\n",
        "* 実際に処理を高速化するには一定量の仕事を複数のスレッドで「分割」して処理する必要がある\n",
        "* そのための手段が work sharing 構文. そのひとつが `#pragma omp for`"
      ]
    },
    {
      "cell_type": "markdown",
      "metadata": {
        "kernel": "SoS",
        "nbgrader": {
          "grade": false,
          "grade_id": "c-021",
          "locked": true,
          "schema_version": 3,
          "solution": false,
          "task": false
        }
      },
      "source": [
        "\n",
        "# 6. `#pragma omp for` 構文",
        "\n",
        "* `#pragma omp parallel`で指定された文を実行中にスレッドが `#pragma omp for` に到達すると, その直下に書かれた文 (for 文でなくてはならない)の繰り返しをスレッド間で分け合って実行する\n",
        "* 仕事をスレッド間で分け合って実行するので, work sharing構文と呼ぶ \n",
        "* OpenMPには他のwork sharing構文もあるがこの演習ではそれらはやらない"
      ]
    },
    {
      "cell_type": "markdown",
      "metadata": {
        "kernel": "SoS",
        "nbgrader": {
          "grade": false,
          "grade_id": "c-022",
          "locked": true,
          "schema_version": 3,
          "solution": false,
          "task": false
        }
      },
      "source": [
        "\n",
        "* 以下は簡単な例題として行列 x ベクトルを並列化したもの\n",
        "* \n",
        "```\n",
        "#pragma omp for\n",
        "  for (long i = 0; i < n; i++) ...\n",
        "```\n",
        "によって, $n$回の繰り返しがスレッド間に別けて実行される\n",
        "* どのように分けられるかは schedule 句によって指定できる(後述)\n",
        ""
      ]
    },
    {
      "cell_type": "code",
      "metadata": {
        "kernel": "Python 3 (ipykernel)",
        "nbgrader": {
          "grade": false,
          "grade_id": "c-023",
          "locked": false,
          "schema_version": 3,
          "solution": false,
          "task": false
        }
      },
      "source": [
        "%%writefile omp_mat_vec.c\n",
        "#include <assert.h>\n",
        "#include <stdio.h>\n",
        "#include <stdlib.h>\n",
        "#include <x86intrin.h>\n",
        "\n",
        "float mat_vec(long n, float A[n][n], float x[n], float y[n]) {\n",
        "#pragma omp parallel\n",
        "#pragma omp for\n",
        "  for (long i = 0; i < n; i++) {\n",
        "    float s = 0;\n",
        "    for (long k = 0; k < n; k++) {\n",
        "      s += A[i][k] * x[k];\n",
        "    }\n",
        "    y[i] = s;\n",
        "  }\n",
        "}\n",
        "\n",
        "void init_mat(long n, float A[n][n], float v) {\n",
        "#pragma omp parallel\n",
        "#pragma omp for\n",
        "  for (long i = 0; i < n; i++) {\n",
        "    for (long k = 0; k < n; k++) {\n",
        "      A[i][k] = v;\n",
        "    }\n",
        "  }\n",
        "}\n",
        "\n",
        "void init_vec(long n, float x[n], float v) {\n",
        "  for (long k = 0; k < n; k++) {\n",
        "    x[k] = v;\n",
        "  }\n",
        "}\n",
        "\n",
        "void check_vec(long n, float x[n], long v) {\n",
        "  for (long k = 0; k < n; k++) {\n",
        "    assert(x[k] == n);\n",
        "  }\n",
        "}\n",
        "\n",
        "int main(int argc, char ** argv) {\n",
        "  long n      = (argc > 1 ? atol(argv[1]) : 1000);\n",
        "  long repeat = (argc > 2 ? atol(argv[2]) : 10);\n",
        "  float * A = (float *)malloc(sizeof(float) * n * n);\n",
        "  float * x = (float *)malloc(sizeof(float) * n);\n",
        "  float * y = (float *)malloc(sizeof(float) * n);\n",
        "  init_mat(n, (float(*)[n])A, 1);\n",
        "  init_vec(n, x, 1);\n",
        "  long long t0 = _rdtsc();\n",
        "  for (long r = 0; r < repeat; r++) {\n",
        "    mat_vec(n, (float(*)[n])A, x, y);\n",
        "  }\n",
        "  long long t1 = _rdtsc();\n",
        "  printf(\"%lld clocks\\n\", t1 - t0);\n",
        "  check_vec(n, y, n);\n",
        "  return 0;\n",
        "}"
      ],
      "execution_count": null,
      "outputs": []
    },
    {
      "cell_type": "code",
      "metadata": {
        "kernel": "Bash",
        "nbgrader": {
          "grade": false,
          "grade_id": "c-024",
          "locked": false,
          "schema_version": 3,
          "solution": false,
          "task": false
        }
      },
      "source": [
        "gcc -O3 -fopenmp -march=native omp_mat_vec.c -o omp_mat_vec"
      ],
      "execution_count": null,
      "outputs": []
    },
    {
      "cell_type": "code",
      "metadata": {
        "kernel": "Bash",
        "nbgrader": {
          "grade": false,
          "grade_id": "c-025",
          "locked": false,
          "schema_version": 3,
          "solution": false,
          "task": false
        }
      },
      "source": [
        "OMP_NUM_THREADS=1 ./omp_mat_vec"
      ],
      "execution_count": null,
      "outputs": []
    },
    {
      "cell_type": "code",
      "metadata": {
        "kernel": "Bash",
        "nbgrader": {
          "grade": false,
          "grade_id": "c-026",
          "locked": false,
          "schema_version": 3,
          "solution": false,
          "task": false
        }
      },
      "source": [
        "OMP_NUM_THREADS=4 ./omp_mat_vec"
      ],
      "execution_count": null,
      "outputs": []
    },
    {
      "cell_type": "markdown",
      "metadata": {
        "kernel": "SoS",
        "nbgrader": {
          "grade": false,
          "grade_id": "c-027",
          "locked": true,
          "schema_version": 3,
          "solution": false,
          "task": false
        }
      },
      "source": [
        "\n",
        "* なお #pragma omp parallel の直後に #pragma omp for が来る場合両者をひとつの pragma で書ける\n",
        ""
      ]
    },
    {
      "cell_type": "code",
      "metadata": {
        "kernel": "Python 3 (ipykernel)",
        "nbgrader": {
          "grade": false,
          "grade_id": "c-028",
          "locked": false,
          "schema_version": 3,
          "solution": false,
          "task": false
        }
      },
      "source": [
        "%%writefile omp_mat_vec_parallel_for.c\n",
        "#include <assert.h>\n",
        "#include <stdio.h>\n",
        "#include <stdlib.h>\n",
        "#include <x86intrin.h>\n",
        "\n",
        "float mat_vec(long n, float A[n][n], float x[n], float y[n]) {\n",
        "#pragma omp parallel for\n",
        "  for (long i = 0; i < n; i++) {\n",
        "    float s = 0;\n",
        "    for (long k = 0; k < n; k++) {\n",
        "      s += A[i][k] * x[k];\n",
        "    }\n",
        "    y[i] = s;\n",
        "  }\n",
        "}\n",
        "\n",
        "void init_mat(long n, float A[n][n], float v) {\n",
        "#pragma omp parallel for\n",
        "  for (long i = 0; i < n; i++) {\n",
        "    for (long k = 0; k < n; k++) {\n",
        "      A[i][k] = v;\n",
        "    }\n",
        "  }\n",
        "}\n",
        "\n",
        "void init_vec(long n, float x[n], float v) {\n",
        "  for (long k = 0; k < n; k++) {\n",
        "    x[k] = v;\n",
        "  }\n",
        "}\n",
        "\n",
        "void check_vec(long n, float x[n], long v) {\n",
        "  for (long k = 0; k < n; k++) {\n",
        "    assert(x[k] == n);\n",
        "  }\n",
        "}\n",
        "\n",
        "int main(int argc, char ** argv) {\n",
        "  long n      = (argc > 1 ? atol(argv[1]) : 1000);\n",
        "  long repeat = (argc > 2 ? atol(argv[2]) : 10);\n",
        "  float * A = (float *)malloc(sizeof(float) * n * n);\n",
        "  float * x = (float *)malloc(sizeof(float) * n);\n",
        "  float * y = (float *)malloc(sizeof(float) * n);\n",
        "  init_mat(n, (float(*)[n])A, 1);\n",
        "  init_vec(n, x, 1);\n",
        "  long long t0 = _rdtsc();\n",
        "  for (long r = 0; r < repeat; r++) {\n",
        "    mat_vec(n, (float(*)[n])A, x, y);\n",
        "  }\n",
        "  long long t1 = _rdtsc();\n",
        "  printf(\"%lld clocks\\n\", t1 - t0);\n",
        "  check_vec(n, y, n);\n",
        "  return 0;\n",
        "}"
      ],
      "execution_count": null,
      "outputs": []
    },
    {
      "cell_type": "code",
      "metadata": {
        "kernel": "Bash",
        "nbgrader": {
          "grade": false,
          "grade_id": "c-029",
          "locked": false,
          "schema_version": 3,
          "solution": false,
          "task": false
        }
      },
      "source": [
        "gcc -O3 -fopenmp -march=native omp_mat_vec_parallel_for.c -o omp_mat_vec_parallel_for"
      ],
      "execution_count": null,
      "outputs": []
    },
    {
      "cell_type": "code",
      "metadata": {
        "kernel": "Bash",
        "nbgrader": {
          "grade": false,
          "grade_id": "c-030",
          "locked": false,
          "schema_version": 3,
          "solution": false,
          "task": false
        }
      },
      "source": [
        "OMP_NUM_THREADS=1 ./omp_mat_vec_parallel_for"
      ],
      "execution_count": null,
      "outputs": []
    },
    {
      "cell_type": "code",
      "metadata": {
        "kernel": "Bash",
        "nbgrader": {
          "grade": false,
          "grade_id": "c-031",
          "locked": false,
          "schema_version": 3,
          "solution": false,
          "task": false
        }
      },
      "source": [
        "OMP_NUM_THREADS=4 ./omp_mat_vec_parallel_for"
      ],
      "execution_count": null,
      "outputs": []
    },
    {
      "cell_type": "code",
      "metadata": {
        "kernel": "Bash",
        "nbgrader": {
          "grade": false,
          "grade_id": "c-032",
          "locked": false,
          "schema_version": 3,
          "solution": false,
          "task": false
        }
      },
      "source": [
        "./omp_mat_vec_parallel_for"
      ],
      "execution_count": null,
      "outputs": []
    },
    {
      "cell_type": "markdown",
      "metadata": {
        "kernel": "SoS",
        "nbgrader": {
          "grade": false,
          "grade_id": "c-033",
          "locked": true,
          "schema_version": 3,
          "solution": false,
          "task": false
        }
      },
      "source": [
        "\n",
        "* 同じプログラムを `#pragma omp for` を用いずに, (手動で)繰り返しを分割して実行することも出来る\n",
        "* そのためには omp_get_num_threads() と omp_get_thread_num() を用いてどの繰り返しをどのスレッドが実行するかを決めてやれば良い\n",
        "* もちろんこの例においてわざわざそんなことをする意味はないが説明のために記す\n",
        ""
      ]
    },
    {
      "cell_type": "code",
      "metadata": {
        "kernel": "Python 3 (ipykernel)",
        "nbgrader": {
          "grade": false,
          "grade_id": "c-034",
          "locked": false,
          "schema_version": 3,
          "solution": false,
          "task": false
        }
      },
      "source": [
        "%%writefile omp_mat_vec_wo_for.c\n",
        "#include <assert.h>\n",
        "#include <stdio.h>\n",
        "#include <stdlib.h>\n",
        "#include <x86intrin.h>\n",
        "#include <omp.h>\n",
        "\n",
        "float mat_vec(long n, float A[n][n], float x[n], float y[n]) {\n",
        "#pragma omp parallel\n",
        "  {\n",
        "    int omp_nthreads = omp_get_num_threads();\n",
        "    int omp_rank = omp_get_thread_num();\n",
        "    int begin =  omp_rank      * n / omp_nthreads;\n",
        "    int end   = (omp_rank + 1) * n / omp_nthreads;\n",
        "    for (long i = begin; i < end; i++) {\n",
        "      float s = 0;\n",
        "      for (long k = 0; k < n; k++) {\n",
        "        s += A[i][k] * x[k];\n",
        "      }\n",
        "      y[i] = s;\n",
        "    }\n",
        "  }\n",
        "}\n",
        "\n",
        "void init_mat(long n, float A[n][n], float v) {\n",
        "#pragma omp parallel\n",
        "#pragma omp for\n",
        "  for (long i = 0; i < n; i++) {\n",
        "    for (long k = 0; k < n; k++) {\n",
        "      A[i][k] = v;\n",
        "    }\n",
        "  }\n",
        "}\n",
        "\n",
        "void init_vec(long n, float x[n], float v) {\n",
        "  for (long k = 0; k < n; k++) {\n",
        "    x[k] = v;\n",
        "  }\n",
        "}\n",
        "\n",
        "void check_vec(long n, float x[n], long v) {\n",
        "  for (long k = 0; k < n; k++) {\n",
        "    assert(x[k] == n);\n",
        "  }\n",
        "}\n",
        "\n",
        "int main(int argc, char ** argv) {\n",
        "  long n      = (argc > 1 ? atol(argv[1]) : 1000);\n",
        "  long repeat = (argc > 2 ? atol(argv[2]) : 10);\n",
        "  float * A = (float *)malloc(sizeof(float) * n * n);\n",
        "  float * x = (float *)malloc(sizeof(float) * n);\n",
        "  float * y = (float *)malloc(sizeof(float) * n);\n",
        "  init_mat(n, (float(*)[n])A, 1);\n",
        "  init_vec(n, x, 1);\n",
        "  long long t0 = _rdtsc();\n",
        "  for (long r = 0; r < repeat; r++) {\n",
        "    mat_vec(n, (float(*)[n])A, x, y);\n",
        "  }\n",
        "  long long t1 = _rdtsc();\n",
        "  printf(\"%lld clocks\\n\", t1 - t0);\n",
        "  check_vec(n, y, n);\n",
        "  return 0;\n",
        "}"
      ],
      "execution_count": null,
      "outputs": []
    },
    {
      "cell_type": "code",
      "metadata": {
        "kernel": "Bash",
        "nbgrader": {
          "grade": false,
          "grade_id": "c-035",
          "locked": false,
          "schema_version": 3,
          "solution": false,
          "task": false
        }
      },
      "source": [
        "gcc -O3 -fopenmp -march=native omp_mat_vec_wo_for.c -o omp_mat_vec_wo_for"
      ],
      "execution_count": null,
      "outputs": []
    },
    {
      "cell_type": "code",
      "metadata": {
        "kernel": "Bash",
        "nbgrader": {
          "grade": false,
          "grade_id": "c-036",
          "locked": false,
          "schema_version": 3,
          "solution": false,
          "task": false
        }
      },
      "source": [
        "OMP_NUM_THREADS=1 ./omp_mat_vec_wo_for"
      ],
      "execution_count": null,
      "outputs": []
    },
    {
      "cell_type": "code",
      "metadata": {
        "kernel": "Bash",
        "nbgrader": {
          "grade": false,
          "grade_id": "c-037",
          "locked": false,
          "schema_version": 3,
          "solution": false,
          "task": false
        }
      },
      "source": [
        "OMP_NUM_THREADS=4 ./omp_mat_vec_wo_for"
      ],
      "execution_count": null,
      "outputs": []
    },
    {
      "cell_type": "code",
      "metadata": {
        "kernel": "Bash",
        "nbgrader": {
          "grade": false,
          "grade_id": "c-038",
          "locked": false,
          "schema_version": 3,
          "solution": false,
          "task": false
        }
      },
      "source": [
        "./omp_mat_vec_wo_for"
      ],
      "execution_count": null,
      "outputs": []
    },
    {
      "cell_type": "markdown",
      "metadata": {
        "kernel": "SoS",
        "nbgrader": {
          "grade": false,
          "grade_id": "c-039",
          "locked": true,
          "schema_version": 3,
          "solution": false,
          "task": false
        }
      },
      "source": [
        "\n",
        "# 7. OpenMPにおけるデータの共有",
        "\n",
        "* OpenMPのスレッドは基本的に全てのデータ(変数や配列)を<font color=\"blue\">「共有」</font>している\n",
        "* 「共有」しているとは, 大雑把にいえば, どのスレッドが変数に書き込んだ値も, 他のスレッドに見えるということである\n",
        "* そのことはこれまでの例題プログラムでも暗黙的に前提としていたことで, 例えば以下で, \n",
        "```\n",
        "  init_mat(n, (float(*)[n])A, 1);\n",
        "  init_vec(n, x, 1);\n",
        "  long long t0 = _rdtsc();\n",
        "  for (long r = 0; r < repeat; r++) {\n",
        "    mat_vec(n, (float(*)[n])A, x, y);\n",
        "  }\n",
        "  long long t1 = _rdtsc();\n",
        "  printf(\"%lld clocks\\n\", t1 - t0);\n",
        "  check_vec(n, y, n);\n",
        "```\n",
        "init_matやinit_vecでAやxに書き込んだ値が, mat_vecを実行している各スレッドで読めるのも, スレッドがデータを共有しているからである. また, 各スレッドがyに書き込んだ値が, check_vecの中で正しく読めるのみ同じ理由による\n",
        "\n",
        "* データが共有されているということは便利でもある一方で実は気をつけなくてはいけないことがある\n",
        "* 以下では, データが共有されていることで生ずる問題<font color=\"red\">競合状態</font>とその解消法について説明する\n",
        ""
      ]
    },
    {
      "cell_type": "markdown",
      "metadata": {
        "kernel": "SoS",
        "nbgrader": {
          "grade": false,
          "grade_id": "c-040",
          "locked": true,
          "schema_version": 3,
          "solution": false,
          "task": false
        }
      },
      "source": [
        "\n",
        "# 8. 競合状態",
        "\n",
        "* いつぞや取り上げた以下のコードをOpenMPで並列化することを考える\n",
        "* (説明の都合上ほんの少し変更している)\n",
        ""
      ]
    },
    {
      "cell_type": "code",
      "metadata": {
        "kernel": "Python 3 (ipykernel)",
        "nbgrader": {
          "grade": false,
          "grade_id": "c-041",
          "locked": false,
          "schema_version": 3,
          "solution": false,
          "task": false
        }
      },
      "source": [
        "%%writefile int_inv_1_x2_x.c\n",
        "#include <stdio.h>\n",
        "#include <stdlib.h>\n",
        "\n",
        "double int_inv_1_x2(double a, double b, long n) {\n",
        "  double s = 0.0;\n",
        "  double dx = (b - a) / (double)n;\n",
        "#pragma omp parallel for\n",
        "  for (long i = 0; i < n; i++) {\n",
        "    double x = a + i * dx;\n",
        "    s += 1 / (1 + x * x);\n",
        "  }\n",
        "  return s * dx;\n",
        "}\n",
        "\n",
        "int main(int argc, char ** argv) {\n",
        "  double a = (argc > 1 ? atof(argv[1]) : 0.0);\n",
        "  double b = (argc > 2 ? atof(argv[2]) : 1.0);\n",
        "  long n   = (argc > 3 ? atof(argv[3]) : 1000L * 1000L * 1000L);\n",
        "  double s = int_inv_1_x2(a, b, n);\n",
        "  printf(\"s = %f\\n\", s);\n",
        "  return 0;\n",
        "}"
      ],
      "execution_count": null,
      "outputs": []
    },
    {
      "cell_type": "code",
      "metadata": {
        "kernel": "Bash",
        "nbgrader": {
          "grade": false,
          "grade_id": "c-042",
          "locked": false,
          "schema_version": 3,
          "solution": false,
          "task": false
        }
      },
      "source": [
        "gcc -O3 -march=native int_inv_1_x2_x.c -o int_inv_1_x2_x"
      ],
      "execution_count": null,
      "outputs": []
    },
    {
      "cell_type": "markdown",
      "metadata": {
        "kernel": "SoS",
        "nbgrader": {
          "grade": false,
          "grade_id": "c-043",
          "locked": true,
          "schema_version": 3,
          "solution": false,
          "task": false
        }
      },
      "source": [
        "\n",
        "* ここにそのまま pragma parallel, pragma for を当てはめると以下のようになる\n",
        ""
      ]
    },
    {
      "cell_type": "code",
      "metadata": {
        "kernel": "Python 3 (ipykernel)",
        "nbgrader": {
          "grade": false,
          "grade_id": "c-044",
          "locked": false,
          "schema_version": 3,
          "solution": false,
          "task": false
        }
      },
      "source": [
        "%%writefile omp_int_inv_1_x2_race.c\n",
        "#include <stdio.h>\n",
        "#include <stdlib.h>\n",
        "\n",
        "double int_inv_1_x2(double a, double b, long n) {\n",
        "  double s = 0.0;\n",
        "  double dx = (b - a) / (double)n;\n",
        "#pragma omp parallel for\n",
        "  for (long i = 0; i < n; i++) {\n",
        "    double x = a + i * dx;\n",
        "    s += 1 / (1 + x * x);\n",
        "  }\n",
        "  return s * dx;\n",
        "}\n",
        "\n",
        "int main(int argc, char ** argv) {\n",
        "  double a = (argc > 1 ? atof(argv[1]) : 0.0);\n",
        "  double b = (argc > 2 ? atof(argv[2]) : 1.0);\n",
        "  long n   = (argc > 3 ? atof(argv[3]) : 1000L * 1000L * 1000L);\n",
        "  double s = int_inv_1_x2(a, b, n);\n",
        "  printf(\"s = %f\\n\", s);\n",
        "  return 0;\n",
        "}"
      ],
      "execution_count": null,
      "outputs": []
    },
    {
      "cell_type": "code",
      "metadata": {
        "kernel": "Bash",
        "nbgrader": {
          "grade": false,
          "grade_id": "c-045",
          "locked": false,
          "schema_version": 3,
          "solution": false,
          "task": false
        }
      },
      "source": [
        "gcc -O3 -fopenmp -march=native omp_int_inv_1_x2_race.c -o omp_int_inv_1_x2_race"
      ],
      "execution_count": null,
      "outputs": []
    },
    {
      "cell_type": "markdown",
      "metadata": {
        "kernel": "SoS",
        "nbgrader": {
          "grade": false,
          "grade_id": "c-046",
          "locked": true,
          "schema_version": 3,
          "solution": false,
          "task": false
        }
      },
      "source": [
        "\n",
        "* 正解は $\\pi/4$で 1スレッドで実行すれば問題なく正解が出る\n",
        ""
      ]
    },
    {
      "cell_type": "code",
      "metadata": {
        "kernel": "Bash",
        "nbgrader": {
          "grade": false,
          "grade_id": "c-047",
          "locked": false,
          "schema_version": 3,
          "solution": false,
          "task": false
        }
      },
      "source": [
        "OMP_NUM_THREADS=1 time ./omp_int_inv_1_x2_race"
      ],
      "execution_count": null,
      "outputs": []
    },
    {
      "cell_type": "markdown",
      "metadata": {
        "kernel": "SoS",
        "nbgrader": {
          "grade": false,
          "grade_id": "c-048",
          "locked": true,
          "schema_version": 3,
          "solution": false,
          "task": false
        }
      },
      "source": [
        "\n",
        "* 2スレッド以上だと正解は出ない上, 毎回答えも違う(非決定的な挙動)\n",
        ""
      ]
    },
    {
      "cell_type": "code",
      "metadata": {
        "kernel": "Bash",
        "nbgrader": {
          "grade": false,
          "grade_id": "c-049",
          "locked": false,
          "schema_version": 3,
          "solution": false,
          "task": false
        }
      },
      "source": [
        "OMP_NUM_THREADS=4 time ./omp_int_inv_1_x2_race"
      ],
      "execution_count": null,
      "outputs": []
    },
    {
      "cell_type": "markdown",
      "metadata": {
        "kernel": "SoS",
        "nbgrader": {
          "grade": false,
          "grade_id": "c-050",
          "locked": true,
          "schema_version": 3,
          "solution": false,
          "task": false
        }
      },
      "source": [
        "\n",
        "* その理由を考察する(講義スライド p80 〜に答えがある)\n",
        "\n",
        "<pre>\n",
        "#pragma omp parallel for\n",
        "  for (long i = 0; i < n; i++) {\n",
        "    double x = a + i * dx;\n",
        "    s += 1 / (1 + x * x);\n",
        "  }\n",
        "</pre>\n",
        "\n",
        "において, 変数 sは全部のスレッドで共有されている(注: x は parallel で実行される文の内部で定義されており, それはスレッドごとに別の変数になる. つまり共有されない)\n",
        "* 複数のスレッドが同じ変数sを更新することになる\n",
        "* よくないことが起きる具体的なシナリオはスライドp81 を参照. s += ... は実際には, s を読み出し, .... を足して, それをまたsに書き戻す. 読み出しから書き戻しまでの間に別のスレッドが s を更新するとおかしなことになる\n",
        ""
      ]
    },
    {
      "cell_type": "markdown",
      "metadata": {
        "kernel": "SoS",
        "nbgrader": {
          "grade": false,
          "grade_id": "c-051",
          "locked": true,
          "schema_version": 3,
          "solution": false,
          "task": false
        }
      },
      "source": [
        "\n",
        "* このように, 複数のスレッドが同じ変数を使っていて, 少なくとも一人は更新している状況を<font color=\"red\">「競合状態」</font>と呼び, 大概のプログラムは意図した動作をしない\n",
        "* 競合状態があったら必ず何か手を打たないといけないと思っておくべき\n",
        ""
      ]
    },
    {
      "cell_type": "markdown",
      "metadata": {
        "kernel": "SoS",
        "nbgrader": {
          "grade": false,
          "grade_id": "c-052",
          "locked": true,
          "schema_version": 3,
          "solution": false,
          "task": false
        }
      },
      "source": [
        "\n",
        "## 8-1. reduction 節を用いた解決法",
        "\n",
        "* 今回の変数 s に対する足し込みのような演算(もう少し一般的な話は後で述べる)に対してはとりわけ簡単な解決法\n",
        "* `#omp pragma parallel` もしくは `#omp pragma for` の中に reduction(演算:変数) という節を付け加えれば良い\n",
        ""
      ]
    },
    {
      "cell_type": "code",
      "metadata": {
        "kernel": "Python 3 (ipykernel)",
        "nbgrader": {
          "grade": false,
          "grade_id": "c-053",
          "locked": false,
          "schema_version": 3,
          "solution": false,
          "task": false
        }
      },
      "source": [
        "%%writefile omp_int_inv_1_x2_reduction.c\n",
        "#include <stdio.h>\n",
        "#include <stdlib.h>\n",
        "\n",
        "double int_inv_1_x2(double a, double b, long n) {\n",
        "  double s = 0.0;\n",
        "  double dx = (b - a) / (double)n;\n",
        "#pragma omp parallel for reduction(+:s)\n",
        "  for (long i = 0; i < n; i++) {\n",
        "    double x = a + i * dx;\n",
        "    s += 1 / (1 + x * x);\n",
        "  }\n",
        "  return s * dx;\n",
        "}\n",
        "\n",
        "int main(int argc, char ** argv) {\n",
        "  double a = (argc > 1 ? atof(argv[1]) : 0.0);\n",
        "  double b = (argc > 2 ? atof(argv[2]) : 1.0);\n",
        "  long n   = (argc > 3 ? atof(argv[3]) : 1000L * 1000L * 1000L);\n",
        "  double s = int_inv_1_x2(a, b, n);\n",
        "  printf(\"s = %f\\n\", s);\n",
        "  return 0;\n",
        "}"
      ],
      "execution_count": null,
      "outputs": []
    },
    {
      "cell_type": "code",
      "metadata": {
        "kernel": "Bash",
        "nbgrader": {
          "grade": false,
          "grade_id": "c-054",
          "locked": false,
          "schema_version": 3,
          "solution": false,
          "task": false
        }
      },
      "source": [
        "gcc -O3 -fopenmp -march=native omp_int_inv_1_x2_reduction.c -o omp_int_inv_1_x2_reduction"
      ],
      "execution_count": null,
      "outputs": []
    },
    {
      "cell_type": "code",
      "metadata": {
        "kernel": "Bash",
        "nbgrader": {
          "grade": false,
          "grade_id": "c-055",
          "locked": false,
          "schema_version": 3,
          "solution": false,
          "task": false
        }
      },
      "source": [
        "time ./omp_int_inv_1_x2_reduction"
      ],
      "execution_count": null,
      "outputs": []
    },
    {
      "cell_type": "markdown",
      "metadata": {
        "kernel": "SoS",
        "nbgrader": {
          "grade": false,
          "grade_id": "c-056",
          "locked": true,
          "schema_version": 3,
          "solution": false,
          "task": false
        }
      },
      "source": [
        "\n",
        "* reductionは一般に多数の値を縮約する演算 o ($s = s_0 {\\rm o} s_1 {\\rm o}  ... {\\rm o} s_{n-1}$)であって, 適用する順番を変えても同じ答えが出る場合に使われる\n",
        "* つまり足し算(+)であれば $s_0 + s_1 + s_2 + s_3$を, \n",
        "$$(((s_0 + s_1) + s_2) + s_3)$$\n",
        "と計算しても良いし \n",
        "$$(s_0 + s_1) + (s_2 + s_3)$$\n",
        "と計算しても良い. \n",
        "* 見ての通り後者のように計算すれば $(s_0 + s_1)$ と $(s_2 + s_3)$ を並行に計算できることになる\n",
        "* したがって reduction は, 結合則と交換則が成り立つような演算を多数の要素に施す場合に使え, 代表例としては, +, *, max, min, などがある\n",
        ""
      ]
    }
  ],
  "metadata": {
    "celltoolbar": "Create Assignment",
    "kernelspec": {
      "display_name": "SoS",
      "language": "sos",
      "name": "sos"
    },
    "language_info": {
      "codemirror_mode": "sos",
      "file_extension": ".sos",
      "mimetype": "text/x-sos",
      "name": "sos",
      "nbconvert_exporter": "sos_notebook.converter.SoS_Exporter",
      "pygments_lexer": "sos"
    },
    "sos": {
      "kernels": [
        [
          "Bash",
          "bash",
          "bash",
          "",
          "shell"
        ],
        [
          "C",
          "c_kernel",
          "c",
          "",
          ""
        ],
        [
          "Go",
          "gophernotes",
          "go",
          "",
          ""
        ],
        [
          "Julia 1.10.2",
          "julia-1.10",
          "julia",
          "",
          ""
        ],
        [
          "OCaml default",
          "ocaml-jupyter",
          "OCaml",
          "",
          "text/x-ocaml"
        ],
        [
          "Python 3 (ipykernel)",
          "python3",
          "python3",
          "",
          {
            "name": "ipython",
            "version": 3
          }
        ],
        [
          "Rust",
          "rust",
          "rust",
          "",
          ""
        ]
      ],
      "panel": {
        "displayed": true,
        "height": 0
      },
      "version": "0.23.3"
    }
  },
  "nbformat": 4,
  "nbformat_minor": 4
}