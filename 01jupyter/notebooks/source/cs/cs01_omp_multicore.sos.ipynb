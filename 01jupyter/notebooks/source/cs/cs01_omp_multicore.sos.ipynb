{
  "cells": [
    {
      "cell_type": "markdown",
      "metadata": {
        "kernel": "SoS",
        "nbgrader": {
          "grade": false,
          "grade_id": "c-001",
          "locked": true,
          "schema_version": 3,
          "solution": false,
          "task": false
        }
      },
      "source": [
        "\n",
        "#  高性能プログラミングと性能測定(1) --- OpenMP CPUマルチコアプログラミング",
        ""
      ]
    },
    {
      "cell_type": "markdown",
      "metadata": {
        "kernel": "SoS",
        "nbgrader": {
          "grade": false,
          "grade_id": "c-002",
          "locked": true,
          "schema_version": 3,
          "solution": false,
          "task": false
        }
      },
      "source": [
        "\n",
        "# 1. OpenMP",
        "\n",
        "* OpenMPはCPUでマルチコア並列処理を行うための標準(デファクトスタンダード)\n",
        "* 新しい仕様ではGPUもサポートしている(どこまでサポートしているかはコンパイラ依存)\n",
        "\n",
        "* 詳しい仕様が知りたくなったら https://openmp.org/ を参照\n",
        "  * 最新仕様 https://www.openmp.org/spec-html/5.2/openmp.html\n",
        "  * 簡潔な文法のリファレンス: https://www.openmp.org/resources/refguides/\n",
        "* 最小限の覚えるべきキーワード\n",
        "  * `#pragma omp parallel`\n",
        "  * `#pragma omp for`\n",
        "  * `reduction`\n",
        "* 最小限の覚えるべきAPI関数\n",
        "```\n",
        "#include <omp.h> \n",
        "```\n",
        "して\n",
        "  * omp_get_num_threads();\n",
        "  * omp_get_thread_num();\n",
        ""
      ]
    },
    {
      "cell_type": "markdown",
      "metadata": {
        "kernel": "SoS",
        "nbgrader": {
          "grade": false,
          "grade_id": "c-003",
          "locked": true,
          "schema_version": 3,
          "solution": false,
          "task": false
        }
      },
      "source": [
        "# 2. コンパイラ",
        "\n",
        "* この演習環境では, 同じコンパイラでCPUもGPUもサポートしているという理由で, NVIDIA HPC SDKを使う\n",
        "* ただし, 世の中的にはCPU上のプログラミングといえば gcc, clang (LLVM) などが主流なので, それらも紹介しておく\n",
        "\n",
        "## 2-1. NVIDIA HPC SDK",
        "\n",
        "* コマンド名:\n",
        "  * C: `nvc`\n",
        "  * C++: `nvc++`\n",
        "* コンパイルオプション:\n",
        "  * `-mp=multicore` をつけると CPU用のOpenMPがサポートされる\n",
        "  * `-mp=gpu` をつけると GPU用のOpenMPがサポートされる (次週)\n",
        "* 上記のコマンドを実行できるようにするために, 以下を実行してください(この環境特有. Wisteriaでは別のやり方(moduleコマンド))"
      ]
    },
    {
      "cell_type": "code",
      "metadata": {
        "kernel": "Bash",
        "nbgrader": {
          "grade": false,
          "grade_id": "c-004",
          "locked": false,
          "schema_version": 3,
          "solution": false,
          "task": false
        }
      },
      "source": [
        "export PATH=/opt/nvidia/hpc_sdk/Linux_x86_64/24.5/compilers/bin:$PATH"
      ],
      "execution_count": null,
      "outputs": []
    },
    {
      "cell_type": "markdown",
      "metadata": {
        "kernel": "SoS",
        "nbgrader": {
          "grade": false,
          "grade_id": "c-005",
          "locked": true,
          "schema_version": 3,
          "solution": false,
          "task": false
        }
      },
      "source": [
        "## 2-2. GCC",
        "\n",
        "* コマンド名:\n",
        "  * C: `gcc`\n",
        "  * C++: `g++`\n",
        "* コンパイルオプション:\n",
        "  * `-fopenmp` をつけると CPU用のOpenMPがサポートされる\n",
        ""
      ]
    },
    {
      "cell_type": "markdown",
      "metadata": {
        "kernel": "SoS",
        "nbgrader": {
          "grade": false,
          "grade_id": "c-006",
          "locked": true,
          "schema_version": 3,
          "solution": false,
          "task": false
        }
      },
      "source": [
        "# 3. `#pragma omp parallel` 構文",
        "\n",
        "* OpenMPで, 「これがなくては始まらない」プリミティブ\n",
        "* OpenMPプログラムは1スレッドで実行を開始し(MPIのようにmain関数が複数実行されるのではない), `#pragma omp parallel`に差し掛かると直後に書かれた文を複数のスレッドが実行する\n",
        "* いくつできるかの規則や制御方法にはいくつかあるが, もっとも基本的なルールは, 実行時の環境変数OMP_NUM_THREADSで指定した数, というもの\n",
        "\n",
        "* 以下を実行すると, `#pragma omp parallel`の直下に書かれた一文 `printf(\"in parallel\\n\");` が複数のスレッドによって実行される"
      ]
    },
    {
      "cell_type": "code",
      "metadata": {
        "kernel": "Python 3 (ipykernel)",
        "nbgrader": {
          "grade": false,
          "grade_id": "c-007",
          "locked": false,
          "schema_version": 3,
          "solution": false,
          "task": false
        }
      },
      "source": [
        "%%writefile omp_parallel.c\n",
        "#include <stdio.h>\n",
        "\n",
        "int main() {\n",
        "  printf(\"before parallel\\n\");\n",
        "#pragma omp parallel\n",
        "  printf(\"in parallel\\n\");\n",
        "  printf(\"after parallel\\n\");\n",
        "  return 0;\n",
        "}\n",
        ""
      ],
      "execution_count": null,
      "outputs": []
    },
    {
      "cell_type": "code",
      "metadata": {
        "kernel": "Bash",
        "nbgrader": {
          "grade": false,
          "grade_id": "c-008",
          "locked": false,
          "schema_version": 3,
          "solution": false,
          "task": false
        }
      },
      "source": [
        "nvc -fast -mp=multicore omp_parallel.c -o omp_parallel_mp.exe"
      ],
      "execution_count": null,
      "outputs": []
    },
    {
      "cell_type": "markdown",
      "metadata": {
        "kernel": "SoS",
        "nbgrader": {
          "grade": false,
          "grade_id": "c-009",
          "locked": true,
          "schema_version": 3,
          "solution": false,
          "task": false
        }
      },
      "source": [
        "* `OMP_NUM_THREADS` という環境変数 (「環境変数」を知らない人は以下のようにコマンドの前にある`変数名=値`のことだと思えば良い) を設定すると, `printf(\"in parallel\\n\");` (`#pragma omp parallel` 直下の文) を実行するスレッドの数を変えられる\n",
        "* 以下で`OMP_NUM_THREADS`に設定する値を色々変えて実行してみよ"
      ]
    },
    {
      "cell_type": "code",
      "metadata": {
        "kernel": "Bash",
        "nbgrader": {
          "grade": false,
          "grade_id": "c-010",
          "locked": false,
          "schema_version": 3,
          "solution": false,
          "task": false
        }
      },
      "source": [
        "OMP_NUM_THREADS=3 ./omp_parallel"
      ],
      "execution_count": null,
      "outputs": []
    },
    {
      "cell_type": "markdown",
      "metadata": {
        "kernel": "SoS",
        "nbgrader": {
          "grade": false,
          "grade_id": "c-011",
          "locked": true,
          "schema_version": 3,
          "solution": false,
          "task": false
        }
      },
      "source": [
        "\n",
        "* 文法\n",
        "```\n",
        "#pragma omp parallel\n",
        "文\n",
        "```\n",
        "* 意味\n",
        " * 「文」を複数のスレッドで実行する(典型的には環境変数 `OMP_NUM_THREADS` で指定した数)\n",
        "  * それらのスレッドを, その文を実行する<font color=\"blue\">チーム</font>と呼ぶ\n",
        " * チームの全スレッドが「文」を実行し終えると, `#pragma omp parallel` 全体が実行を終える\n",
        " * 再び1スレッドに戻って以降の文を実行する\n",
        "* 注\n",
        " * 複数のスレッドが実行するのは `#pragma omp parallel` の直下に書かれたひとつの文だが, この文自体が複合文 (`{ ... }` で囲まれた複数の文をまとめて一つの文とみなしたもの)だったり, ループだったり, 関数呼び出しを含んで, その関数の中に多数の文を含んでいることがあるので, 実際には複数スレッドで実行される文の数はいくらでも多数であり得る\n",
        ""
      ]
    },
    {
      "cell_type": "markdown",
      "metadata": {
        "kernel": "SoS",
        "nbgrader": {
          "grade": false,
          "grade_id": "c-012",
          "locked": true,
          "schema_version": 3,
          "solution": false,
          "task": false
        }
      },
      "source": [
        "# 4. `#pragma omp parallel` を実行するスレッド数の指定の仕方色々",
        "\n",
        "* プログラムの中で指定する\n",
        "  * `#pragma omp parallel` に `num_threads(N)` として `N` 個のスレッドで実行するよう指定できる\n",
        "  * `N` はCの式でよいのでこれをプログラムの引数で指定したり, プログラム中のデータに応じて調節したりということもやろうと思えばできる\n",
        "  * ここで指定したものは環境変数 `OMP_NUM_THREADS` による指定よりも優先される\n",
        "* 以下のプログラムの引数を変えてk実行してみよ"
      ]
    },
    {
      "cell_type": "code",
      "metadata": {
        "kernel": "Bash",
        "nbgrader": {
          "grade": false,
          "grade_id": "c-013",
          "locked": false,
          "schema_version": 3,
          "solution": false,
          "task": false
        }
      },
      "source": [
        "./omp_parallel_num_threads 3"
      ],
      "execution_count": null,
      "outputs": []
    },
    {
      "cell_type": "markdown",
      "metadata": {
        "kernel": "SoS",
        "nbgrader": {
          "grade": false,
          "grade_id": "c-014",
          "locked": true,
          "schema_version": 3,
          "solution": false,
          "task": false
        }
      },
      "source": [
        "* 環境変数 `OMP_NUM_THREADS` で指定する (推奨)\n",
        "  * 上述したとおり\n",
        "  * 手軽にスレッド数を変更できるので多くの場合はこれを用いる\n",
        "  * 一般に, プログラムはスレッド数がいくつであっても実行するように書いておき, 実行するときに調節できるようにするのが良いので, その意味でも特に理由がなければこれを使うことを推奨"
      ]
    },
    {
      "cell_type": "markdown",
      "metadata": {
        "kernel": "SoS",
        "nbgrader": {
          "grade": false,
          "grade_id": "c-015",
          "locked": true,
          "schema_version": 3,
          "solution": false,
          "task": false
        }
      },
      "source": [
        "* 指定しない\n",
        "  * どちらも指定しなければ (仕様にそう書かれているかは知らないが普通), 環境に備わる仮想コア数を `OMP_NUM_THREADS` に指定したのと同じ効果になる\n",
        "  * 「仮想コア」については後述\n",
        "  * 以下のコマンドでそれを知れる"
      ]
    },
    {
      "cell_type": "code",
      "metadata": {
        "kernel": "Bash",
        "nbgrader": {
          "grade": false,
          "grade_id": "c-016",
          "locked": false,
          "schema_version": 3,
          "solution": false,
          "task": false
        }
      },
      "source": [
        "nproc"
      ],
      "execution_count": null,
      "outputs": []
    },
    {
      "cell_type": "markdown",
      "metadata": {
        "kernel": "SoS",
        "nbgrader": {
          "grade": false,
          "grade_id": "c-017",
          "locked": true,
          "schema_version": 3,
          "solution": false,
          "task": false
        }
      },
      "source": [
        "* `omp_parallel` を `OMP_NUM_THREADS` 指定せずに実行してみよ"
      ]
    },
    {
      "cell_type": "code",
      "metadata": {
        "kernel": "Bash",
        "nbgrader": {
          "grade": false,
          "grade_id": "c-018",
          "locked": false,
          "schema_version": 3,
          "solution": false,
          "task": false
        }
      },
      "source": [
        "./omp_parallel"
      ],
      "execution_count": null,
      "outputs": []
    },
    {
      "cell_type": "markdown",
      "metadata": {
        "kernel": "SoS",
        "nbgrader": {
          "grade": false,
          "grade_id": "c-019",
          "locked": true,
          "schema_version": 3,
          "solution": false,
          "task": false
        }
      },
      "source": [
        "* `OMP_NUM_THREADS` には自由な数を指定してよいが, CPUに搭載されている仮想コア数より大きくしても計算が速くなることはまずない"
      ]
    },
    {
      "cell_type": "markdown",
      "metadata": {
        "kernel": "SoS",
        "nbgrader": {
          "grade": false,
          "grade_id": "c-020",
          "locked": true,
          "schema_version": 3,
          "solution": false,
          "task": false
        }
      },
      "source": [
        "# 5. omp_num_threads() と omp_thread_num()",
        "\n",
        "*\n",
        "```\n",
        "#pragma omp parallel\n",
        "  S\n",
        "```\n",
        "によってSを実行中のスレッドは, \n",
        " * `omp_num_threads()` によってSを実行しているチームのスレッド数\n",
        " * `omp_thread_num()` によってその中での自分の番号(スレッド数を$n$として, 0以上$n$未満の数)\n",
        "を得ることが出来る\n",
        "\n",
        "* これらを使う場合\n",
        "\n",
        "```\n",
        "#include <omp.h>\n",
        "```\n",
        "\n",
        "しておく\n",
        ""
      ]
    },
    {
      "cell_type": "code",
      "metadata": {
        "kernel": "Python 3 (ipykernel)",
        "nbgrader": {
          "grade": false,
          "grade_id": "c-021",
          "locked": false,
          "schema_version": 3,
          "solution": false,
          "task": false
        }
      },
      "source": [
        "%%writefile omp_parallel_rank.c\n",
        "#include <stdio.h>\n",
        "#include <omp.h>\n",
        "\n",
        "int main() {\n",
        "  printf(\"hello\\n\");\n",
        "#pragma omp parallel\n",
        "  {\n",
        "    int omp_nthreads = omp_get_num_threads();\n",
        "    int omp_rank = omp_get_thread_num();\n",
        "    printf(\"world %d/%d\\n\", omp_rank, omp_nthreads);\n",
        "  }\n",
        "  printf(\"good bye\\n\");\n",
        "  return 0;\n",
        "}"
      ],
      "execution_count": null,
      "outputs": []
    },
    {
      "cell_type": "code",
      "metadata": {
        "kernel": "Bash",
        "nbgrader": {
          "grade": false,
          "grade_id": "c-022",
          "locked": false,
          "schema_version": 3,
          "solution": false,
          "task": false
        }
      },
      "source": [
        "nvc -fast -mp=multicore omp_parallel_rank.c -o omp_parallel_rank_mp.exe"
      ],
      "execution_count": null,
      "outputs": []
    },
    {
      "cell_type": "code",
      "metadata": {
        "kernel": "Bash",
        "nbgrader": {
          "grade": false,
          "grade_id": "c-023",
          "locked": false,
          "schema_version": 3,
          "solution": false,
          "task": false
        }
      },
      "source": [
        "OMP_NUM_THREADS=3 ./omp_parallel_rank"
      ],
      "execution_count": null,
      "outputs": []
    },
    {
      "cell_type": "code",
      "metadata": {
        "kernel": "Bash",
        "nbgrader": {
          "grade": false,
          "grade_id": "c-024",
          "locked": false,
          "schema_version": 3,
          "solution": false,
          "task": false
        }
      },
      "source": [
        "./omp_parallel_rank"
      ],
      "execution_count": null,
      "outputs": []
    },
    {
      "cell_type": "markdown",
      "metadata": {
        "kernel": "SoS",
        "nbgrader": {
          "grade": false,
          "grade_id": "c-025",
          "locked": true,
          "schema_version": 3,
          "solution": false,
          "task": false
        }
      },
      "source": [
        "\n",
        "# 6. CPU, コア, 仮想コア(ハードウェアスレッド)",
        "\n",
        "* 最近の<font color=\"blue\">CPU</font>はマルチコアCPUで, 1つのチップに複数の, 独立に実行可能な<font color=\"blue\">「コア」</font>が搭載されている\n",
        "* ひとつのボード(計算ノード)に複数のCPUが搭載されていることもある(<font color=\"blue\">マルチソケット</font>環境)\n",
        "* さらにひとつのコアにも独立に命令を実行可能な, <font color=\"blue\">「仮想コア(ハードウェアスレッド)」</font>が搭載されている\n",
        "* 田浦 <a href=\"https://taura.github.io/cs-alliance/slides/pdf/taura_lecture.pdf\" target=\"_blank\">講義スライド</a> pXXを参照\n",
        "* ソフトウェア(OS)からは仮想コアがひとつのプロセッサとして見える\n",
        "* ただしハードウェアスレッドは起動時にOFFにすることもでき, その場合は観測されるプロセッサ数は, 物理コア数になる\n",
        "* OSから見えているプロセッサ数は以下のコマンドで観測できる"
      ]
    },
    {
      "cell_type": "code",
      "metadata": {
        "kernel": "Bash",
        "nbgrader": {
          "grade": false,
          "grade_id": "c-026",
          "locked": false,
          "schema_version": 3,
          "solution": false,
          "task": false
        }
      },
      "source": [
        "nproc"
      ],
      "execution_count": null,
      "outputs": []
    },
    {
      "cell_type": "markdown",
      "metadata": {
        "kernel": "SoS",
        "nbgrader": {
          "grade": false,
          "grade_id": "c-027",
          "locked": true,
          "schema_version": 3,
          "solution": false,
          "task": false
        }
      },
      "source": [
        "* CPUの機種名は以下で観測できる"
      ]
    },
    {
      "cell_type": "code",
      "metadata": {
        "kernel": "Bash",
        "nbgrader": {
          "grade": false,
          "grade_id": "c-028",
          "locked": true,
          "schema_version": 3,
          "solution": false,
          "task": false
        }
      },
      "source": [
        "cat /proc/cpuinfo | head -30"
      ],
      "execution_count": null,
      "outputs": []
    },
    {
      "cell_type": "markdown",
      "metadata": {
        "kernel": "SoS",
        "nbgrader": {
          "grade": false,
          "grade_id": "c-029",
          "locked": true,
          "schema_version": 3,
          "solution": false,
          "task": false
        }
      },
      "source": [
        "\n",
        "* コアを, 仮想コアと区別して「物理コア」と呼ぶこともある\n",
        "* 物理コアとか仮想コアの違いはソフトウェアからはほとんど見えないが, 同一の物理コア上の仮想コアは演算器を共有しており, 「一サイクルに実行可能な浮動小数点演算数」みたいな数字は「コア」あたりの数字である. すでに限界性能に近いスレッドを二つ, 同一のコアに置いても性能は倍にならない\n",
        ""
      ]
    },
    {
      "cell_type": "markdown",
      "metadata": {
        "kernel": "SoS",
        "nbgrader": {
          "grade": false,
          "grade_id": "c-030",
          "locked": true,
          "schema_version": 3,
          "solution": false,
          "task": false
        }
      },
      "source": [
        "\n",
        "* `#pragma omp parallel`はその直下の文を「全員が(重複して)」実行する手段\n",
        "* 実際に処理を高速化するには一定量の仕事を複数のスレッドで「分割」して処理する必要がある\n",
        "* そのための手段が work sharing 構文. そのひとつが `#pragma omp for`"
      ]
    },
    {
      "cell_type": "markdown",
      "metadata": {
        "kernel": "SoS",
        "nbgrader": {
          "grade": false,
          "grade_id": "c-031",
          "locked": true,
          "schema_version": 3,
          "solution": false,
          "task": false
        }
      },
      "source": [
        "\n",
        "# 7. `#pragma omp for` 構文",
        "\n",
        "* `#pragma omp parallel`で指定された文を実行中にスレッドが `#pragma omp for` に到達すると, その直下に書かれた文 (for 文でなくてはならない)の繰り返しをスレッド間で分け合って実行する\n",
        "* 仕事をスレッド間で分け合って実行するので, work sharing構文と呼ぶ \n",
        "* OpenMPには他のwork sharing構文もあるがこの演習ではそれらはやらない"
      ]
    },
    {
      "cell_type": "markdown",
      "metadata": {
        "kernel": "SoS",
        "nbgrader": {
          "grade": false,
          "grade_id": "c-032",
          "locked": true,
          "schema_version": 3,
          "solution": false,
          "task": false
        }
      },
      "source": [
        "\n",
        "* 以下は `#pragma omp for` の効果を確かめる簡単な例"
      ]
    },
    {
      "cell_type": "code",
      "metadata": {
        "kernel": "Python 3 (ipykernel)",
        "nbgrader": {
          "grade": false,
          "grade_id": "c-033",
          "locked": false,
          "schema_version": 3,
          "solution": false,
          "task": false
        }
      },
      "source": [
        "%%writefile omp_parallel_for.c\n",
        "#include <stdio.h>\n",
        "#include <stdlib.h>\n",
        "#include <omp.h>\n",
        "\n",
        "int main(int argc, char ** argv) {\n",
        "  int m = (1 < argc ? atoi(argv[1]) : 10);\n",
        "  printf(\"before parallel\\n\");\n",
        "#pragma omp parallel\n",
        "  {\n",
        "    printf(\"in parallel, before for\\n\");\n",
        "#pragma omp for\n",
        "    for (int i = 0; i < m; i++) {\n",
        "      printf(\"i = %3d\\n\", i);\n",
        "    }\n",
        "    printf(\"in parallel, after for\\n\");\n",
        "  }\n",
        "  printf(\"after parallel\\n\");\n",
        "  return 0;\n",
        "}\n",
        ""
      ],
      "execution_count": null,
      "outputs": []
    },
    {
      "cell_type": "code",
      "metadata": {
        "kernel": "Bash",
        "nbgrader": {
          "grade": false,
          "grade_id": "c-034",
          "locked": false,
          "schema_version": 3,
          "solution": false,
          "task": false
        }
      },
      "source": [
        "nvc -fast -mp=multicore omp_parallel_for.c -o omp_parallel_for_mp.exe"
      ],
      "execution_count": null,
      "outputs": []
    },
    {
      "cell_type": "code",
      "metadata": {
        "kernel": "Bash",
        "nbgrader": {
          "grade": false,
          "grade_id": "c-035",
          "locked": false,
          "schema_version": 3,
          "solution": false,
          "task": false
        }
      },
      "source": [
        "OMP_NUM_THREADS=3 ./omp_parallel_for 10"
      ],
      "execution_count": null,
      "outputs": []
    },
    {
      "cell_type": "markdown",
      "metadata": {
        "kernel": "SoS",
        "nbgrader": {
          "grade": false,
          "grade_id": "c-036",
          "locked": true,
          "schema_version": 3,
          "solution": false,
          "task": false
        }
      },
      "source": [
        "* `m`回の繰り返しが複数のスレッドで分割されて実行されるため, 表示される順番が i の小さい順番とは限らなくなることに注意\n",
        "\n",
        "* また, `#pragma omp for` を取り除くと, ループのすべての繰り返しがすべてのスレッドで実行されることに注意 (やってみよ)\n",
        "* 普通はこんなプログラムは書かないが, 仕様を理解するための実験としてやってみよ\n",
        "\n",
        "* OpenMPがやってくれることは基本的には for文の繰り返しを複数のスレッドで分割して実行するということである\n",
        "* 逆に言うと, 計算時間の多くを並列に実行可能なfor文が占めていることが, OpenMPによる並列化が成功するための条件である\n",
        ""
      ]
    },
    {
      "cell_type": "markdown",
      "metadata": {
        "kernel": "SoS",
        "nbgrader": {
          "grade": false,
          "grade_id": "c-037",
          "locked": true,
          "schema_version": 3,
          "solution": false,
          "task": false
        }
      },
      "source": [
        "\n",
        "# 8. `schedule` 句",
        "\n",
        "* `#pragma omp for` では, 繰り返しをどのようにスレッドに割り当てるかを, `schedule` 句によって指定できる\n",
        "* 繰り返し回数が$M$回, スレッド数が$T$個としたときに, \n",
        "  * `#pragma omp for schedule(static)` : はじめの$\\lceil M/T \\rceil$回をスレッド0, 次の$\\lceil M/T \\rceil$回をスレッド1, ... が実行 ($M$が$T$で割り切れなければ最後の方に少ないスレッドが出る場合も有る)\n",
        "  * `#pragma omp for schedule(static, c)` : はじめの$c$回をスレッド0, 次の$c$回をスレッド1, ... が実行 (最後まで到達したらまたスレッド0に戻る)\n",
        "  * `#pragma omp for schedule(dynamic)` : 各スレッドが, 「まだ実行されていない繰り返しを1つ実行する」を繰り返す. どの繰り返しをどのスレッドが実行することになるかは予測できない. \n",
        "  * `#pragma omp for schedule(dynamic, c)` : `dynamic`と同じだが, 繰り返しは一度につき$c$個ずつまとめてわりあてる. つまり「まだ実行されていない繰り返しを$c$個 (残った繰り返し数が$c$未満の場合はすべて) 実行する」を繰り返す. \n",
        "  * `#pragma omp for schedule(guided)` : `dynamic`と似ているが最初のうちは一度につき, 多めの繰り返しを割当て, 徐々に少なくしていく\n",
        "  * `#pragma omp for schedule(guided, c)` : `guided`と似ているが最低でも$c$個割り当てる\n",
        "  * `#pragma omp for schedule(runtime)` : 実行する際に環境変数 `OMP_SCHEDULE` で, 以下のようにschedule句を指定できる.\n",
        "```\n",
        "OMP_SCHEDULE=static コマンド\n",
        "```  \n",
        "* 何も書かなかった時のデフォルトが仕様で定められているかどうかは知らないが, 普通は初めの`static`の動作をする\n",
        "\n",
        "* 以下のプログラムは, 各繰り返しを`usleep(i * 100000)`によって約$i \\times 100$ミリ秒 ($=i \\times 0.1) 秒かかるようにした上で, どの繰り返しをどのスレッドが実行したかを表示するもの\n",
        "* `schedule`句を書き換えてコンパイル, 実行し, 上記を確認せよ\n",
        "* どのようなときに`static` / `dynamic` を用いるべきか?\n",
        ""
      ]
    },
    {
      "cell_type": "code",
      "metadata": {
        "kernel": "Python 3 (ipykernel)",
        "nbgrader": {
          "grade": false,
          "grade_id": "c-038",
          "locked": false,
          "schema_version": 3,
          "solution": false,
          "task": false
        }
      },
      "source": [
        "%%writefile omp_parallel_for_thread_num.c\n",
        "#include <stdio.h>\n",
        "#include <stdlib.h>\n",
        "#include <omp.h>\n",
        "#include <unistd.h>\n",
        "\n",
        "int main(int argc, char ** argv) {\n",
        "  int m = (1 < argc ? atoi(argv[1]) : 10);\n",
        "  printf(\"before parallel\\n\");\n",
        "#pragma omp parallel\n",
        "  {\n",
        "    int nt = omp_get_num_threads();\n",
        "#pragma omp for schedule(static)\n",
        "    for (int i = 0; i < m; i++) {\n",
        "      int t = omp_get_thread_num();\n",
        "      usleep(i * 100000);\n",
        "      printf(\"i = %3d, by thread %3d of %3d\\n\", i, t, nt);\n",
        "    }\n",
        "  }\n",
        "  printf(\"after parallel\\n\");\n",
        "  return 0;\n",
        "}\n",
        ""
      ],
      "execution_count": null,
      "outputs": []
    },
    {
      "cell_type": "code",
      "metadata": {
        "kernel": "Bash",
        "nbgrader": {
          "grade": false,
          "grade_id": "c-039",
          "locked": false,
          "schema_version": 3,
          "solution": false,
          "task": false
        }
      },
      "source": [
        "nvc -fast -mp=multicore omp_parallel_for_thread_num.c -o omp_parallel_for_thread_num_mp.exe"
      ],
      "execution_count": null,
      "outputs": []
    },
    {
      "cell_type": "code",
      "metadata": {
        "kernel": "Bash",
        "nbgrader": {
          "grade": false,
          "grade_id": "c-040",
          "locked": false,
          "schema_version": 3,
          "solution": false,
          "task": false
        }
      },
      "source": [
        "OMP_NUM_THREADS=2 ./omp_parallel_for_thread_num 10"
      ],
      "execution_count": null,
      "outputs": []
    },
    {
      "cell_type": "markdown",
      "metadata": {
        "kernel": "SoS",
        "nbgrader": {
          "grade": false,
          "grade_id": "c-041",
          "locked": true,
          "schema_version": 3,
          "solution": false,
          "task": false
        }
      },
      "source": [
        "* 何度も書き換えてコンパイルするのが面倒になったら`schedule(runtime)` を使って, `OMP_SCHEDULE`をコマンドラインで指定するのが吉"
      ]
    },
    {
      "cell_type": "code",
      "metadata": {
        "kernel": "Bash",
        "nbgrader": {
          "grade": false,
          "grade_id": "c-042",
          "locked": false,
          "schema_version": 3,
          "solution": false,
          "task": false
        }
      },
      "source": [
        "OMP_NUM_THREADS=2 OMP_SCHEDULE=static ./omp_parallel_for_thread_num 10"
      ],
      "execution_count": null,
      "outputs": []
    },
    {
      "cell_type": "markdown",
      "metadata": {
        "kernel": "SoS",
        "nbgrader": {
          "grade": false,
          "grade_id": "c-043",
          "locked": true,
          "schema_version": 3,
          "solution": false,
          "task": false
        }
      },
      "source": [
        "\n",
        "# 9. 台数効果の目撃",
        "\n",
        "* $T$個のスレッドを用いても速度が$T$倍(近く)にならないことはしばしば\n",
        "* そもそも$T > $コア数のときは複数のスレッドが同じコア上で動くことになり, コア数以降の向上は望めない(上のプログラムのようにスレッドがわざと(usleepで)休眠していたり, ファイルのIOなどで長時間止まっている場合は別)\n",
        "* OpenMPをそのような設定で使うことはあまりない\n",
        "* $T \\leq $コア数であっても, 速度が$T$倍 (実行時間が$1/T$倍) とは程遠くなる理由がいくつも有る\n",
        "  1. 1つのスレッドによって実行される処理が小さすぎる場合 ($T$個スレッドが実行を開始して, 全員が終了するのを待つ, というオーバーヘッドが目立つ)\n",
        "  1. OSが速やかに$T$個のスレッドを別々のコアに割り当ててくれないことがある\n",
        "  1. スレッド間でデータを共有している場合にデータアクセスのコストが1スレッドの場合に比べて大きくなる(詳細は計算機の仕組みに関わるのでここでは深入りしない)\n",
        "* 3番目の問題はアルゴリズムの本質に関わる現象で容易に除去できない場合が多いが,\n",
        "  * 1についてはそういうものだと思っておく(あまり短すぎる処理を複数コアで性能向上はできない. あまりそうする意味もないのでやる必要もない)\n",
        "  * 2については, 実行時に`OMP_PROC_BIND=true` と環境変数を設定することで改善することがある. これは各スレッドを特定のコアでしか実行しないようにOSに指示するという効果があるため, 2の問題を緩和できる\n",
        "\n",
        "* 以下では, 計算自身にあまり意味はないが簡単な例題で性能向上を目撃してみる\n",
        "* なお `#pragma omp parallel for` は `#pragma omp parallel` の直後に `#pragma omp for` を書いたのと同じ効果を持つ"
      ]
    },
    {
      "cell_type": "code",
      "metadata": {
        "kernel": "Python 3 (ipykernel)",
        "nbgrader": {
          "grade": false,
          "grade_id": "c-044",
          "locked": false,
          "schema_version": 3,
          "solution": false,
          "task": false
        }
      },
      "source": [
        "%%writefile omp_speedup.c\n",
        "#include <assert.h>\n",
        "#include <stdio.h>\n",
        "#include <stdlib.h>\n",
        "#include <omp.h>\n",
        "#include <time.h>\n",
        "#include <unistd.h>\n",
        "\n",
        "/* x = ax + b をひたすら n 回繰り返す.\n",
        "   (|a| < 1.0 なら c によらず, x = b / (1 - a) に収束).\n",
        "   n 回 mul + add を行う (-> 2 n flops) */\n",
        "double lin_rec(double a, double b, double c, long n) {\n",
        "  double x = c;\n",
        "  for (long j = 0; j < n; j++) {\n",
        "    x = a * x + b;\n",
        "  }\n",
        "  return x;\n",
        "}\n",
        "\n",
        "int main(int argc, char ** argv) {\n",
        "  long m = (1 < argc ? atoi(argv[1]) : 10);\n",
        "  long n = (2 < argc ? atoi(argv[2]) : 1000 * 1000);\n",
        "  double * x = (double *)calloc(sizeof(double), m);\n",
        "  assert(x);\n",
        "  printf(\"m = %ld, n = %ld\\n\", m, n);\n",
        "  /* 計測開始 */\n",
        "  double t0 = omp_get_wtime();\n",
        "#pragma omp parallel for\n",
        "  for (long i = 0; i < m; i++) {\n",
        "    x[i] = lin_rec(0.99, i + 1, 1.0, n);\n",
        "  }\n",
        "  /* 計測終了 */\n",
        "  double t1 = omp_get_wtime();\n",
        "  double dt = t1 - t0;          /* sec */\n",
        "  /* 答え表示 (x[i] = 100 * (i + 1) くらいのはず) */\n",
        "  for (long i = 0; i < m; i++) {\n",
        "    printf(\"x[%3ld] = %9.3f\\n\", i, x[i]);\n",
        "  }\n",
        "  double flops = 2. * (double)m * (double)n;\n",
        "  printf(\"elapsed    : %7.3f  sec\\n\", dt);\n",
        "  printf(\"elapsed/m  : %7.3f msec\\n\", dt / m * 1e3);\n",
        "  printf(\"elapsed/n  : %7.3f nsec\\n\", dt / n * 1e9);\n",
        "  printf(\"elapsed/mn : %7.3f nsec\\n\", dt / (m * n) * 1e9);\n",
        "  printf(\"flops      : %.2e\\n\", flops);\n",
        "  printf(\"%.3f GFLOPS\\n\", flops / dt * 1e-9);\n",
        "  return 0;\n",
        "}\n",
        ""
      ],
      "execution_count": null,
      "outputs": []
    },
    {
      "cell_type": "code",
      "metadata": {
        "kernel": "Bash",
        "nbgrader": {
          "grade": false,
          "grade_id": "c-045",
          "locked": false,
          "schema_version": 3,
          "solution": false,
          "task": false
        }
      },
      "source": [
        "nvc -fast -mp=multicore omp_speedup.c -o omp_speedup_mp.exe"
      ],
      "execution_count": null,
      "outputs": []
    },
    {
      "cell_type": "markdown",
      "metadata": {
        "kernel": "SoS",
        "nbgrader": {
          "grade": false,
          "grade_id": "c-046",
          "locked": true,
          "schema_version": 3,
          "solution": false,
          "task": false
        }
      },
      "source": [
        "* 以下は, $m = 72$, $n = 100 \\times 1000 \\times 1000$として実行する\n",
        "* スレッド数を変えて, 仮想コア数付近までの性能向上 (GFLOPS値の向上), それ以降の頭打ちを確認せよ"
      ]
    },
    {
      "cell_type": "code",
      "metadata": {
        "kernel": "Bash",
        "nbgrader": {
          "grade": false,
          "grade_id": "c-047",
          "locked": false,
          "schema_version": 3,
          "solution": false,
          "task": false
        }
      },
      "source": [
        "OMP_NUM_THREADS=1 ./omp_speedup_mp.exe 72 $((100 * 1000 * 1000))"
      ],
      "execution_count": null,
      "outputs": []
    },
    {
      "cell_type": "markdown",
      "metadata": {
        "kernel": "SoS",
        "nbgrader": {
          "grade": false,
          "grade_id": "c-048",
          "locked": true,
          "schema_version": 3,
          "solution": false,
          "task": false
        }
      },
      "source": [
        "* 手動でやるのが嫌になったら以下で一撃で実行"
      ]
    },
    {
      "cell_type": "code",
      "metadata": {
        "kernel": "Bash",
        "nbgrader": {
          "grade": false,
          "grade_id": "c-049",
          "locked": false,
          "schema_version": 3,
          "solution": false,
          "task": false
        }
      },
      "source": [
        "for x in 1 2 3 4 6 8 12 16 20 24 28 32; do\n",
        "    echo -n \"$x \"\n",
        "    OMP_NUM_THREADS=${x} OMP_PROC_BIND=true ./omp_speedup_mp.exe 72 $((100 * 1000 * 1000)) | grep GFLOPS\n",
        "done"
      ],
      "execution_count": null,
      "outputs": []
    },
    {
      "cell_type": "markdown",
      "metadata": {
        "kernel": "SoS",
        "nbgrader": {
          "grade": false,
          "grade_id": "c-050",
          "locked": true,
          "schema_version": 3,
          "solution": false,
          "task": false
        }
      },
      "source": [
        "* 結果を以下で可視化 (上の結果をコピペせよ)"
      ]
    },
    {
      "cell_type": "code",
      "metadata": {
        "kernel": "Python 3 (ipykernel)",
        "nbgrader": {
          "grade": false,
          "grade_id": "c-051",
          "locked": false,
          "schema_version": 3,
          "solution": false,
          "task": false
        }
      },
      "source": [
        "import matplotlib.pyplot as plt\n",
        "\n",
        "DATA = r\"\"\"\n",
        "1 xxxx GFLOPS\n",
        "2 xxxx GFLOPS\n",
        "3 xxxx GFLOPS\n",
        "4 xxxx GFLOPS\n",
        "6 xxxx GFLOPS\n",
        "8 xxxx GFLOPS\n",
        "12 xxxx GFLOPS\n",
        "16 xxxx GFLOPS\n",
        "20 xxxx GFLOPS\n",
        "24 xxxx GFLOPS\n",
        "28 xxxx GFLOPS\n",
        "32 xxxx GFLOPS\n",
        "\"\"\"\n",
        "\n",
        "def main():\n",
        "    data = DATA.strip().split(\"\\n\")\n",
        "    X = []\n",
        "    Y = []\n",
        "    for line in data:\n",
        "        fields = line.strip().split()\n",
        "        if len(fields) != 3:\n",
        "            continue\n",
        "        x, y = fields[:2]\n",
        "        X.append(float(x))\n",
        "        Y.append(3.0)\n",
        "    plt.ylabel(\"GFLOPS\")\n",
        "    plt.xlabel(\"num_threads\")\n",
        "    plt.plot(X, Y)\n",
        "    plt.show()\n",
        "\n",
        "main()"
      ],
      "execution_count": null,
      "outputs": []
    },
    {
      "cell_type": "markdown",
      "metadata": {
        "kernel": "SoS",
        "nbgrader": {
          "grade": false,
          "grade_id": "c-052",
          "locked": true,
          "schema_version": 3,
          "solution": false,
          "task": false
        }
      },
      "source": [
        "\n",
        "# 10. OpenMPにおけるデータの共有",
        "\n",
        "* OpenMPのスレッドは基本的に全てのデータ(変数や配列)を<font color=\"blue\">「共有」</font>している\n",
        "* 「共有」しているとは, 大雑把にいえば, どのスレッドが変数に書き込んだ値も, 他のスレッドに見えるということである\n",
        "* そのことはこれまでの例題プログラムでも暗黙的に前提としていたことで, 例えば以下で, \n",
        "```\n",
        "#pragma omp parallel for\n",
        "  for (long i = 0; i < m; i++) {\n",
        "    x[i] = lin_rec(0.99, i + 1, 1.0, n);\n",
        "  }\n",
        "  /* 計測終了 */\n",
        "  double t1 = omp_get_wtime();\n",
        "  double dt = t1 - t0;          /* sec */\n",
        "  /* 答え表示 (x[i] = 100 * (i + 1) くらいのはず) */\n",
        "  for (long i = 0; i < m; i++) {\n",
        "    printf(\"x[%3ld] = %9.3f\\n\", i, x[i]);\n",
        "  }\n",
        "```\n",
        "各スレッドが`x[i]`に書き込んだ値が「答え表示」で表示できるのも, スレッドがデータを共有しているからである\n",
        "\n",
        "* データが共有されているということは便利でもある一方で実は気をつけなくてはいけないことがある\n",
        "* 以下では, データが共有されていることで生ずる問題<font color=\"red\">競合状態</font>とその解消法について説明する\n",
        ""
      ]
    },
    {
      "cell_type": "markdown",
      "metadata": {
        "kernel": "SoS",
        "nbgrader": {
          "grade": false,
          "grade_id": "c-053",
          "locked": true,
          "schema_version": 3,
          "solution": false,
          "task": false
        }
      },
      "source": [
        "\n",
        "# 11. 競合状態",
        "\n",
        "* 以下のコードをOpenMPで並列化することを考える\n",
        ""
      ]
    },
    {
      "cell_type": "code",
      "metadata": {
        "kernel": "Python 3 (ipykernel)",
        "nbgrader": {
          "grade": false,
          "grade_id": "c-054",
          "locked": false,
          "schema_version": 3,
          "solution": false,
          "task": false
        }
      },
      "source": [
        "%%writefile integral.c\n",
        "#include <stdio.h>\n",
        "#include <stdlib.h>\n",
        "\n",
        "double int_inv_1_x2(double a, double b, long n) {\n",
        "  double s = 0.0;\n",
        "  double dx = (b - a) / (double)n;\n",
        "  for (long i = 0; i < n; i++) {\n",
        "    double x = a + i * dx;\n",
        "    s += 1 / (1 + x * x);\n",
        "  }\n",
        "  return s * dx;\n",
        "}\n",
        "\n",
        "int main(int argc, char ** argv) {\n",
        "  double a = (argc > 1 ? atof(argv[1]) : 0.0);\n",
        "  double b = (argc > 2 ? atof(argv[2]) : 1.0);\n",
        "  long n   = (argc > 3 ? atof(argv[3]) : 1000L * 1000L * 1000L);\n",
        "  double s = int_inv_1_x2(a, b, n);\n",
        "  printf(\"s = %f\\n\", s);\n",
        "  return 0;\n",
        "}"
      ],
      "execution_count": null,
      "outputs": []
    },
    {
      "cell_type": "code",
      "metadata": {
        "kernel": "Bash",
        "nbgrader": {
          "grade": false,
          "grade_id": "c-055",
          "locked": false,
          "schema_version": 3,
          "solution": false,
          "task": false
        }
      },
      "source": [
        "nvc -fast -mp=multicore integral.c -o integral_mp.exe"
      ],
      "execution_count": null,
      "outputs": []
    },
    {
      "cell_type": "markdown",
      "metadata": {
        "kernel": "SoS",
        "nbgrader": {
          "grade": false,
          "grade_id": "c-056",
          "locked": true,
          "schema_version": 3,
          "solution": false,
          "task": false
        }
      },
      "source": [
        "\n",
        "* ここにそのまま pragma parallel, pragma for を当てはめると以下のようになる\n",
        ""
      ]
    },
    {
      "cell_type": "code",
      "metadata": {
        "kernel": "Python 3 (ipykernel)",
        "nbgrader": {
          "grade": false,
          "grade_id": "c-057",
          "locked": false,
          "schema_version": 3,
          "solution": false,
          "task": false
        }
      },
      "source": [
        "%%writefile omp_integral_racy.c\n",
        "#include <stdio.h>\n",
        "#include <stdlib.h>\n",
        "\n",
        "double int_inv_1_x2(double a, double b, long n) {\n",
        "  double s = 0.0;\n",
        "  double dx = (b - a) / (double)n;\n",
        "#pragma omp parallel for\n",
        "  for (long i = 0; i < n; i++) {\n",
        "    double x = a + i * dx;\n",
        "    s += 1 / (1 + x * x);\n",
        "  }\n",
        "  return s * dx;\n",
        "}\n",
        "\n",
        "int main(int argc, char ** argv) {\n",
        "  double a = (argc > 1 ? atof(argv[1]) : 0.0);\n",
        "  double b = (argc > 2 ? atof(argv[2]) : 1.0);\n",
        "  long n   = (argc > 3 ? atof(argv[3]) : 1000L * 1000L * 1000L);\n",
        "  double s = int_inv_1_x2(a, b, n);\n",
        "  printf(\"s = %f\\n\", s);\n",
        "  return 0;\n",
        "}"
      ],
      "execution_count": null,
      "outputs": []
    },
    {
      "cell_type": "code",
      "metadata": {
        "kernel": "Bash",
        "nbgrader": {
          "grade": false,
          "grade_id": "c-058",
          "locked": false,
          "schema_version": 3,
          "solution": false,
          "task": false
        }
      },
      "source": [
        "nvc -fast -mp=multicore omp_integral_racy.c -o omp_integral_racy_mp.exe"
      ],
      "execution_count": null,
      "outputs": []
    },
    {
      "cell_type": "markdown",
      "metadata": {
        "kernel": "SoS",
        "nbgrader": {
          "grade": false,
          "grade_id": "c-059",
          "locked": true,
          "schema_version": 3,
          "solution": false,
          "task": false
        }
      },
      "source": [
        "\n",
        "* 正解は $\\pi/4$で 1スレッドで実行すれば問題なく正解が出る\n",
        ""
      ]
    },
    {
      "cell_type": "code",
      "metadata": {
        "kernel": "Bash",
        "nbgrader": {
          "grade": false,
          "grade_id": "c-060",
          "locked": false,
          "schema_version": 3,
          "solution": false,
          "task": false
        }
      },
      "source": [
        "OMP_NUM_THREADS=1 time ./omp_integral_racy_mp.exe"
      ],
      "execution_count": null,
      "outputs": []
    },
    {
      "cell_type": "markdown",
      "metadata": {
        "kernel": "SoS",
        "nbgrader": {
          "grade": false,
          "grade_id": "c-061",
          "locked": true,
          "schema_version": 3,
          "solution": false,
          "task": false
        }
      },
      "source": [
        "\n",
        "* 2スレッド以上だと正解は出ない上, 毎回答えも違う(非決定的な挙動)\n",
        ""
      ]
    },
    {
      "cell_type": "code",
      "metadata": {
        "kernel": "Bash",
        "nbgrader": {
          "grade": false,
          "grade_id": "c-062",
          "locked": false,
          "schema_version": 3,
          "solution": false,
          "task": false
        }
      },
      "source": [
        "OMP_NUM_THREADS=4 time ./omp_integral_racy_mp.exe"
      ],
      "execution_count": null,
      "outputs": []
    },
    {
      "cell_type": "markdown",
      "metadata": {
        "kernel": "SoS",
        "nbgrader": {
          "grade": false,
          "grade_id": "c-063",
          "locked": true,
          "schema_version": 3,
          "solution": false,
          "task": false
        }
      },
      "source": [
        "\n",
        "* その理由を考察する(講義スライド pXX 〜に答えがある)\n",
        "\n",
        "<pre>\n",
        "#pragma omp parallel for\n",
        "  for (long i = 0; i < n; i++) {\n",
        "    double x = a + i * dx;\n",
        "    s += 1 / (1 + x * x);\n",
        "  }\n",
        "</pre>\n",
        "\n",
        "において, 変数 sは全部のスレッドで共有されている(注: `x` は `#pragma omp parallel` で実行される文の内部で定義されており, そのような変数はスレッドごとに別の変数になる. つまり共有されない)\n",
        "* 複数のスレッドが同じ変数`s`を更新することになる\n",
        "* よくないことが起きる具体的なシナリオはスライドpXX を参照. `s += ...` は実際には, `s` を読み出し, `...` を足して, それをまた`s`に書き戻す. 読み出しから書き戻しまでの間に別のスレッドが `s` を更新するとおかしなことになる\n",
        ""
      ]
    },
    {
      "cell_type": "markdown",
      "metadata": {
        "kernel": "SoS",
        "nbgrader": {
          "grade": false,
          "grade_id": "c-064",
          "locked": true,
          "schema_version": 3,
          "solution": false,
          "task": false
        }
      },
      "source": [
        "\n",
        "* このように, 複数のスレッドが同じ変数を使っていて, 少なくとも一人は更新している状況を<font color=\"red\">「競合状態」</font>と呼び, 大概のプログラムは意図した動作をしない\n",
        "* 競合状態があったら必ず何か手を打たないといけないと思っておくべき\n",
        ""
      ]
    },
    {
      "cell_type": "markdown",
      "metadata": {
        "kernel": "SoS",
        "nbgrader": {
          "grade": false,
          "grade_id": "c-065",
          "locked": true,
          "schema_version": 3,
          "solution": false,
          "task": false
        }
      },
      "source": [
        "\n",
        "## 11-1. reduction 節を用いた解決法",
        "\n",
        "* 今回の変数 `s` に対する足し込みのような演算(もう少し一般的な話は後で述べる)に対してはとりわけ簡単な解決法\n",
        "* `#omp pragma parallel` もしくは `#omp pragma for` の中に `reduction(演算:変数)` という節を付け加えれば良い\n",
        ""
      ]
    },
    {
      "cell_type": "code",
      "metadata": {
        "kernel": "Python 3 (ipykernel)",
        "nbgrader": {
          "grade": false,
          "grade_id": "c-066",
          "locked": false,
          "schema_version": 3,
          "solution": false,
          "task": false
        }
      },
      "source": [
        "%%writefile omp_integral_reduction.c\n",
        "#include <stdio.h>\n",
        "#include <stdlib.h>\n",
        "\n",
        "double int_inv_1_x2(double a, double b, long n) {\n",
        "  double s = 0.0;\n",
        "  double dx = (b - a) / (double)n;\n",
        "#pragma omp parallel for reduction(+:s)\n",
        "  for (long i = 0; i < n; i++) {\n",
        "    double x = a + i * dx;\n",
        "    s += 1 / (1 + x * x);\n",
        "  }\n",
        "  return s * dx;\n",
        "}\n",
        "\n",
        "int main(int argc, char ** argv) {\n",
        "  double a = (argc > 1 ? atof(argv[1]) : 0.0);\n",
        "  double b = (argc > 2 ? atof(argv[2]) : 1.0);\n",
        "  long n   = (argc > 3 ? atof(argv[3]) : 1000L * 1000L * 1000L);\n",
        "  double s = int_inv_1_x2(a, b, n);\n",
        "  printf(\"s = %f\\n\", s);\n",
        "  return 0;\n",
        "}"
      ],
      "execution_count": null,
      "outputs": []
    },
    {
      "cell_type": "code",
      "metadata": {
        "kernel": "Bash",
        "nbgrader": {
          "grade": false,
          "grade_id": "c-067",
          "locked": false,
          "schema_version": 3,
          "solution": false,
          "task": false
        }
      },
      "source": [
        "nvc -fast -mp=multicore omp_integral_reduction.c -o omp_integral_reduction_mp.exe"
      ],
      "execution_count": null,
      "outputs": []
    },
    {
      "cell_type": "code",
      "metadata": {
        "kernel": "Bash",
        "nbgrader": {
          "grade": false,
          "grade_id": "c-068",
          "locked": false,
          "schema_version": 3,
          "solution": false,
          "task": false
        }
      },
      "source": [
        "time ./omp_integral_reduction_mp.exe"
      ],
      "execution_count": null,
      "outputs": []
    },
    {
      "cell_type": "markdown",
      "metadata": {
        "kernel": "SoS",
        "nbgrader": {
          "grade": false,
          "grade_id": "c-069",
          "locked": true,
          "schema_version": 3,
          "solution": false,
          "task": false
        }
      },
      "source": [
        "\n",
        "* reductionは一般に多数の値を縮約する演算 o ($s = s_0 {\\rm o} s_1 {\\rm o}  ... {\\rm o} s_{n-1}$)であって, 適用する順番を変えても同じ答えが出る場合に使われる\n",
        "* つまり足し算(+)であれば $s_0 + s_1 + s_2 + s_3$を, \n",
        "$$(((s_0 + s_1) + s_2) + s_3)$$\n",
        "と計算しても良いし \n",
        "$$(s_0 + s_1) + (s_2 + s_3)$$\n",
        "と計算しても良い. \n",
        "* 見ての通り後者のように計算すれば $(s_0 + s_1)$ と $(s_2 + s_3)$ を並行に計算できることになる\n",
        "* したがって reduction は, 結合則と交換則が成り立つような演算を多数の要素に施す場合に使え, 代表例としては, +, *, max, min, などがある\n",
        "\n",
        "* ただし実は, 浮動小数点数(`double`, `float`など)の足し算には丸め誤差が生ずる\n",
        "* そのため浮動小数点数を多数足し合わせる場合, その順番により結果が変わりうる\n",
        "* `reduction`を使った場合, 1スレッドの実行と答えがずれる, スレッド数によって答えが少し変わるということは普通に生ずる\n",
        ""
      ]
    },
    {
      "cell_type": "markdown",
      "metadata": {
        "kernel": "SoS",
        "nbgrader": {
          "grade": false,
          "grade_id": "c-070",
          "locked": true,
          "schema_version": 3,
          "solution": false,
          "task": false
        }
      },
      "source": [
        "\n",
        "# 12. 終わりに一言",
        "\n",
        "* これでOpenMPを用いて, マルチコア(複数のコアを使った)並列処理ができるようになった\n",
        "* ただしこれだけでCPUの性能をどのくらい引き出せるかと言うと, 本来性能には程遠い\n",
        "* その理由は主にSIMD命令を用いていないこと, 命令間の依存関係によって, 命令レベル並列を引き出せていないこと, である\n",
        ""
      ]
    }
  ],
  "metadata": {
    "celltoolbar": "Create Assignment",
    "kernelspec": {
      "display_name": "SoS",
      "language": "sos",
      "name": "sos"
    },
    "language_info": {
      "codemirror_mode": "sos",
      "file_extension": ".sos",
      "mimetype": "text/x-sos",
      "name": "sos",
      "nbconvert_exporter": "sos_notebook.converter.SoS_Exporter",
      "pygments_lexer": "sos"
    },
    "sos": {
      "kernels": [
        [
          "Bash",
          "bash",
          "bash",
          "",
          "shell"
        ],
        [
          "C",
          "c_kernel",
          "c",
          "",
          ""
        ],
        [
          "Go",
          "gophernotes",
          "go",
          "",
          ""
        ],
        [
          "Julia 1.10.2",
          "julia-1.10",
          "julia",
          "",
          ""
        ],
        [
          "OCaml default",
          "ocaml-jupyter",
          "OCaml",
          "",
          "text/x-ocaml"
        ],
        [
          "Python 3 (ipykernel)",
          "python3",
          "python3",
          "",
          {
            "name": "ipython",
            "version": 3
          }
        ],
        [
          "Rust",
          "rust",
          "rust",
          "",
          ""
        ]
      ],
      "panel": {
        "displayed": true,
        "height": 0
      },
      "version": "0.23.3"
    }
  },
  "nbformat": 4,
  "nbformat_minor": 4
}