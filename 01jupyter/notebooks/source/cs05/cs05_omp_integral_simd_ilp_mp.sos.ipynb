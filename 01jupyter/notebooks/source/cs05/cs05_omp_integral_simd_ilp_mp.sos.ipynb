{
  "cells": [
    {
      "cell_type": "markdown",
      "metadata": {
        "kernel": "SoS",
        "nbgrader": {
          "grade": false,
          "grade_id": "c-001",
          "locked": true,
          "schema_version": 3,
          "solution": false,
          "task": false
        }
      },
      "source": [
        "\n",
        "#  高性能プログラミングと性能測定(5) --- 練習問題 (SIMD + ILP + マルチコア)",
        ""
      ]
    },
    {
      "cell_type": "markdown",
      "metadata": {
        "kernel": "SoS",
        "nbgrader": {
          "grade": false,
          "grade_id": "c-002",
          "locked": true,
          "schema_version": 3,
          "solution": false,
          "task": false
        }
      },
      "source": [
        "\n",
        "# 1. 1/8球の体積 を求めるプログラム (SIMD + ILP + マルチコア)",
        ""
      ]
    },
    {
      "cell_type": "markdown",
      "metadata": {
        "kernel": "SoS",
        "nbgrader": {
          "grade": false,
          "grade_id": "c-003",
          "locked": true,
          "schema_version": 3,
          "solution": false,
          "task": false
        }
      },
      "source": [
        "\n",
        "# <font color=\"green\"> Problem 1 :  SIMD, ILP, マルチコア並列化</font>",
        "\n",
        "* cs03で行った1/8球の体積を求めるプログラムを, SIMD, ILP, マルチコアすべてを利用して高速化せよ\n",
        ""
      ]
    },
    {
      "cell_type": "code",
      "metadata": {
        "kernel": "Python 3 (ipykernel)",
        "nbgrader": {
          "grade": true,
          "grade_id": "p-001",
          "locked": false,
          "schema_version": 3,
          "solution": true,
          "task": false,
          "points": 1
        }
      },
      "source": [
        "BEGIN SOLUTION\n",
        "END SOLUTION\n",
        "%%writefile omp_ball_simd_ilp_mp.c\n",
        "#include <assert.h>\n",
        "#include <stdio.h>\n",
        "#include <stdlib.h>\n",
        "#include <math.h>\n",
        "#include <omp.h>\n",
        "#include <unistd.h>\n",
        "\n",
        "double volume_of_ball(long n, int nteams, int nthreads) {\n",
        "  double h = 1.0 / (double)n;\n",
        "  long s = 0;\n",
        "  for (long i = 0; i < n; i++) {\n",
        "    for (long j = 0; j < n; j++) {\n",
        "      for (long k = 0; k < n; k++) {\n",
        "        double x = (i + 0.5) * h;\n",
        "        double y = (j + 0.5) * h;\n",
        "        double z = (k + 0.5) * h;\n",
        "        s += (x * x + y * y + z * z < 1.0);\n",
        "      }\n",
        "    }\n",
        "  }\n",
        "  return s * h * h * h;\n",
        "}\n",
        "\n",
        "int main(int argc, char ** argv) {\n",
        "  long n           = (1 < argc ? atol(argv[1]) : 100);\n",
        "  char * nteams_   = getenv(\"OMP_NUM_TEAMS\");\n",
        "  int    nteams    = (nteams_   ? atoi(nteams_) : 1);\n",
        "  char * nthreads_ = getenv(\"OMP_NUM_THREADS\");\n",
        "  int    nthreads  = (nthreads_ ? atoi(nthreads_) : 1);\n",
        "\n",
        "  printf(\"n             : %ld\\n\", n);\n",
        "  printf(\"nteams        : %d\\n\", nteams);\n",
        "  printf(\"nthreads      : %d\\n\", nthreads);\n",
        "  /* 計測開始 */\n",
        "  double t0 = omp_get_wtime();\n",
        "  /* 計算本体 */\n",
        "  double v = volume_of_ball(n, nteams, nthreads);\n",
        "  /* 計測終了 */\n",
        "  double t1 = omp_get_wtime();\n",
        "  double dt = t1 - t0;          /* sec */\n",
        "  double error = fabs(v - M_PI/6.0);\n",
        "  if (error > 1.0e-2) {\n",
        "    fprintf(stderr, \"WARNING: error (%f) > 0.01\\n\", error);\n",
        "    fprintf(stderr, \"check your program\\n\");\n",
        "  }\n",
        "  printf(\"volume        : %.9f\\n\", v);\n",
        "  printf(\"error         : %e\\n\", error);\n",
        "  printf(\"elapsed       : %7.3f\\n\", dt);\n",
        "  printf(\"n^3 / nsec    : %7.3f\\n\",\n",
        "         (double)n * (double)n * (double)n / dt * 1.0e-9);\n",
        "  return 0;\n",
        "}"
      ],
      "execution_count": null,
      "outputs": []
    },
    {
      "cell_type": "markdown",
      "metadata": {
        "kernel": "SoS",
        "nbgrader": {
          "grade": false,
          "grade_id": "c-004",
          "locked": true,
          "schema_version": 3,
          "solution": false,
          "task": false
        }
      },
      "source": [
        "\n",
        "* ヒント\n",
        "  * このプログラムのベクトル化で一つ厄介なのは, `x * x + y * y + z * z < 1.0` の部分\n",
        "  * `A < B` は, 満たされていれば1, なければ0という式\n",
        "  * ここで`A, B` がベクトル型だったら `A < B` が 「`A[i] < B[i]`を満たす要素の数」だったりしたら話が早いのだがそうは問屋がおろさず, そもそもそのような演算子 (ベクトル型同士の大小比較) というものが許されていない\n",
        "  * したがって, `count_lt(double A, double B)` とでも名付けて, 上記の値を返す関数を自分で作る必要がある"
      ]
    },
    {
      "cell_type": "code",
      "metadata": {
        "kernel": "Bash",
        "nbgrader": {
          "grade": false,
          "grade_id": "c-005",
          "locked": false,
          "schema_version": 3,
          "solution": false,
          "task": false
        }
      },
      "source": [
        "nvc -fast -mp=multicore omp_ball_simd_ilp_mp.c -o omp_ball_simd_ilp_mp.exe"
      ],
      "execution_count": null,
      "outputs": []
    },
    {
      "cell_type": "markdown",
      "metadata": {
        "kernel": "SoS",
        "nbgrader": {
          "grade": false,
          "grade_id": "c-006",
          "locked": true,
          "schema_version": 3,
          "solution": false,
          "task": false
        }
      },
      "source": [
        "* 以下の`OMP_NUM_THREADS=1` を色々変えて実行してみよ\n",
        "* なお,\n",
        "  * https://tauleg.zapto.org:8000/ には18の(仮想)コア\n",
        "  * https://taulec.zapto.org:8000/ には152の(仮想)コア\n",
        "があるので, できれば後者で, 多数のスレッド数でやってみよ  "
      ]
    },
    {
      "cell_type": "code",
      "metadata": {
        "kernel": "Bash",
        "nbgrader": {
          "grade": false,
          "grade_id": "c-007",
          "locked": false,
          "schema_version": 3,
          "solution": false,
          "task": false
        }
      },
      "source": [
        "OMP_NUM_THREADS=1 ./omp_ball_mp.exe 512"
      ],
      "execution_count": null,
      "outputs": []
    },
    {
      "cell_type": "markdown",
      "metadata": {
        "kernel": "SoS",
        "nbgrader": {
          "grade": false,
          "grade_id": "c-008",
          "locked": true,
          "schema_version": 3,
          "solution": false,
          "task": false
        }
      },
      "source": [
        "* 以下を適切に修正して様々なスレッド数で実行し, "
      ]
    },
    {
      "cell_type": "code",
      "metadata": {
        "kernel": "Bash",
        "nbgrader": {
          "grade": true,
          "grade_id": "p-002",
          "locked": false,
          "schema_version": 3,
          "solution": true,
          "task": false,
          "points": 1
        }
      },
      "source": [
        "BEGIN SOLUTION\n",
        "END SOLUTION\n",
        "for th in 1 2 適切にスレッド数を並べよ ; do\n",
        "  echo \"=====\"\n",
        "  OMP_PROC_BIND=true OMP_NUM_THREADS=${th} ./omp_ball_mp.exe 512\n",
        "done"
      ],
      "execution_count": null,
      "outputs": []
    },
    {
      "cell_type": "markdown",
      "metadata": {
        "kernel": "SoS",
        "nbgrader": {
          "grade": false,
          "grade_id": "c-009",
          "locked": true,
          "schema_version": 3,
          "solution": false,
          "task": false
        }
      },
      "source": [
        "* 結果を以下にコピペして性能向上を可視化せよ(性能向上がすぐに頭打ちになるようであれば, $n$の値を調節せよ)\n",
        "* GPUでの結果と比較せよ"
      ]
    },
    {
      "cell_type": "code",
      "metadata": {
        "kernel": "Python 3 (ipykernel)",
        "nbgrader": {
          "grade": false,
          "grade_id": "c-010",
          "locked": false,
          "schema_version": 3,
          "solution": false,
          "task": false
        }
      },
      "source": [
        "import re\n",
        "import matplotlib.pyplot as plt\n",
        "\n",
        "DATA = r\"\"\"\n",
        "=====\n",
        "n             : 512\n",
        "nteams        : 1\n",
        "nthreads      : 1\n",
        "volume        : 0.523606822\n",
        "error         : 8.046296e-06\n",
        "elapsed       :   0.047\n",
        "n^3 / nsec    :   2.885\n",
        "=====\n",
        "n             : 512\n",
        "nteams        : 1\n",
        "nthreads      : 2\n",
        "volume        : 0.523606822\n",
        "error         : 8.046296e-06\n",
        "elapsed       :   0.047\n",
        "n^3 / nsec    :   2.876\n",
        "=====\n",
        "n             : 512\n",
        "nteams        : 1\n",
        "nthreads      : 4\n",
        "volume        : 0.523606822\n",
        "error         : 8.046296e-06\n",
        "elapsed       :   0.047\n",
        "n^3 / nsec    :   2.882\n",
        "=====\n",
        "n             : 512\n",
        "nteams        : 1\n",
        "nthreads      : 6\n",
        "volume        : 0.523606822\n",
        "error         : 8.046296e-06\n",
        "elapsed       :   0.047\n",
        "n^3 / nsec    :   2.871\n",
        "=====\n",
        "n             : 512\n",
        "nteams        : 1\n",
        "nthreads      : 8\n",
        "volume        : 0.523606822\n",
        "error         : 8.046296e-06\n",
        "elapsed       :   0.047\n",
        "n^3 / nsec    :   2.882\n",
        "=====\n",
        "n             : 512\n",
        "nteams        : 1\n",
        "nthreads      : 9\n",
        "volume        : 0.523606822\n",
        "error         : 8.046296e-06\n",
        "elapsed       :   0.047\n",
        "n^3 / nsec    :   2.877\n",
        "=====\n",
        "n             : 512\n",
        "nteams        : 1\n",
        "nthreads      : 12\n",
        "volume        : 0.523606822\n",
        "error         : 8.046296e-06\n",
        "elapsed       :   0.047\n",
        "n^3 / nsec    :   2.883\n",
        "=====\n",
        "n             : 512\n",
        "nteams        : 1\n",
        "nthreads      : 18\n",
        "volume        : 0.523606822\n",
        "error         : 8.046296e-06\n",
        "elapsed       :   0.046\n",
        "n^3 / nsec    :   2.888\n",
        "\"\"\"\n",
        "\n",
        "def put_rec(R, D):\n",
        "    num_teams = int(D[\"nteams\"])\n",
        "    num_threads = int(D[\"nthreads\"])\n",
        "    perf = float(D[\"n^3 / nsec\"])\n",
        "    R.append((num_teams * num_threads, perf))\n",
        "\n",
        "def speedup(data):\n",
        "    data = data.strip().split(\"\\n\")\n",
        "    R = []                      # (nteams * nthreads, n^3/nsec)\n",
        "    D = None\n",
        "    pat = re.compile(r\"(?P<k>[^:]+?) *: +(?P<v>\\d+(\\.\\d+)?)\")\n",
        "    for line in data:\n",
        "        if line.strip() == \"=====\":\n",
        "            if D is not None:\n",
        "                put_rec(R, D)\n",
        "            D = {}\n",
        "        else:\n",
        "            m = pat.match(line)\n",
        "            key = m.group(\"k\")\n",
        "            val = m.group(\"v\")\n",
        "            D[key] = val\n",
        "    if D is not None:\n",
        "        put_rec(R, D)\n",
        "    plt.ylabel(\"n^3/nsec\")\n",
        "    plt.xlabel(\"num_teams * num_threads\")\n",
        "    R.sort()\n",
        "    X = [x    for x, perf in R]\n",
        "    Y = [perf for x, perf in R]\n",
        "    L = [Y[0]/X[0] * x for x in X]\n",
        "    plt.plot(X, Y)\n",
        "    plt.plot(X, L)\n",
        "    plt.show()\n",
        "\n",
        "speedup(DATA)"
      ],
      "execution_count": null,
      "outputs": []
    }
  ],
  "metadata": {
    "celltoolbar": "Create Assignment",
    "kernelspec": {
      "display_name": "SoS",
      "language": "sos",
      "name": "sos"
    },
    "language_info": {
      "codemirror_mode": "sos",
      "file_extension": ".sos",
      "mimetype": "text/x-sos",
      "name": "sos",
      "nbconvert_exporter": "sos_notebook.converter.SoS_Exporter",
      "pygments_lexer": "sos"
    },
    "sos": {
      "kernels": [
        [
          "Bash",
          "bash",
          "bash",
          "",
          "shell"
        ],
        [
          "C",
          "c_kernel",
          "c",
          "",
          ""
        ],
        [
          "Go",
          "gophernotes",
          "go",
          "",
          ""
        ],
        [
          "Julia 1.10.2",
          "julia-1.10",
          "julia",
          "",
          ""
        ],
        [
          "OCaml default",
          "ocaml-jupyter",
          "OCaml",
          "",
          "text/x-ocaml"
        ],
        [
          "Python 3 (ipykernel)",
          "python3",
          "python3",
          "",
          {
            "name": "ipython",
            "version": 3
          }
        ],
        [
          "Rust",
          "rust",
          "rust",
          "",
          ""
        ]
      ],
      "panel": {
        "displayed": true,
        "height": 0
      },
      "version": "0.23.3"
    }
  },
  "nbformat": 4,
  "nbformat_minor": 4
}